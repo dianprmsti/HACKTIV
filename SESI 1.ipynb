{
 "cells": [
  {
   "cell_type": "markdown",
   "id": "ecd6fbe4",
   "metadata": {},
   "source": [
    "TIPE DATA YANG SERING DIGUNAKAN:\n",
    "- INTEGER\n",
    "- FLOAT\n",
    "- STRING\n",
    "- BOOLEAN"
   ]
  },
  {
   "cell_type": "markdown",
   "id": "3ea608c9",
   "metadata": {},
   "source": [
    "INTEGER (bil bulat)"
   ]
  },
  {
   "cell_type": "code",
   "execution_count": 1,
   "id": "1a0b5e8f",
   "metadata": {
    "scrolled": true
   },
   "outputs": [
    {
     "name": "stdout",
     "output_type": "stream",
     "text": [
      "123123123\n"
     ]
    }
   ],
   "source": [
    "print(123123123)"
   ]
  },
  {
   "cell_type": "code",
   "execution_count": 2,
   "id": "eae7e99c",
   "metadata": {},
   "outputs": [
    {
     "name": "stdout",
     "output_type": "stream",
     "text": [
      "4\n",
      "<class 'int'>\n"
     ]
    }
   ],
   "source": [
    "print (4)\n",
    "print (type(4))"
   ]
  },
  {
   "cell_type": "markdown",
   "id": "cc5346a0",
   "metadata": {},
   "source": [
    "FLOAT (bil desimal)"
   ]
  },
  {
   "cell_type": "code",
   "execution_count": 3,
   "id": "2828d8b6",
   "metadata": {},
   "outputs": [
    {
     "name": "stdout",
     "output_type": "stream",
     "text": [
      "2.3\n",
      "<class 'float'>\n"
     ]
    }
   ],
   "source": [
    "print (2.3)\n",
    "print (type(2.3))"
   ]
  },
  {
   "cell_type": "code",
   "execution_count": 4,
   "id": "fa62fafd",
   "metadata": {},
   "outputs": [
    {
     "name": "stdout",
     "output_type": "stream",
     "text": [
      "0.00042\n",
      "<class 'float'>\n"
     ]
    }
   ],
   "source": [
    "print(4.2e-4)\n",
    "print(type(4.2e-4))"
   ]
  },
  {
   "cell_type": "markdown",
   "id": "ee89fb6b",
   "metadata": {},
   "source": [
    "STRING"
   ]
  },
  {
   "cell_type": "code",
   "execution_count": 5,
   "id": "4698264a",
   "metadata": {},
   "outputs": [
    {
     "name": "stdout",
     "output_type": "stream",
     "text": [
      "nama saya dian\n"
     ]
    }
   ],
   "source": [
    "print (\"nama saya dian\")"
   ]
  },
  {
   "cell_type": "code",
   "execution_count": 6,
   "id": "d339a033",
   "metadata": {},
   "outputs": [
    {
     "name": "stdout",
     "output_type": "stream",
     "text": [
      "<class 'str'>\n"
     ]
    }
   ],
   "source": [
    "print(type(\"halo\"))"
   ]
  },
  {
   "cell_type": "code",
   "execution_count": 7,
   "id": "d6770c36-2490-4b6e-a89d-768248385053",
   "metadata": {},
   "outputs": [
    {
     "name": "stdout",
     "output_type": "stream",
     "text": [
      "ini tanda petik ' \n"
     ]
    }
   ],
   "source": [
    "print(\"ini tanda petik ' \")"
   ]
  },
  {
   "cell_type": "markdown",
   "id": "46d37ddc",
   "metadata": {},
   "source": [
    "VARIABLE\n",
    "tidak boleh menggunakan spasi(bisa pake underscore),tidak boleh diawali angka"
   ]
  },
  {
   "cell_type": "code",
   "execution_count": 8,
   "id": "764f5002-adb2-44c5-8343-6035a3b743fc",
   "metadata": {},
   "outputs": [
    {
     "ename": "SyntaxError",
     "evalue": "invalid decimal literal (498904036.py, line 3)",
     "output_type": "error",
     "traceback": [
      "\u001b[1;36m  File \u001b[1;32m\"C:\\Users\\ASUS\\AppData\\Local\\Temp\\ipykernel_11172\\498904036.py\"\u001b[1;36m, line \u001b[1;32m3\u001b[0m\n\u001b[1;33m    9_angka = ('angka')\u001b[0m\n\u001b[1;37m     ^\u001b[0m\n\u001b[1;31mSyntaxError\u001b[0m\u001b[1;31m:\u001b[0m invalid decimal literal\n"
     ]
    }
   ],
   "source": [
    "# ini contoh variable yang salah\n",
    "\n",
    "9_angka = ('angka')\n",
    "angka sembilan = ('angka')\n",
    "print(9_angka)\n",
    "print(angka sembilan)"
   ]
  },
  {
   "cell_type": "code",
   "execution_count": 9,
   "id": "781e0875-3741-4d1f-9511-edb4ed4cb57c",
   "metadata": {},
   "outputs": [
    {
     "name": "stdout",
     "output_type": "stream",
     "text": [
      "string\n"
     ]
    }
   ],
   "source": [
    "# ini contoh variable yang benar\n",
    "\n",
    "angka_sembilan = ('string')\n",
    "print(angka_sembilan)"
   ]
  },
  {
   "cell_type": "markdown",
   "id": "7266a738-0e4f-4818-a8f4-6ac727396879",
   "metadata": {},
   "source": [
    "BOOLEAN (TRUE/FALSE)"
   ]
  },
  {
   "cell_type": "code",
   "execution_count": 10,
   "id": "2121d65a",
   "metadata": {},
   "outputs": [
    {
     "data": {
      "text/plain": [
       "False"
      ]
     },
     "execution_count": 10,
     "metadata": {},
     "output_type": "execute_result"
    }
   ],
   "source": [
    "True\n",
    "False"
   ]
  },
  {
   "cell_type": "code",
   "execution_count": 11,
   "id": "4fc7ad87",
   "metadata": {},
   "outputs": [
    {
     "name": "stdout",
     "output_type": "stream",
     "text": [
      "True\n"
     ]
    }
   ],
   "source": [
    "print(True)"
   ]
  },
  {
   "cell_type": "code",
   "execution_count": 12,
   "id": "c9646ad1",
   "metadata": {},
   "outputs": [
    {
     "name": "stdout",
     "output_type": "stream",
     "text": [
      "False\n"
     ]
    }
   ],
   "source": [
    "print(False)"
   ]
  },
  {
   "cell_type": "code",
   "execution_count": 13,
   "id": "c82e1fec",
   "metadata": {},
   "outputs": [
    {
     "name": "stdout",
     "output_type": "stream",
     "text": [
      "<class 'bool'>\n"
     ]
    }
   ],
   "source": [
    "print(type(True))"
   ]
  },
  {
   "cell_type": "markdown",
   "id": "0f3042c1",
   "metadata": {},
   "source": [
    "VARIABLE ASSIGNMENT"
   ]
  },
  {
   "cell_type": "code",
   "execution_count": 14,
   "id": "f1d1a882",
   "metadata": {},
   "outputs": [
    {
     "name": "stdout",
     "output_type": "stream",
     "text": [
      "59\n",
      "<class 'int'>\n",
      "<class 'int'>\n"
     ]
    }
   ],
   "source": [
    "angka = 59\n",
    "print (angka)\n",
    "print(type(angka))\n",
    "print(type(300))"
   ]
  },
  {
   "cell_type": "code",
   "execution_count": 15,
   "id": "33138966",
   "metadata": {},
   "outputs": [
    {
     "name": "stdout",
     "output_type": "stream",
     "text": [
      "hh\n",
      "<class 'str'>\n"
     ]
    }
   ],
   "source": [
    "text = \"hh\"\n",
    "print(text)\n",
    "print (type(text))"
   ]
  },
  {
   "cell_type": "code",
   "execution_count": 16,
   "id": "322d5ec3",
   "metadata": {},
   "outputs": [
    {
     "name": "stdout",
     "output_type": "stream",
     "text": [
      "2\n"
     ]
    }
   ],
   "source": [
    "a = b = c =2\n",
    "print(a)"
   ]
  },
  {
   "cell_type": "code",
   "execution_count": 17,
   "id": "f6d1f6bc",
   "metadata": {},
   "outputs": [
    {
     "name": "stdout",
     "output_type": "stream",
     "text": [
      "2 2 2\n"
     ]
    }
   ],
   "source": [
    "print(a,b,c)"
   ]
  },
  {
   "cell_type": "code",
   "execution_count": 18,
   "id": "6fa8421b",
   "metadata": {},
   "outputs": [
    {
     "name": "stdout",
     "output_type": "stream",
     "text": [
      "<class 'int'>\n"
     ]
    }
   ],
   "source": [
    "print(type(b))"
   ]
  },
  {
   "cell_type": "code",
   "execution_count": 19,
   "id": "aaeb2ea6",
   "metadata": {},
   "outputs": [
    {
     "name": "stdout",
     "output_type": "stream",
     "text": [
      "bekasi Jakarta\n"
     ]
    }
   ],
   "source": [
    "rumah = 'bekasi'\n",
    "Rumah = 'Jakarta'\n",
    "print(rumah,Rumah)"
   ]
  },
  {
   "cell_type": "code",
   "execution_count": 20,
   "id": "ce3face8",
   "metadata": {},
   "outputs": [],
   "source": [
    "# komentar (ctrl + /)"
   ]
  },
  {
   "cell_type": "markdown",
   "id": "600f43c7",
   "metadata": {},
   "source": [
    "OPERATORS(OPERASI ARITMATIKA \n",
    "1. (+) penjumlahan \n",
    "2. (/) pembagian\n",
    "3. (-) pengurangan\n",
    "4. (*) perkalian\n",
    "5. (//) pembulatan kebawah\n",
    "6. (%) modulo\n",
    "7. (**) perpangkatan"
   ]
  },
  {
   "cell_type": "code",
   "execution_count": 21,
   "id": "41c2be0e",
   "metadata": {},
   "outputs": [
    {
     "name": "stdout",
     "output_type": "stream",
     "text": [
      "15\n",
      "2.0\n",
      "50\n",
      "2\n",
      "<class 'float'>\n",
      "<class 'int'>\n"
     ]
    }
   ],
   "source": [
    "a = 10\n",
    "b = 5\n",
    "print (a+b)\n",
    "print (a/b)\n",
    "print (a*b)\n",
    "print (a//b)\n",
    "print (type(10/5))\n",
    "print (type(10//5))"
   ]
  },
  {
   "cell_type": "code",
   "execution_count": 22,
   "id": "93a6737d",
   "metadata": {},
   "outputs": [
    {
     "name": "stdout",
     "output_type": "stream",
     "text": [
      "1\n"
     ]
    }
   ],
   "source": [
    "print(11%2)"
   ]
  },
  {
   "cell_type": "code",
   "execution_count": 23,
   "id": "09158b70",
   "metadata": {},
   "outputs": [
    {
     "name": "stdout",
     "output_type": "stream",
     "text": [
      "9\n"
     ]
    }
   ],
   "source": [
    "print(3**2)"
   ]
  },
  {
   "cell_type": "code",
   "execution_count": 24,
   "id": "6ebd01b5",
   "metadata": {},
   "outputs": [
    {
     "name": "stdout",
     "output_type": "stream",
     "text": [
      "86.0\n"
     ]
    }
   ],
   "source": [
    "# quiz 30c ke f\n",
    "z = 30 \n",
    "f = z* 9/5 + 32\n",
    "print (f)"
   ]
  },
  {
   "cell_type": "markdown",
   "id": "7ed955f1",
   "metadata": {},
   "source": [
    "COMPARISON OPERATORS\n",
    "\n",
    "- persamaan (==)\n",
    "- lebih dari (>)\n",
    "- lebih dari sama dengan (>=)\n",
    "- kurang dari (<)\n",
    "- kurang dari sama dengan (<=)\n",
    "- tidak sama dengan/not equal (!=)"
   ]
  },
  {
   "cell_type": "code",
   "execution_count": 25,
   "id": "361e167e",
   "metadata": {},
   "outputs": [
    {
     "name": "stdout",
     "output_type": "stream",
     "text": [
      "False\n",
      "False\n",
      "False\n",
      "True\n"
     ]
    }
   ],
   "source": [
    "x = 10\n",
    "y = 30\n",
    "z = 40\n",
    "print(x==y)\n",
    "print(y==z)\n",
    "print(x>y)\n",
    "print(y<z)"
   ]
  },
  {
   "cell_type": "code",
   "execution_count": 26,
   "id": "d50c38c4",
   "metadata": {},
   "outputs": [
    {
     "name": "stdout",
     "output_type": "stream",
     "text": [
      "True\n",
      "True\n"
     ]
    }
   ],
   "source": [
    "print(x!=y)\n",
    "print(y!=z)"
   ]
  },
  {
   "cell_type": "markdown",
   "id": "0f745c40",
   "metadata": {},
   "source": [
    "STRING MANIPULATION"
   ]
  },
  {
   "cell_type": "code",
   "execution_count": 27,
   "id": "78766c4c",
   "metadata": {},
   "outputs": [
    {
     "name": "stdout",
     "output_type": "stream",
     "text": [
      "foobar\n",
      "barbaz\n",
      "foofoofoofoo\n"
     ]
    }
   ],
   "source": [
    "s = \"foo\"\n",
    "t = \"bar\"\n",
    "u = \"baz\"\n",
    "print(s+t)\n",
    "print(t+u)\n",
    "print(s*4)"
   ]
  },
  {
   "cell_type": "markdown",
   "id": "92f9e2af",
   "metadata": {},
   "source": [
    "OPERATOR IN"
   ]
  },
  {
   "cell_type": "code",
   "execution_count": 28,
   "id": "60b2aaae",
   "metadata": {},
   "outputs": [
    {
     "name": "stdout",
     "output_type": "stream",
     "text": [
      "True\n",
      "False\n"
     ]
    }
   ],
   "source": [
    "a = 'buah'\n",
    "print (a in \"saya mau beli buah\")\n",
    "print (a in \"saya mau singkong\")"
   ]
  },
  {
   "cell_type": "markdown",
   "id": "f9ba9086",
   "metadata": {},
   "source": [
    "CASE CONVERSION\n",
    "\n",
    "- upper case menggunakan upper\n",
    "- lower case menggunakan lower\n",
    "- capitalize menggunakan capatilize"
   ]
  },
  {
   "cell_type": "code",
   "execution_count": 29,
   "id": "85187640",
   "metadata": {},
   "outputs": [
    {
     "name": "stdout",
     "output_type": "stream",
     "text": [
      "KOTA SEMARANG\n",
      "kota semarang\n",
      "Kota semarang\n",
      "Kota Semarang\n",
      "KOTA SEMARANG\n"
     ]
    }
   ],
   "source": [
    "a = 'kota semarang'\n",
    "print (a.upper())\n",
    "print (a.lower())\n",
    "print (a.capitalize())\n",
    "print (a.title())\n",
    "print (a.swapcase())"
   ]
  },
  {
   "cell_type": "markdown",
   "id": "8efd5711",
   "metadata": {},
   "source": [
    "LISTS"
   ]
  },
  {
   "cell_type": "code",
   "execution_count": 30,
   "id": "49914565",
   "metadata": {},
   "outputs": [
    {
     "name": "stdout",
     "output_type": "stream",
     "text": [
      "['aku', 'mau', 'pergi']\n"
     ]
    }
   ],
   "source": [
    "a = ['aku','mau','pergi']\n",
    "print(a)"
   ]
  },
  {
   "cell_type": "code",
   "execution_count": 31,
   "id": "e92018b9",
   "metadata": {},
   "outputs": [
    {
     "name": "stdout",
     "output_type": "stream",
     "text": [
      "['aku', 1, True, 3.7]\n"
     ]
    }
   ],
   "source": [
    "b = ['aku',1,True,3.7]\n",
    "print(b)"
   ]
  },
  {
   "cell_type": "markdown",
   "id": "46b5a39e",
   "metadata": {},
   "source": [
    "INDEXING DAN SLICING"
   ]
  },
  {
   "cell_type": "code",
   "execution_count": 32,
   "id": "2863647c",
   "metadata": {},
   "outputs": [
    {
     "name": "stdout",
     "output_type": "stream",
     "text": [
      "['foo', 'bar', 'baz', 'qux', 'quux', 'corge']\n"
     ]
    }
   ],
   "source": [
    "a = ['foo','bar','baz','qux','quux','corge']\n",
    "print(a)"
   ]
  },
  {
   "cell_type": "code",
   "execution_count": 33,
   "id": "34f69fd3",
   "metadata": {},
   "outputs": [
    {
     "name": "stdout",
     "output_type": "stream",
     "text": [
      "foo\n",
      "qux\n",
      "foo\n",
      "True\n"
     ]
    }
   ],
   "source": [
    "# Indexing\n",
    "print(a[0])\n",
    "print(a[3])\n",
    "print(a[-6])\n",
    "print(a[-6]==a[0])"
   ]
  },
  {
   "cell_type": "code",
   "execution_count": 34,
   "id": "d89085dc",
   "metadata": {},
   "outputs": [
    {
     "name": "stdout",
     "output_type": "stream",
     "text": [
      "i\n"
     ]
    }
   ],
   "source": [
    "x = 'budi'\n",
    "print(x[-1])"
   ]
  },
  {
   "cell_type": "markdown",
   "id": "a0ef7600",
   "metadata": {},
   "source": [
    "PRINSIP SLICING = [start:stop:step]"
   ]
  },
  {
   "cell_type": "code",
   "execution_count": 35,
   "id": "e634868d",
   "metadata": {},
   "outputs": [
    {
     "name": "stdout",
     "output_type": "stream",
     "text": [
      "['foo', 'bar', 'baz', 'qux', 'quux', 'corge']\n",
      "['bar', 'baz', 'qux', 'quux', 'corge']\n"
     ]
    }
   ],
   "source": [
    "# slicing\n",
    "a = ['foo','bar','baz','qux','quux','corge']\n",
    "print(a[0:6])\n",
    "print(a[1:])"
   ]
  },
  {
   "cell_type": "code",
   "execution_count": 36,
   "id": "0fa9c122",
   "metadata": {},
   "outputs": [
    {
     "name": "stdout",
     "output_type": "stream",
     "text": [
      "ud\n",
      "udi\n"
     ]
    }
   ],
   "source": [
    "x = 'budi'\n",
    "print(x[1:3])\n",
    "print(x[1:])"
   ]
  },
  {
   "cell_type": "code",
   "execution_count": 37,
   "id": "ec97822f",
   "metadata": {},
   "outputs": [
    {
     "name": "stdout",
     "output_type": "stream",
     "text": [
      "aragenayruS rikgniT akaJ\n"
     ]
    }
   ],
   "source": [
    "y = 'Jaka Tingkir Suryanegara'\n",
    "print(y[::-1])"
   ]
  },
  {
   "cell_type": "code",
   "execution_count": 38,
   "id": "e13e1cb1",
   "metadata": {},
   "outputs": [
    {
     "name": "stdout",
     "output_type": "stream",
     "text": [
      "i\n",
      "omi\n",
      "tmen\n",
      "kmte\n",
      "kmtn\n"
     ]
    }
   ],
   "source": [
    "# quiz\n",
    "a = 'komitmen'\n",
    "print(a[3])\n",
    "print(a[1:4])\n",
    "print(a[4:9])\n",
    "print(a[0::2])\n",
    "print(a[0]+a[2]+a[4]+a[7])"
   ]
  },
  {
   "cell_type": "markdown",
   "id": "e9b0c6ab",
   "metadata": {},
   "source": [
    "MODIFY LIST VALUES BASED ON ITS INDEX"
   ]
  },
  {
   "cell_type": "code",
   "execution_count": 39,
   "id": "cc83036c",
   "metadata": {},
   "outputs": [],
   "source": [
    "a = ['foo','bar','baz','qux','quux','corge','quux']\n",
    "a[a.index('qux')] = 20"
   ]
  },
  {
   "cell_type": "code",
   "execution_count": 40,
   "id": "2faa008c",
   "metadata": {},
   "outputs": [
    {
     "name": "stdout",
     "output_type": "stream",
     "text": [
      "['foo', 'bar', 'baz', 20, 'corge', 'quux']\n"
     ]
    }
   ],
   "source": [
    "# del command\n",
    "del a[a.index('quux')]\n",
    "print(a)"
   ]
  },
  {
   "cell_type": "code",
   "execution_count": 41,
   "id": "b31e01ef",
   "metadata": {},
   "outputs": [
    {
     "name": "stdout",
     "output_type": "stream",
     "text": [
      "['foo', 'bar', 'baz', 20, 'corge', 'quux']\n"
     ]
    }
   ],
   "source": [
    "print(a)"
   ]
  },
  {
   "cell_type": "code",
   "execution_count": 42,
   "id": "51f09e96",
   "metadata": {},
   "outputs": [
    {
     "name": "stdout",
     "output_type": "stream",
     "text": [
      "[1, 2, 3, 'qux', 'quux', 'corge', 'quux']\n"
     ]
    }
   ],
   "source": [
    "a = ['foo','bar','baz','qux','quux','corge','quux']\n",
    "a[0:3] = [1,2,3]\n",
    "print(a)"
   ]
  },
  {
   "cell_type": "markdown",
   "id": "a054a89f",
   "metadata": {},
   "source": [
    "TUPLE"
   ]
  },
  {
   "cell_type": "code",
   "execution_count": 43,
   "id": "ceaf90e0",
   "metadata": {},
   "outputs": [
    {
     "name": "stdout",
     "output_type": "stream",
     "text": [
      "<class 'tuple'>\n"
     ]
    }
   ],
   "source": [
    "t = ('foo','bar','baz','qux','quux','corge','quux')\n",
    "print(type(t))"
   ]
  },
  {
   "cell_type": "code",
   "execution_count": 44,
   "id": "8c4aba38",
   "metadata": {},
   "outputs": [
    {
     "ename": "TypeError",
     "evalue": "'tuple' object does not support item assignment",
     "output_type": "error",
     "traceback": [
      "\u001b[1;31m---------------------------------------------------------------------------\u001b[0m",
      "\u001b[1;31mTypeError\u001b[0m                                 Traceback (most recent call last)",
      "\u001b[1;32m~\\AppData\\Local\\Temp\\ipykernel_11172\\1627327055.py\u001b[0m in \u001b[0;36m<module>\u001b[1;34m\u001b[0m\n\u001b[1;32m----> 1\u001b[1;33m \u001b[0mt\u001b[0m\u001b[1;33m[\u001b[0m\u001b[1;36m0\u001b[0m\u001b[1;33m]\u001b[0m\u001b[1;33m=\u001b[0m\u001b[1;36m1\u001b[0m\u001b[1;33m\u001b[0m\u001b[1;33m\u001b[0m\u001b[0m\n\u001b[0m",
      "\u001b[1;31mTypeError\u001b[0m: 'tuple' object does not support item assignment"
     ]
    }
   ],
   "source": [
    "t[0]=1"
   ]
  },
  {
   "cell_type": "markdown",
   "id": "3e9ac0ea",
   "metadata": {},
   "source": [
    "DICTIONARY"
   ]
  },
  {
   "cell_type": "code",
   "execution_count": 45,
   "id": "45b9ed9f",
   "metadata": {},
   "outputs": [],
   "source": [
    "MLB_team = {\n",
    "    'Colorado':'Rockies',\n",
    "    'Boston':'Red Sox',\n",
    "    'Minnesota':'Twins',\n",
    "    'Milwaukee':'Brewers',\n",
    "    'Seattle':'Mariners'\n",
    "}"
   ]
  },
  {
   "cell_type": "code",
   "execution_count": 46,
   "id": "b678a25e",
   "metadata": {},
   "outputs": [
    {
     "name": "stdout",
     "output_type": "stream",
     "text": [
      "Rockies\n",
      "Red Sox\n"
     ]
    }
   ],
   "source": [
    "print(MLB_team['Colorado'])\n",
    "print(MLB_team['Boston'])"
   ]
  },
  {
   "cell_type": "code",
   "execution_count": 47,
   "id": "a7ac0b08",
   "metadata": {},
   "outputs": [
    {
     "name": "stdout",
     "output_type": "stream",
     "text": [
      "{'Colorado': 'Rockies', 'Boston': 'Red Sox', 'Minnesota': 'Twins', 'Milwaukee': 'Brewers', 'Seattle': 'Mariners', 'Kansas City': 'Royals'}\n"
     ]
    }
   ],
   "source": [
    "# Assign Kota Baru\n",
    "MLB_team['Kansas City'] = 'Royals'\n",
    "print(MLB_team)"
   ]
  },
  {
   "cell_type": "code",
   "execution_count": 48,
   "id": "a67e0b3f",
   "metadata": {},
   "outputs": [
    {
     "name": "stdout",
     "output_type": "stream",
     "text": [
      "{'Colorado': 'Rockies', 'Boston': 'Red Sox', 'Minnesota': 'Twins', 'Milwaukee': 'Brewers', 'Seattle': 'Seahawks', 'Kansas City': 'Royals'}\n"
     ]
    }
   ],
   "source": [
    "#Update Tim Kota\n",
    "MLB_team['Seattle'] = 'Seahawks'\n",
    "print(MLB_team)"
   ]
  },
  {
   "cell_type": "code",
   "execution_count": 49,
   "id": "e3f39cee",
   "metadata": {},
   "outputs": [
    {
     "name": "stdout",
     "output_type": "stream",
     "text": [
      "{'Boston': 'Red Sox', 'Minnesota': 'Twins', 'Milwaukee': 'Brewers', 'Seattle': 'Seahawks', 'Kansas City': 'Royals'}\n"
     ]
    }
   ],
   "source": [
    "# del command\n",
    "del MLB_team['Colorado']\n",
    "print(MLB_team)"
   ]
  },
  {
   "cell_type": "markdown",
   "id": "cdf7c1e1",
   "metadata": {},
   "source": [
    "DICTIONARY"
   ]
  },
  {
   "cell_type": "code",
   "execution_count": 50,
   "id": "a52828e8",
   "metadata": {},
   "outputs": [
    {
     "name": "stdout",
     "output_type": "stream",
     "text": [
      "<class 'dict'>\n"
     ]
    }
   ],
   "source": [
    "orang = {}\n",
    "print(type(orang))"
   ]
  },
  {
   "cell_type": "code",
   "execution_count": 51,
   "id": "995c2ec5",
   "metadata": {},
   "outputs": [
    {
     "data": {
      "text/plain": [
       "{'Nama': 'Budi',\n",
       " 'Kota': 'Solo',\n",
       " 'Umur': 32,\n",
       " 'Anak': ['Budi', 'Sarah', 'Syifa'],\n",
       " 'Kendaraan': {'mobil': 'Innova', 'motor': 'mio'}}"
      ]
     },
     "execution_count": 51,
     "metadata": {},
     "output_type": "execute_result"
    }
   ],
   "source": [
    "orang['Nama'] = 'Budi'\n",
    "orang['Kota'] = 'Solo'\n",
    "orang['Umur'] = 32\n",
    "orang['Anak'] = ['Budi','Sarah','Syifa']\n",
    "orang['Kendaraan'] ={'mobil':'Innova','motor':'mio'}\n",
    "orang"
   ]
  },
  {
   "cell_type": "code",
   "execution_count": 52,
   "id": "bcdc6902",
   "metadata": {},
   "outputs": [
    {
     "name": "stdout",
     "output_type": "stream",
     "text": [
      "mio\n"
     ]
    }
   ],
   "source": [
    "print(orang['Kendaraan']['motor'])"
   ]
  },
  {
   "cell_type": "code",
   "execution_count": 53,
   "id": "fb5f1ee1",
   "metadata": {},
   "outputs": [
    {
     "name": "stdout",
     "output_type": "stream",
     "text": [
      "['Budi', 'Sarah']\n"
     ]
    }
   ],
   "source": [
    "print(orang['Anak'][0:2])"
   ]
  },
  {
   "cell_type": "markdown",
   "id": "d2328f89",
   "metadata": {},
   "source": [
    "LINE CONTINUATION"
   ]
  },
  {
   "cell_type": "code",
   "execution_count": 54,
   "id": "c2fe29dc",
   "metadata": {},
   "outputs": [
    {
     "name": "stdout",
     "output_type": "stream",
     "text": [
      "True\n",
      "False\n",
      "True\n",
      "True\n",
      "False\n",
      "False\n"
     ]
    }
   ],
   "source": [
    "print(True and True)\n",
    "print(True and False)\n",
    "print(True or True)\n",
    "print(True or False)\n",
    "print(False and False)\n",
    "print(False or False)"
   ]
  },
  {
   "cell_type": "code",
   "execution_count": 55,
   "id": "4aa07f8d",
   "metadata": {},
   "outputs": [
    {
     "name": "stdout",
     "output_type": "stream",
     "text": [
      "True\n",
      "False\n",
      "False\n"
     ]
    }
   ],
   "source": [
    "# kerja diantara umur 16-65\n",
    "umur1 = 42\n",
    "umur2 = 16\n",
    "umur3=71\n",
    "\n",
    "print(umur1>=18 and umur1<=65)\n",
    "print(umur2>=18 and umur2<=65)\n",
    "print(umur3>=18 and umur3<=65)"
   ]
  },
  {
   "cell_type": "code",
   "execution_count": 56,
   "id": "91cb0bd5",
   "metadata": {},
   "outputs": [
    {
     "name": "stdout",
     "output_type": "stream",
     "text": [
      "True\n"
     ]
    }
   ],
   "source": [
    "print((umur1>=18 and umur1<=65) or (umur2>=18 and umur2<=65) or (umur3>=18 and umur3<=65))"
   ]
  },
  {
   "cell_type": "markdown",
   "id": "aca9c976",
   "metadata": {},
   "source": [
    "TAMBAHAN"
   ]
  },
  {
   "cell_type": "code",
   "execution_count": 57,
   "id": "0ecf3a9d",
   "metadata": {},
   "outputs": [
    {
     "name": "stdout",
     "output_type": "stream",
     "text": [
      "['Toyota', 'Kijang', 'Isuzu']\n"
     ]
    }
   ],
   "source": [
    "mobil = ['Toyota','Kijang']\n",
    "mobil = mobil + ['Isuzu']\n",
    "print(mobil)"
   ]
  },
  {
   "cell_type": "code",
   "execution_count": 58,
   "id": "92bcfe92",
   "metadata": {},
   "outputs": [
    {
     "name": "stdout",
     "output_type": "stream",
     "text": [
      "['Toyota', 'Kijang', 'Isuzu']\n"
     ]
    }
   ],
   "source": [
    "mobil = ['Toyota','Kijang']\n",
    "mobil.append('Isuzu')\n",
    "print(mobil)"
   ]
  },
  {
   "cell_type": "code",
   "execution_count": 59,
   "id": "b5f44005",
   "metadata": {},
   "outputs": [
    {
     "name": "stdout",
     "output_type": "stream",
     "text": [
      "['Toyota', 'Kijang', 'Isuzu']\n"
     ]
    }
   ],
   "source": [
    "kendaraan = mobil.copy()\n",
    "print(kendaraan)"
   ]
  },
  {
   "cell_type": "code",
   "execution_count": 60,
   "id": "e2658760",
   "metadata": {},
   "outputs": [
    {
     "name": "stdout",
     "output_type": "stream",
     "text": [
      "['Toyota', 'Kijang', 'Isuzu', 'Innova', 'Innova']\n",
      "['Toyota', 'Kijang', 'Isuzu']\n"
     ]
    }
   ],
   "source": [
    "kendaraan.append('Innova')\n",
    "kendaraan.append('Innova')\n",
    "\n",
    "print(kendaraan)\n",
    "print(mobil)"
   ]
  },
  {
   "cell_type": "code",
   "execution_count": 61,
   "id": "9350c532",
   "metadata": {},
   "outputs": [
    {
     "name": "stdout",
     "output_type": "stream",
     "text": [
      "['Toyota', 'Kijang', 'Isuzu', 'Innova', 'Innova']\n"
     ]
    }
   ],
   "source": [
    "print(kendaraan)"
   ]
  },
  {
   "cell_type": "code",
   "execution_count": 62,
   "id": "e250761c",
   "metadata": {},
   "outputs": [],
   "source": [
    "kendaraan.remove('Innova')"
   ]
  },
  {
   "cell_type": "code",
   "execution_count": 63,
   "id": "f471eba4",
   "metadata": {},
   "outputs": [
    {
     "name": "stdout",
     "output_type": "stream",
     "text": [
      "['Pisang', 'Apel']\n"
     ]
    }
   ],
   "source": [
    "buah = ['Pisang','Jeruk','Apel']\n",
    "buah.pop(1)\n",
    "print(buah)"
   ]
  }
 ],
 "metadata": {
  "kernelspec": {
   "display_name": "Python 3 (ipykernel)",
   "language": "python",
   "name": "python3"
  },
  "language_info": {
   "codemirror_mode": {
    "name": "ipython",
    "version": 3
   },
   "file_extension": ".py",
   "mimetype": "text/x-python",
   "name": "python",
   "nbconvert_exporter": "python",
   "pygments_lexer": "ipython3",
   "version": "3.9.13"
  }
 },
 "nbformat": 4,
 "nbformat_minor": 5
}
