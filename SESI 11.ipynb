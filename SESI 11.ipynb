{
  "cells": [
    {
      "cell_type": "markdown",
      "id": "80ed98c8-7d92-45f1-9846-9325fae655f9",
      "metadata": {
        "id": "80ed98c8-7d92-45f1-9846-9325fae655f9"
      },
      "source": [
        "# Machine Learning - Regresi"
      ]
    },
    {
      "cell_type": "code",
      "source": [
        "from google.colab import drive\n",
        "drive.mount('/content/drive')"
      ],
      "metadata": {
        "colab": {
          "base_uri": "https://localhost:8080/"
        },
        "id": "wri0ReSkoGlF",
        "outputId": "5f7bafcf-6ecc-4d81-da45-14245dbd0b4d"
      },
      "id": "wri0ReSkoGlF",
      "execution_count": 1,
      "outputs": [
        {
          "output_type": "stream",
          "name": "stdout",
          "text": [
            "Drive already mounted at /content/drive; to attempt to forcibly remount, call drive.mount(\"/content/drive\", force_remount=True).\n"
          ]
        }
      ]
    },
    {
      "cell_type": "markdown",
      "id": "0ebac14e-ccf0-4bc7-9b9d-ce0b7bc32602",
      "metadata": {
        "id": "0ebac14e-ccf0-4bc7-9b9d-ce0b7bc32602"
      },
      "source": [
        "# Regresi\n",
        "Model yang menghasilkan angka daripada kelas/kategori.\n",
        "\n",
        "Teknik dalam machine learning yang digunakan untuk memprediksi nilai kontinu (numerik) dari suatu variabel target berdasarkan nilai-nilai dari satu atau lebih variabel prediktor (input). "
      ]
    },
    {
      "cell_type": "markdown",
      "id": "a9e4b43e-5f94-4d43-b37e-141c9af62037",
      "metadata": {
        "id": "a9e4b43e-5f94-4d43-b37e-141c9af62037"
      },
      "source": [
        "y = 2x + 3"
      ]
    },
    {
      "cell_type": "code",
      "execution_count": 2,
      "id": "df630c18-9947-41e5-bbe5-f06c398f2a5d",
      "metadata": {
        "id": "df630c18-9947-41e5-bbe5-f06c398f2a5d",
        "outputId": "b5124010-4761-41f2-ea05-a2dded0be6a2",
        "colab": {
          "base_uri": "https://localhost:8080/"
        }
      },
      "outputs": [
        {
          "output_type": "stream",
          "name": "stdout",
          "text": [
            "3\n",
            "9\n"
          ]
        }
      ],
      "source": [
        "x = int(input())\n",
        "y = 2*x +3\n",
        "print(y)"
      ]
    },
    {
      "cell_type": "markdown",
      "id": "0c6f03d0-a65e-4678-8ed5-2ecde808570a",
      "metadata": {
        "id": "0c6f03d0-a65e-4678-8ed5-2ecde808570a"
      },
      "source": [
        "# Underfitting Overfitting\n",
        "\n",
        "Underfitting terjadi ketika model terlalu sederhana dan tidak dapat mempelajari pola yang kompleks dalam data, sedangkan overfitting terjadi ketika model terlalu kompleks dan terlalu cocok pada data latih, sehingga tidak dapat generalisasi dengan baik pada data uji. Untuk menghindari underfitting atau overfitting, kita perlu membagi data menjadi data latih dan data uji, dan mengukur performa model pada kedua data tersebut. Kita dapat menyesuaikan model kita secara iteratif hingga mendapatkan performa yang optimal pada kedua data latih dan data uji."
      ]
    },
    {
      "cell_type": "markdown",
      "id": "433390b3-ae88-4b66-baa5-3d37292df40b",
      "metadata": {
        "id": "433390b3-ae88-4b66-baa5-3d37292df40b"
      },
      "source": [
        "1. Metric pada Data Training Jauh Lebih Baik dibandingkan pada testing (Overfitting)\n",
        "2. Metric pada Data Training Jauh Lebih Buruk dibandingkan pada testing (Underfitting)\n",
        "3. Metric pada Data Training Sama baiknya dibandingkan data testing (Well-Fit)"
      ]
    },
    {
      "cell_type": "markdown",
      "id": "d8a0197e-473d-49b6-8c2d-26d1be6dcf53",
      "metadata": {
        "id": "d8a0197e-473d-49b6-8c2d-26d1be6dcf53"
      },
      "source": [
        "## Import Libraries"
      ]
    },
    {
      "cell_type": "code",
      "execution_count": 3,
      "id": "e4501122-7bed-4eec-b6c2-4732ca2bdd85",
      "metadata": {
        "id": "e4501122-7bed-4eec-b6c2-4732ca2bdd85"
      },
      "outputs": [],
      "source": [
        "import numpy as np\n",
        "import matplotlib.pyplot as plt\n",
        "from sklearn.linear_model import LinearRegression"
      ]
    },
    {
      "cell_type": "code",
      "execution_count": 4,
      "id": "90849a26-f72f-44a8-8def-6055f68aed62",
      "metadata": {
        "id": "90849a26-f72f-44a8-8def-6055f68aed62"
      },
      "outputs": [],
      "source": [
        "%matplotlib inline"
      ]
    },
    {
      "cell_type": "markdown",
      "id": "52544745-7b5f-4a84-b7f0-79ab464ad296",
      "metadata": {
        "id": "52544745-7b5f-4a84-b7f0-79ab464ad296"
      },
      "source": [
        "# Simple Linear Regression\n",
        "\n",
        "Simple linear regression adalah jenis regresi linier yang digunakan untuk memprediksi nilai variabel target (output) berdasarkan satu variabel prediktor (input) yang bersifat kontinu. Regresi ini mencari hubungan linier antara variabel target dan variabel prediktor. Model simple linear regression dapat digambarkan dalam bentuk persamaan garis lurus:\n",
        "\n",
        "y = a + bx\n",
        "\n",
        "y (variabel target), x (variabel prediktor), a (konstanta), dan b (kemiringan garis (slope)). \n",
        "\n",
        "atau \n",
        "\n",
        "y = mx + b\n",
        "\n",
        "y (target), m (slope), b (intercept).\n",
        "\n",
        "Tujuan dari simple linear regression adalah untuk menemukan nilai-nilai a dan b yang dapat meminimalkan jumlah kesalahan prediksi (error) antara nilai sebenarnya dan nilai yang diprediksi oleh model."
      ]
    },
    {
      "cell_type": "code",
      "execution_count": 5,
      "id": "44c9a5ce-7d11-4b1b-94b8-6442bb0f3c31",
      "metadata": {
        "id": "44c9a5ce-7d11-4b1b-94b8-6442bb0f3c31"
      },
      "outputs": [],
      "source": [
        "x = np.array([5, 15, 25, 35, 45, 55]).reshape((-1,1)) \n",
        "y = np.array([5, 20, 14, 32, 22, 38])"
      ]
    },
    {
      "cell_type": "code",
      "execution_count": 6,
      "id": "95d91827-7893-4e29-be29-d3ce9d50db52",
      "metadata": {
        "id": "95d91827-7893-4e29-be29-d3ce9d50db52",
        "outputId": "239df0a2-e91f-4065-f73f-c2e79351ca13",
        "colab": {
          "base_uri": "https://localhost:8080/"
        }
      },
      "outputs": [
        {
          "output_type": "stream",
          "name": "stdout",
          "text": [
            "[[ 5]\n",
            " [15]\n",
            " [25]\n",
            " [35]\n",
            " [45]\n",
            " [55]]\n",
            "[ 5 20 14 32 22 38]\n"
          ]
        }
      ],
      "source": [
        "print(x)\n",
        "print(y)"
      ]
    },
    {
      "cell_type": "code",
      "execution_count": 7,
      "id": "ba4bb5ae-64e0-43e0-b964-57619dee3ed9",
      "metadata": {
        "id": "ba4bb5ae-64e0-43e0-b964-57619dee3ed9"
      },
      "outputs": [],
      "source": [
        "model = LinearRegression()"
      ]
    },
    {
      "cell_type": "code",
      "execution_count": 8,
      "id": "7fbbcb7f-3277-4dc8-a782-7a06f6479f1a",
      "metadata": {
        "id": "7fbbcb7f-3277-4dc8-a782-7a06f6479f1a",
        "outputId": "49239b9a-be6d-4a42-8153-74fecc712ef4",
        "colab": {
          "base_uri": "https://localhost:8080/",
          "height": 75
        }
      },
      "outputs": [
        {
          "output_type": "execute_result",
          "data": {
            "text/plain": [
              "LinearRegression()"
            ],
            "text/html": [
              "<style>#sk-container-id-1 {color: black;background-color: white;}#sk-container-id-1 pre{padding: 0;}#sk-container-id-1 div.sk-toggleable {background-color: white;}#sk-container-id-1 label.sk-toggleable__label {cursor: pointer;display: block;width: 100%;margin-bottom: 0;padding: 0.3em;box-sizing: border-box;text-align: center;}#sk-container-id-1 label.sk-toggleable__label-arrow:before {content: \"▸\";float: left;margin-right: 0.25em;color: #696969;}#sk-container-id-1 label.sk-toggleable__label-arrow:hover:before {color: black;}#sk-container-id-1 div.sk-estimator:hover label.sk-toggleable__label-arrow:before {color: black;}#sk-container-id-1 div.sk-toggleable__content {max-height: 0;max-width: 0;overflow: hidden;text-align: left;background-color: #f0f8ff;}#sk-container-id-1 div.sk-toggleable__content pre {margin: 0.2em;color: black;border-radius: 0.25em;background-color: #f0f8ff;}#sk-container-id-1 input.sk-toggleable__control:checked~div.sk-toggleable__content {max-height: 200px;max-width: 100%;overflow: auto;}#sk-container-id-1 input.sk-toggleable__control:checked~label.sk-toggleable__label-arrow:before {content: \"▾\";}#sk-container-id-1 div.sk-estimator input.sk-toggleable__control:checked~label.sk-toggleable__label {background-color: #d4ebff;}#sk-container-id-1 div.sk-label input.sk-toggleable__control:checked~label.sk-toggleable__label {background-color: #d4ebff;}#sk-container-id-1 input.sk-hidden--visually {border: 0;clip: rect(1px 1px 1px 1px);clip: rect(1px, 1px, 1px, 1px);height: 1px;margin: -1px;overflow: hidden;padding: 0;position: absolute;width: 1px;}#sk-container-id-1 div.sk-estimator {font-family: monospace;background-color: #f0f8ff;border: 1px dotted black;border-radius: 0.25em;box-sizing: border-box;margin-bottom: 0.5em;}#sk-container-id-1 div.sk-estimator:hover {background-color: #d4ebff;}#sk-container-id-1 div.sk-parallel-item::after {content: \"\";width: 100%;border-bottom: 1px solid gray;flex-grow: 1;}#sk-container-id-1 div.sk-label:hover label.sk-toggleable__label {background-color: #d4ebff;}#sk-container-id-1 div.sk-serial::before {content: \"\";position: absolute;border-left: 1px solid gray;box-sizing: border-box;top: 0;bottom: 0;left: 50%;z-index: 0;}#sk-container-id-1 div.sk-serial {display: flex;flex-direction: column;align-items: center;background-color: white;padding-right: 0.2em;padding-left: 0.2em;position: relative;}#sk-container-id-1 div.sk-item {position: relative;z-index: 1;}#sk-container-id-1 div.sk-parallel {display: flex;align-items: stretch;justify-content: center;background-color: white;position: relative;}#sk-container-id-1 div.sk-item::before, #sk-container-id-1 div.sk-parallel-item::before {content: \"\";position: absolute;border-left: 1px solid gray;box-sizing: border-box;top: 0;bottom: 0;left: 50%;z-index: -1;}#sk-container-id-1 div.sk-parallel-item {display: flex;flex-direction: column;z-index: 1;position: relative;background-color: white;}#sk-container-id-1 div.sk-parallel-item:first-child::after {align-self: flex-end;width: 50%;}#sk-container-id-1 div.sk-parallel-item:last-child::after {align-self: flex-start;width: 50%;}#sk-container-id-1 div.sk-parallel-item:only-child::after {width: 0;}#sk-container-id-1 div.sk-dashed-wrapped {border: 1px dashed gray;margin: 0 0.4em 0.5em 0.4em;box-sizing: border-box;padding-bottom: 0.4em;background-color: white;}#sk-container-id-1 div.sk-label label {font-family: monospace;font-weight: bold;display: inline-block;line-height: 1.2em;}#sk-container-id-1 div.sk-label-container {text-align: center;}#sk-container-id-1 div.sk-container {/* jupyter's `normalize.less` sets `[hidden] { display: none; }` but bootstrap.min.css set `[hidden] { display: none !important; }` so we also need the `!important` here to be able to override the default hidden behavior on the sphinx rendered scikit-learn.org. See: https://github.com/scikit-learn/scikit-learn/issues/21755 */display: inline-block !important;position: relative;}#sk-container-id-1 div.sk-text-repr-fallback {display: none;}</style><div id=\"sk-container-id-1\" class=\"sk-top-container\"><div class=\"sk-text-repr-fallback\"><pre>LinearRegression()</pre><b>In a Jupyter environment, please rerun this cell to show the HTML representation or trust the notebook. <br />On GitHub, the HTML representation is unable to render, please try loading this page with nbviewer.org.</b></div><div class=\"sk-container\" hidden><div class=\"sk-item\"><div class=\"sk-estimator sk-toggleable\"><input class=\"sk-toggleable__control sk-hidden--visually\" id=\"sk-estimator-id-1\" type=\"checkbox\" checked><label for=\"sk-estimator-id-1\" class=\"sk-toggleable__label sk-toggleable__label-arrow\">LinearRegression</label><div class=\"sk-toggleable__content\"><pre>LinearRegression()</pre></div></div></div></div></div>"
            ]
          },
          "metadata": {},
          "execution_count": 8
        }
      ],
      "source": [
        "model.fit(x,y)"
      ]
    },
    {
      "cell_type": "code",
      "execution_count": 9,
      "id": "1dd9c148-3ec7-4be7-a202-ec49198ecb4d",
      "metadata": {
        "id": "1dd9c148-3ec7-4be7-a202-ec49198ecb4d",
        "outputId": "9275c64c-010a-4241-90e7-937f619e38d8",
        "colab": {
          "base_uri": "https://localhost:8080/"
        }
      },
      "outputs": [
        {
          "output_type": "execute_result",
          "data": {
            "text/plain": [
              "0.7158756137479542"
            ]
          },
          "metadata": {},
          "execution_count": 9
        }
      ],
      "source": [
        "# R-Squared\n",
        "r_sq = model.score(x,y)\n",
        "r_sq"
      ]
    },
    {
      "cell_type": "code",
      "execution_count": 10,
      "id": "506baf4d-6a06-4684-a65e-781c36babffc",
      "metadata": {
        "id": "506baf4d-6a06-4684-a65e-781c36babffc",
        "outputId": "e41f59e2-5c07-4898-abac-2555315794c3",
        "colab": {
          "base_uri": "https://localhost:8080/"
        }
      },
      "outputs": [
        {
          "output_type": "stream",
          "name": "stdout",
          "text": [
            "intercept : 5.633333333333329\n",
            "slope: [0.54]\n"
          ]
        }
      ],
      "source": [
        "print('intercept :', model.intercept_)\n",
        "print('slope:',model.coef_)"
      ]
    },
    {
      "cell_type": "code",
      "execution_count": 11,
      "id": "69486427-c6d1-484b-a9f7-8879db741a54",
      "metadata": {
        "id": "69486427-c6d1-484b-a9f7-8879db741a54",
        "outputId": "3d7b91d4-9f5c-46f4-9a58-8ac3021039d7",
        "colab": {
          "base_uri": "https://localhost:8080/"
        }
      },
      "outputs": [
        {
          "output_type": "stream",
          "name": "stdout",
          "text": [
            "Formula dari Model adalah y =  0.54 x + 5.633333333333329\n"
          ]
        }
      ],
      "source": [
        "print('Formula dari Model adalah y = ',model.coef_[0], 'x +',model.intercept_)"
      ]
    },
    {
      "cell_type": "code",
      "execution_count": 12,
      "id": "208afea0-a125-4517-9cbe-27557342d3d8",
      "metadata": {
        "id": "208afea0-a125-4517-9cbe-27557342d3d8",
        "outputId": "6e3ae493-1692-4784-83e9-1a3a600fd414",
        "colab": {
          "base_uri": "https://localhost:8080/"
        }
      },
      "outputs": [
        {
          "output_type": "execute_result",
          "data": {
            "text/plain": [
              "array([ 8.33333333, 13.73333333, 19.13333333, 24.53333333, 29.93333333,\n",
              "       35.33333333])"
            ]
          },
          "metadata": {},
          "execution_count": 12
        }
      ],
      "source": [
        "y_pred = model.predict(x)\n",
        "y_pred"
      ]
    },
    {
      "cell_type": "code",
      "execution_count": 13,
      "id": "d6891478-5b0a-4ee7-a6a7-f6d28f6b6544",
      "metadata": {
        "id": "d6891478-5b0a-4ee7-a6a7-f6d28f6b6544",
        "outputId": "8b460738-e46b-419c-b7c3-d86b4c745e19",
        "colab": {
          "base_uri": "https://localhost:8080/"
        }
      },
      "outputs": [
        {
          "output_type": "stream",
          "name": "stdout",
          "text": [
            "[[ 5]\n",
            " [15]\n",
            " [25]\n",
            " [35]\n",
            " [45]\n",
            " [55]]\n",
            "[ 5 20 14 32 22 38]\n"
          ]
        }
      ],
      "source": [
        "print(x)\n",
        "print(y)"
      ]
    },
    {
      "cell_type": "code",
      "execution_count": 14,
      "id": "ea88cd90-0c08-4949-8352-68fc278c1900",
      "metadata": {
        "id": "ea88cd90-0c08-4949-8352-68fc278c1900",
        "outputId": "d91787ee-dfc5-4800-fe5a-b66b72f01d40",
        "colab": {
          "base_uri": "https://localhost:8080/",
          "height": 472
        }
      },
      "outputs": [
        {
          "output_type": "display_data",
          "data": {
            "text/plain": [
              "<Figure size 640x480 with 1 Axes>"
            ],
            "image/png": "[encoded data removed]"
          },
          "metadata": {}
        }
      ],
      "source": [
        "plt.scatter(x,y,alpha=0.5)\n",
        "plt.plot(x,y_pred)\n",
        "\n",
        "plt.title('Scatter Plot x and y')\n",
        "plt.xlabel('x')\n",
        "plt.ylabel('y')\n",
        "plt.show()"
      ]
    },
    {
      "cell_type": "code",
      "execution_count": 15,
      "id": "f262ea12-f317-45dc-83ca-6af1ba0f85a8",
      "metadata": {
        "id": "f262ea12-f317-45dc-83ca-6af1ba0f85a8",
        "outputId": "c27a72cf-6274-413e-a100-03146698b733",
        "colab": {
          "base_uri": "https://localhost:8080/"
        }
      },
      "outputs": [
        {
          "output_type": "stream",
          "name": "stdout",
          "text": [
            "[[ 5]\n",
            " [10]\n",
            " [15]]\n"
          ]
        }
      ],
      "source": [
        "x_new = np.arange(5,20,5).reshape([-1,1])\n",
        "print(x_new)"
      ]
    },
    {
      "cell_type": "code",
      "execution_count": 16,
      "id": "4324564d-8d25-4b42-9d5d-fa9154946807",
      "metadata": {
        "id": "4324564d-8d25-4b42-9d5d-fa9154946807",
        "outputId": "7e13300c-4639-4a03-d85c-363e4a4ce25e",
        "colab": {
          "base_uri": "https://localhost:8080/"
        }
      },
      "outputs": [
        {
          "output_type": "stream",
          "name": "stdout",
          "text": [
            "[ 8.33333333 11.03333333 13.73333333]\n"
          ]
        }
      ],
      "source": [
        "y_new_pred = model.predict(x_new)\n",
        "print(y_new_pred)"
      ]
    },
    {
      "cell_type": "markdown",
      "id": "77e79c5c-9249-4112-9e65-553db7bec564",
      "metadata": {
        "id": "77e79c5c-9249-4112-9e65-553db7bec564"
      },
      "source": [
        "# Multiple Linear Regression\n",
        "\n",
        "Jenis regresi linier yang digunakan untuk memprediksi nilai variabel target (output) berdasarkan dua atau lebih variabel prediktor (input) yang bersifat kontinu. Regresi ini mencari hubungan linier antara variabel target dan variabel prediktor dengan mempertimbangkan pengaruh dari setiap variabel prediktor secara bersama-sama. Model Multiple Linear Regression dapat digambarkan dalam bentuk persamaan:\n",
        "\n",
        "y = a + b1x1 + b2x2 + ... + bnxn\n",
        "\n",
        "di mana y adalah variabel target, xi adalah variabel prediktor ke-i, a adalah konstanta, dan bn adalah koefisien regresi untuk variabel prediktor ke-n. Tujuan dari Multiple Linear Regression adalah untuk menemukan nilai-nilai a dan b yang dapat meminimalkan jumlah kesalahan prediksi (error) antara nilai sebenarnya dan nilai yang diprediksi oleh model."
      ]
    },
    {
      "cell_type": "code",
      "execution_count": 17,
      "id": "f1fa9521-9dfd-4b06-a539-78306aa77f90",
      "metadata": {
        "id": "f1fa9521-9dfd-4b06-a539-78306aa77f90",
        "outputId": "419e1f64-7876-4d97-e1b8-d05abe09bccb",
        "colab": {
          "base_uri": "https://localhost:8080/"
        }
      },
      "outputs": [
        {
          "output_type": "stream",
          "name": "stdout",
          "text": [
            "[[ 0  1]\n",
            " [ 5  1]\n",
            " [15  2]\n",
            " [25  5]\n",
            " [35 11]\n",
            " [45 15]\n",
            " [55 34]\n",
            " [60 35]] \n",
            " [ 4  5 20 14 32 22 38 43]\n"
          ]
        }
      ],
      "source": [
        "x = np.array([[0,1],\n",
        "             [5,1],\n",
        "             [15,2],\n",
        "             [25,5],\n",
        "             [35,11],\n",
        "             [45,15],\n",
        "             [55,34],\n",
        "             [60,35]])\n",
        "y = np.array([4, 5, 20, 14, 32, 22, 38, 43])\n",
        "\n",
        "print(x,'\\n',y)"
      ]
    },
    {
      "cell_type": "code",
      "execution_count": 18,
      "id": "146c0b6c-47cb-4eab-b761-1abcfcc5bb8b",
      "metadata": {
        "id": "146c0b6c-47cb-4eab-b761-1abcfcc5bb8b"
      },
      "outputs": [],
      "source": [
        "model = LinearRegression()"
      ]
    },
    {
      "cell_type": "code",
      "execution_count": 19,
      "id": "f1056273-2c5d-446e-a553-c1842f37da30",
      "metadata": {
        "id": "f1056273-2c5d-446e-a553-c1842f37da30",
        "outputId": "07a118b4-c8d9-4bd3-e8da-ca6faec678b5",
        "colab": {
          "base_uri": "https://localhost:8080/"
        }
      },
      "outputs": [
        {
          "output_type": "execute_result",
          "data": {
            "text/plain": [
              "(8, 2)"
            ]
          },
          "metadata": {},
          "execution_count": 19
        }
      ],
      "source": [
        "x.shape"
      ]
    },
    {
      "cell_type": "code",
      "execution_count": 20,
      "id": "f82dc6b5-fb2c-4fb2-a82b-55dc22303db9",
      "metadata": {
        "id": "f82dc6b5-fb2c-4fb2-a82b-55dc22303db9",
        "outputId": "a6cf18a3-77c7-4f05-bde8-6057f97713da",
        "colab": {
          "base_uri": "https://localhost:8080/"
        }
      },
      "outputs": [
        {
          "output_type": "execute_result",
          "data": {
            "text/plain": [
              "(8,)"
            ]
          },
          "metadata": {},
          "execution_count": 20
        }
      ],
      "source": [
        "y.shape"
      ]
    },
    {
      "cell_type": "code",
      "execution_count": 21,
      "id": "0193e91c-32d1-4543-b5dc-5c78ae654ab9",
      "metadata": {
        "id": "0193e91c-32d1-4543-b5dc-5c78ae654ab9",
        "outputId": "f071f5be-dd12-4917-cfcf-71238f251789",
        "colab": {
          "base_uri": "https://localhost:8080/",
          "height": 75
        }
      },
      "outputs": [
        {
          "output_type": "execute_result",
          "data": {
            "text/plain": [
              "LinearRegression()"
            ],
            "text/html": [
              "<style>#sk-container-id-2 {color: black;background-color: white;}#sk-container-id-2 pre{padding: 0;}#sk-container-id-2 div.sk-toggleable {background-color: white;}#sk-container-id-2 label.sk-toggleable__label {cursor: pointer;display: block;width: 100%;margin-bottom: 0;padding: 0.3em;box-sizing: border-box;text-align: center;}#sk-container-id-2 label.sk-toggleable__label-arrow:before {content: \"▸\";float: left;margin-right: 0.25em;color: #696969;}#sk-container-id-2 label.sk-toggleable__label-arrow:hover:before {color: black;}#sk-container-id-2 div.sk-estimator:hover label.sk-toggleable__label-arrow:before {color: black;}#sk-container-id-2 div.sk-toggleable__content {max-height: 0;max-width: 0;overflow: hidden;text-align: left;background-color: #f0f8ff;}#sk-container-id-2 div.sk-toggleable__content pre {margin: 0.2em;color: black;border-radius: 0.25em;background-color: #f0f8ff;}#sk-container-id-2 input.sk-toggleable__control:checked~div.sk-toggleable__content {max-height: 200px;max-width: 100%;overflow: auto;}#sk-container-id-2 input.sk-toggleable__control:checked~label.sk-toggleable__label-arrow:before {content: \"▾\";}#sk-container-id-2 div.sk-estimator input.sk-toggleable__control:checked~label.sk-toggleable__label {background-color: #d4ebff;}#sk-container-id-2 div.sk-label input.sk-toggleable__control:checked~label.sk-toggleable__label {background-color: #d4ebff;}#sk-container-id-2 input.sk-hidden--visually {border: 0;clip: rect(1px 1px 1px 1px);clip: rect(1px, 1px, 1px, 1px);height: 1px;margin: -1px;overflow: hidden;padding: 0;position: absolute;width: 1px;}#sk-container-id-2 div.sk-estimator {font-family: monospace;background-color: #f0f8ff;border: 1px dotted black;border-radius: 0.25em;box-sizing: border-box;margin-bottom: 0.5em;}#sk-container-id-2 div.sk-estimator:hover {background-color: #d4ebff;}#sk-container-id-2 div.sk-parallel-item::after {content: \"\";width: 100%;border-bottom: 1px solid gray;flex-grow: 1;}#sk-container-id-2 div.sk-label:hover label.sk-toggleable__label {background-color: #d4ebff;}#sk-container-id-2 div.sk-serial::before {content: \"\";position: absolute;border-left: 1px solid gray;box-sizing: border-box;top: 0;bottom: 0;left: 50%;z-index: 0;}#sk-container-id-2 div.sk-serial {display: flex;flex-direction: column;align-items: center;background-color: white;padding-right: 0.2em;padding-left: 0.2em;position: relative;}#sk-container-id-2 div.sk-item {position: relative;z-index: 1;}#sk-container-id-2 div.sk-parallel {display: flex;align-items: stretch;justify-content: center;background-color: white;position: relative;}#sk-container-id-2 div.sk-item::before, #sk-container-id-2 div.sk-parallel-item::before {content: \"\";position: absolute;border-left: 1px solid gray;box-sizing: border-box;top: 0;bottom: 0;left: 50%;z-index: -1;}#sk-container-id-2 div.sk-parallel-item {display: flex;flex-direction: column;z-index: 1;position: relative;background-color: white;}#sk-container-id-2 div.sk-parallel-item:first-child::after {align-self: flex-end;width: 50%;}#sk-container-id-2 div.sk-parallel-item:last-child::after {align-self: flex-start;width: 50%;}#sk-container-id-2 div.sk-parallel-item:only-child::after {width: 0;}#sk-container-id-2 div.sk-dashed-wrapped {border: 1px dashed gray;margin: 0 0.4em 0.5em 0.4em;box-sizing: border-box;padding-bottom: 0.4em;background-color: white;}#sk-container-id-2 div.sk-label label {font-family: monospace;font-weight: bold;display: inline-block;line-height: 1.2em;}#sk-container-id-2 div.sk-label-container {text-align: center;}#sk-container-id-2 div.sk-container {/* jupyter's `normalize.less` sets `[hidden] { display: none; }` but bootstrap.min.css set `[hidden] { display: none !important; }` so we also need the `!important` here to be able to override the default hidden behavior on the sphinx rendered scikit-learn.org. See: https://github.com/scikit-learn/scikit-learn/issues/21755 */display: inline-block !important;position: relative;}#sk-container-id-2 div.sk-text-repr-fallback {display: none;}</style><div id=\"sk-container-id-2\" class=\"sk-top-container\"><div class=\"sk-text-repr-fallback\"><pre>LinearRegression()</pre><b>In a Jupyter environment, please rerun this cell to show the HTML representation or trust the notebook. <br />On GitHub, the HTML representation is unable to render, please try loading this page with nbviewer.org.</b></div><div class=\"sk-container\" hidden><div class=\"sk-item\"><div class=\"sk-estimator sk-toggleable\"><input class=\"sk-toggleable__control sk-hidden--visually\" id=\"sk-estimator-id-2\" type=\"checkbox\" checked><label for=\"sk-estimator-id-2\" class=\"sk-toggleable__label sk-toggleable__label-arrow\">LinearRegression</label><div class=\"sk-toggleable__content\"><pre>LinearRegression()</pre></div></div></div></div></div>"
            ]
          },
          "metadata": {},
          "execution_count": 21
        }
      ],
      "source": [
        "model.fit(x,y)"
      ]
    },
    {
      "cell_type": "code",
      "execution_count": 22,
      "id": "1d12e160-b148-42a9-8882-6bbced20d25e",
      "metadata": {
        "id": "1d12e160-b148-42a9-8882-6bbced20d25e",
        "outputId": "dd130bb6-501e-4f6d-d11c-a0c0fc695b80",
        "colab": {
          "base_uri": "https://localhost:8080/"
        }
      },
      "outputs": [
        {
          "output_type": "execute_result",
          "data": {
            "text/plain": [
              "0.8615939258756776"
            ]
          },
          "metadata": {},
          "execution_count": 22
        }
      ],
      "source": [
        "r_sq_multi = model.score(x,y)\n",
        "r_sq_multi"
      ]
    },
    {
      "cell_type": "code",
      "execution_count": 23,
      "id": "f330cf8a-7987-4aa0-ace6-3cefb76c795a",
      "metadata": {
        "id": "f330cf8a-7987-4aa0-ace6-3cefb76c795a",
        "outputId": "356dcd6c-284c-4293-cfbd-309f1f6af3f3",
        "colab": {
          "base_uri": "https://localhost:8080/"
        }
      },
      "outputs": [
        {
          "output_type": "execute_result",
          "data": {
            "text/plain": [
              "5.52257927519819"
            ]
          },
          "metadata": {},
          "execution_count": 23
        }
      ],
      "source": [
        "model.intercept_"
      ]
    },
    {
      "cell_type": "code",
      "execution_count": 24,
      "id": "370998f4-c37a-4a3e-badf-69207c9a8398",
      "metadata": {
        "id": "370998f4-c37a-4a3e-badf-69207c9a8398",
        "outputId": "df78ba51-be78-4c13-efa7-d11e1b6618ae",
        "colab": {
          "base_uri": "https://localhost:8080/"
        }
      },
      "outputs": [
        {
          "output_type": "execute_result",
          "data": {
            "text/plain": [
              "array([0.44706965, 0.25502548])"
            ]
          },
          "metadata": {},
          "execution_count": 24
        }
      ],
      "source": [
        "model.coef_"
      ]
    },
    {
      "cell_type": "code",
      "execution_count": 25,
      "id": "5fcee53f-8bcd-4fbc-8b15-483823c01e70",
      "metadata": {
        "id": "5fcee53f-8bcd-4fbc-8b15-483823c01e70",
        "outputId": "f7dae272-9ce7-485b-ceee-feba52e4c5d5",
        "colab": {
          "base_uri": "https://localhost:8080/"
        }
      },
      "outputs": [
        {
          "output_type": "stream",
          "name": "stdout",
          "text": [
            "Formula Mutiple LinReg adalah y = 0.44706964892412215 x1 + 0.25502548131370345 x2 + 5.52257927519819\n"
          ]
        }
      ],
      "source": [
        "print('Formula Mutiple LinReg adalah y =',model.coef_[0],'x1 +',model.coef_[1],'x2 +',model.intercept_)"
      ]
    },
    {
      "cell_type": "code",
      "execution_count": 26,
      "id": "f0442d08-fa47-4bbc-973f-4d0c035c3b97",
      "metadata": {
        "id": "f0442d08-fa47-4bbc-973f-4d0c035c3b97"
      },
      "outputs": [],
      "source": [
        "y_pred_multi = model.predict(x)"
      ]
    },
    {
      "cell_type": "code",
      "execution_count": 27,
      "id": "5ba38ce9-1764-4b91-bc10-f5e17c471757",
      "metadata": {
        "id": "5ba38ce9-1764-4b91-bc10-f5e17c471757",
        "outputId": "5f07154b-dd84-43a8-e374-7a8564b63c97",
        "colab": {
          "base_uri": "https://localhost:8080/"
        }
      },
      "outputs": [
        {
          "output_type": "execute_result",
          "data": {
            "text/plain": [
              "array([ 5.77760476,  8.012953  , 12.73867497, 17.9744479 , 23.97529728,\n",
              "       29.4660957 , 38.78227633, 41.27265006])"
            ]
          },
          "metadata": {},
          "execution_count": 27
        }
      ],
      "source": [
        "y_pred_multi"
      ]
    },
    {
      "cell_type": "code",
      "execution_count": 28,
      "id": "5eea2d57-12af-4471-8cbc-4c85b0204183",
      "metadata": {
        "id": "5eea2d57-12af-4471-8cbc-4c85b0204183",
        "outputId": "1f2cba11-dc0b-4685-a540-de9a483ca5a7",
        "colab": {
          "base_uri": "https://localhost:8080/"
        }
      },
      "outputs": [
        {
          "output_type": "execute_result",
          "data": {
            "text/plain": [
              "array([ 4,  5, 20, 14, 32, 22, 38, 43])"
            ]
          },
          "metadata": {},
          "execution_count": 28
        }
      ],
      "source": [
        "y"
      ]
    },
    {
      "cell_type": "code",
      "execution_count": 29,
      "id": "9bb7a46b-5625-4f25-bc12-d952ee8eb9ed",
      "metadata": {
        "id": "9bb7a46b-5625-4f25-bc12-d952ee8eb9ed"
      },
      "outputs": [],
      "source": [
        "from sklearn.metrics import mean_squared_error, mean_absolute_error"
      ]
    },
    {
      "cell_type": "code",
      "execution_count": 30,
      "id": "aa7c860f-8fcc-4d43-a523-05ab990d0339",
      "metadata": {
        "id": "aa7c860f-8fcc-4d43-a523-05ab990d0339",
        "outputId": "7a2f9ce5-dc73-4ff8-c961-92632f467267",
        "colab": {
          "base_uri": "https://localhost:8080/"
        }
      },
      "outputs": [
        {
          "output_type": "execute_result",
          "data": {
            "text/plain": [
              "25.56187181483579"
            ]
          },
          "metadata": {},
          "execution_count": 30
        }
      ],
      "source": [
        "mse_multi = mean_squared_error(y,y_pred_multi)\n",
        "mse_multi"
      ]
    },
    {
      "cell_type": "code",
      "execution_count": 31,
      "id": "90f6a274-fdf5-4a11-9c16-ba18ab6b9b42",
      "metadata": {
        "id": "90f6a274-fdf5-4a11-9c16-ba18ab6b9b42",
        "outputId": "db30ce7d-1deb-4076-a610-a8b69eb0c262",
        "colab": {
          "base_uri": "https://localhost:8080/"
        }
      },
      "outputs": [
        {
          "output_type": "execute_result",
          "data": {
            "text/plain": [
              "5.055874980142981"
            ]
          },
          "metadata": {},
          "execution_count": 31
        }
      ],
      "source": [
        "rmse = (mse_multi)**0.5\n",
        "rmse"
      ]
    },
    {
      "cell_type": "markdown",
      "id": "312b4351-35cf-4253-80a0-491d578cbb46",
      "metadata": {
        "id": "312b4351-35cf-4253-80a0-491d578cbb46"
      },
      "source": [
        "# Polynomial Regression\n",
        "\n",
        "Jenis regresi non-linear yang digunakan untuk memodelkan hubungan antara variabel prediktor (input) dan variabel target (output) dengan menggunakan polinomial sebagai fungsi yang menggambarkan hubungan tersebut. Model ini mencoba menemukan persamaan polinomial terbaik yang dapat menggambarkan hubungan antara variabel input dan output."
      ]
    },
    {
      "cell_type": "code",
      "execution_count": 32,
      "id": "fe30679d-dba7-448e-849d-083b2cb99ab2",
      "metadata": {
        "id": "fe30679d-dba7-448e-849d-083b2cb99ab2"
      },
      "outputs": [],
      "source": [
        "from sklearn.preprocessing import PolynomialFeatures"
      ]
    },
    {
      "cell_type": "code",
      "execution_count": 33,
      "id": "880661c7-c3f3-42ce-8b1e-8212a128e089",
      "metadata": {
        "id": "880661c7-c3f3-42ce-8b1e-8212a128e089",
        "outputId": "f99897c0-abbe-4809-e259-6285145a614f",
        "colab": {
          "base_uri": "https://localhost:8080/"
        }
      },
      "outputs": [
        {
          "output_type": "stream",
          "name": "stdout",
          "text": [
            "[[ 5]\n",
            " [15]\n",
            " [25]\n",
            " [35]\n",
            " [45]\n",
            " [55]]\n",
            "[15 11  2  8 25 32]\n"
          ]
        }
      ],
      "source": [
        "x = np.array([5, 15 , 25, 35, 45, 55]).reshape([-1,1])\n",
        "y = np.array([15, 11, 2, 8, 25, 32])\n",
        "\n",
        "print(x)\n",
        "print(y)"
      ]
    },
    {
      "cell_type": "code",
      "execution_count": 34,
      "id": "1929307e-34f8-4a2d-a168-61bc1cb391f8",
      "metadata": {
        "id": "1929307e-34f8-4a2d-a168-61bc1cb391f8",
        "outputId": "a1c6982d-4831-41d0-f608-328a2313d796",
        "colab": {
          "base_uri": "https://localhost:8080/",
          "height": 447
        }
      },
      "outputs": [
        {
          "output_type": "execute_result",
          "data": {
            "text/plain": [
              "<matplotlib.collections.PathCollection at 0x7fc0b27fbca0>"
            ]
          },
          "metadata": {},
          "execution_count": 34
        },
        {
          "output_type": "display_data",
          "data": {
            "text/plain": [
              "<Figure size 640x480 with 1 Axes>"
            ],
            "image/png": "[encoded data removed]"
          },
          "metadata": {}
        }
      ],
      "source": [
        "plt.scatter(x,y)"
      ]
    },
    {
      "cell_type": "code",
      "execution_count": 35,
      "id": "9abb3215-f327-4dca-91ed-f435a1f95134",
      "metadata": {
        "id": "9abb3215-f327-4dca-91ed-f435a1f95134"
      },
      "outputs": [],
      "source": [
        "model = LinearRegression()"
      ]
    },
    {
      "cell_type": "code",
      "execution_count": 36,
      "id": "fc59f5d1-8d9b-42e8-b29a-df94d848cdca",
      "metadata": {
        "id": "fc59f5d1-8d9b-42e8-b29a-df94d848cdca"
      },
      "outputs": [],
      "source": [
        "model.fit(x,y)\n",
        "y_pred = model.predict(x)"
      ]
    },
    {
      "cell_type": "code",
      "execution_count": 37,
      "id": "4e6350a1-f7c3-463b-ba42-36a6542c1626",
      "metadata": {
        "id": "4e6350a1-f7c3-463b-ba42-36a6542c1626",
        "outputId": "88b25a9e-01d5-4328-b367-fd9c64c9be61",
        "colab": {
          "base_uri": "https://localhost:8080/",
          "height": 447
        }
      },
      "outputs": [
        {
          "output_type": "execute_result",
          "data": {
            "text/plain": [
              "[<matplotlib.lines.Line2D at 0x7fc0b0743c40>]"
            ]
          },
          "metadata": {},
          "execution_count": 37
        },
        {
          "output_type": "display_data",
          "data": {
            "text/plain": [
              "<Figure size 640x480 with 1 Axes>"
            ],
            "image/png": "[encoded data removed]"
          },
          "metadata": {}
        }
      ],
      "source": [
        "plt.scatter(x,y)\n",
        "plt.plot(x,y_pred)"
      ]
    },
    {
      "cell_type": "code",
      "execution_count": 38,
      "id": "3fe8ba15-9f4f-46ce-8b05-d036711024f7",
      "metadata": {
        "id": "3fe8ba15-9f4f-46ce-8b05-d036711024f7",
        "outputId": "62b04b6a-449f-4ea0-dac8-2309406b7e34",
        "colab": {
          "base_uri": "https://localhost:8080/"
        }
      },
      "outputs": [
        {
          "output_type": "execute_result",
          "data": {
            "text/plain": [
              "0.4065969428801286"
            ]
          },
          "metadata": {},
          "execution_count": 38
        }
      ],
      "source": [
        "model.score(x,y)"
      ]
    },
    {
      "cell_type": "code",
      "execution_count": 39,
      "id": "e6932380-850e-4e3a-859a-46fab4eefe89",
      "metadata": {
        "id": "e6932380-850e-4e3a-859a-46fab4eefe89"
      },
      "outputs": [],
      "source": [
        "transformer = PolynomialFeatures(include_bias=False)"
      ]
    },
    {
      "cell_type": "code",
      "execution_count": 40,
      "id": "34811e70-d96e-4468-ab3b-07c0f1acdcf8",
      "metadata": {
        "id": "34811e70-d96e-4468-ab3b-07c0f1acdcf8",
        "outputId": "da4753e0-4683-4a31-e395-11c5055cb18d",
        "colab": {
          "base_uri": "https://localhost:8080/",
          "height": 75
        }
      },
      "outputs": [
        {
          "output_type": "execute_result",
          "data": {
            "text/plain": [
              "PolynomialFeatures(include_bias=False)"
            ],
            "text/html": [
              "<style>#sk-container-id-3 {color: black;background-color: white;}#sk-container-id-3 pre{padding: 0;}#sk-container-id-3 div.sk-toggleable {background-color: white;}#sk-container-id-3 label.sk-toggleable__label {cursor: pointer;display: block;width: 100%;margin-bottom: 0;padding: 0.3em;box-sizing: border-box;text-align: center;}#sk-container-id-3 label.sk-toggleable__label-arrow:before {content: \"▸\";float: left;margin-right: 0.25em;color: #696969;}#sk-container-id-3 label.sk-toggleable__label-arrow:hover:before {color: black;}#sk-container-id-3 div.sk-estimator:hover label.sk-toggleable__label-arrow:before {color: black;}#sk-container-id-3 div.sk-toggleable__content {max-height: 0;max-width: 0;overflow: hidden;text-align: left;background-color: #f0f8ff;}#sk-container-id-3 div.sk-toggleable__content pre {margin: 0.2em;color: black;border-radius: 0.25em;background-color: #f0f8ff;}#sk-container-id-3 input.sk-toggleable__control:checked~div.sk-toggleable__content {max-height: 200px;max-width: 100%;overflow: auto;}#sk-container-id-3 input.sk-toggleable__control:checked~label.sk-toggleable__label-arrow:before {content: \"▾\";}#sk-container-id-3 div.sk-estimator input.sk-toggleable__control:checked~label.sk-toggleable__label {background-color: #d4ebff;}#sk-container-id-3 div.sk-label input.sk-toggleable__control:checked~label.sk-toggleable__label {background-color: #d4ebff;}#sk-container-id-3 input.sk-hidden--visually {border: 0;clip: rect(1px 1px 1px 1px);clip: rect(1px, 1px, 1px, 1px);height: 1px;margin: -1px;overflow: hidden;padding: 0;position: absolute;width: 1px;}#sk-container-id-3 div.sk-estimator {font-family: monospace;background-color: #f0f8ff;border: 1px dotted black;border-radius: 0.25em;box-sizing: border-box;margin-bottom: 0.5em;}#sk-container-id-3 div.sk-estimator:hover {background-color: #d4ebff;}#sk-container-id-3 div.sk-parallel-item::after {content: \"\";width: 100%;border-bottom: 1px solid gray;flex-grow: 1;}#sk-container-id-3 div.sk-label:hover label.sk-toggleable__label {background-color: #d4ebff;}#sk-container-id-3 div.sk-serial::before {content: \"\";position: absolute;border-left: 1px solid gray;box-sizing: border-box;top: 0;bottom: 0;left: 50%;z-index: 0;}#sk-container-id-3 div.sk-serial {display: flex;flex-direction: column;align-items: center;background-color: white;padding-right: 0.2em;padding-left: 0.2em;position: relative;}#sk-container-id-3 div.sk-item {position: relative;z-index: 1;}#sk-container-id-3 div.sk-parallel {display: flex;align-items: stretch;justify-content: center;background-color: white;position: relative;}#sk-container-id-3 div.sk-item::before, #sk-container-id-3 div.sk-parallel-item::before {content: \"\";position: absolute;border-left: 1px solid gray;box-sizing: border-box;top: 0;bottom: 0;left: 50%;z-index: -1;}#sk-container-id-3 div.sk-parallel-item {display: flex;flex-direction: column;z-index: 1;position: relative;background-color: white;}#sk-container-id-3 div.sk-parallel-item:first-child::after {align-self: flex-end;width: 50%;}#sk-container-id-3 div.sk-parallel-item:last-child::after {align-self: flex-start;width: 50%;}#sk-container-id-3 div.sk-parallel-item:only-child::after {width: 0;}#sk-container-id-3 div.sk-dashed-wrapped {border: 1px dashed gray;margin: 0 0.4em 0.5em 0.4em;box-sizing: border-box;padding-bottom: 0.4em;background-color: white;}#sk-container-id-3 div.sk-label label {font-family: monospace;font-weight: bold;display: inline-block;line-height: 1.2em;}#sk-container-id-3 div.sk-label-container {text-align: center;}#sk-container-id-3 div.sk-container {/* jupyter's `normalize.less` sets `[hidden] { display: none; }` but bootstrap.min.css set `[hidden] { display: none !important; }` so we also need the `!important` here to be able to override the default hidden behavior on the sphinx rendered scikit-learn.org. See: https://github.com/scikit-learn/scikit-learn/issues/21755 */display: inline-block !important;position: relative;}#sk-container-id-3 div.sk-text-repr-fallback {display: none;}</style><div id=\"sk-container-id-3\" class=\"sk-top-container\"><div class=\"sk-text-repr-fallback\"><pre>PolynomialFeatures(include_bias=False)</pre><b>In a Jupyter environment, please rerun this cell to show the HTML representation or trust the notebook. <br />On GitHub, the HTML representation is unable to render, please try loading this page with nbviewer.org.</b></div><div class=\"sk-container\" hidden><div class=\"sk-item\"><div class=\"sk-estimator sk-toggleable\"><input class=\"sk-toggleable__control sk-hidden--visually\" id=\"sk-estimator-id-3\" type=\"checkbox\" checked><label for=\"sk-estimator-id-3\" class=\"sk-toggleable__label sk-toggleable__label-arrow\">PolynomialFeatures</label><div class=\"sk-toggleable__content\"><pre>PolynomialFeatures(include_bias=False)</pre></div></div></div></div></div>"
            ]
          },
          "metadata": {},
          "execution_count": 40
        }
      ],
      "source": [
        "transformer.fit(x)"
      ]
    },
    {
      "cell_type": "code",
      "execution_count": 41,
      "id": "767434b6-370e-4c03-a32e-c6b3150ab891",
      "metadata": {
        "id": "767434b6-370e-4c03-a32e-c6b3150ab891",
        "outputId": "4b7c68bb-700f-4d76-dd86-6aa57d2a5ee9",
        "colab": {
          "base_uri": "https://localhost:8080/"
        }
      },
      "outputs": [
        {
          "output_type": "execute_result",
          "data": {
            "text/plain": [
              "array([[   5.,   25.],\n",
              "       [  15.,  225.],\n",
              "       [  25.,  625.],\n",
              "       [  35., 1225.],\n",
              "       [  45., 2025.],\n",
              "       [  55., 3025.]])"
            ]
          },
          "metadata": {},
          "execution_count": 41
        }
      ],
      "source": [
        "x_poly = transformer.transform(x)\n",
        "x_poly"
      ]
    },
    {
      "cell_type": "code",
      "execution_count": 42,
      "id": "4032b8d8-7539-43f4-8efe-10a9b18ddc98",
      "metadata": {
        "id": "4032b8d8-7539-43f4-8efe-10a9b18ddc98",
        "outputId": "7d0fc000-8b80-43cc-aa85-92c3f328a041",
        "colab": {
          "base_uri": "https://localhost:8080/"
        }
      },
      "outputs": [
        {
          "output_type": "execute_result",
          "data": {
            "text/plain": [
              "array([[   5.,   25.],\n",
              "       [  15.,  225.],\n",
              "       [  25.,  625.],\n",
              "       [  35., 1225.],\n",
              "       [  45., 2025.],\n",
              "       [  55., 3025.]])"
            ]
          },
          "metadata": {},
          "execution_count": 42
        }
      ],
      "source": [
        "x_poly = transformer.fit_transform(x)\n",
        "x_poly"
      ]
    },
    {
      "cell_type": "code",
      "execution_count": 43,
      "id": "a81c9b72-6b7a-490a-9e62-d1b51c9daf2c",
      "metadata": {
        "id": "a81c9b72-6b7a-490a-9e62-d1b51c9daf2c",
        "outputId": "ef6b0017-eec4-4c42-ae8c-1c79bad2a542",
        "colab": {
          "base_uri": "https://localhost:8080/"
        }
      },
      "outputs": [
        {
          "output_type": "execute_result",
          "data": {
            "text/plain": [
              "array([[   5.,   25.],\n",
              "       [  15.,  225.],\n",
              "       [  25.,  625.],\n",
              "       [  35., 1225.],\n",
              "       [  45., 2025.],\n",
              "       [  55., 3025.]])"
            ]
          },
          "metadata": {},
          "execution_count": 43
        }
      ],
      "source": [
        "x_poly"
      ]
    },
    {
      "cell_type": "code",
      "execution_count": 44,
      "id": "bb068ccf-0412-4163-b17a-11a51a2c25e4",
      "metadata": {
        "id": "bb068ccf-0412-4163-b17a-11a51a2c25e4",
        "outputId": "40da6995-2660-427f-c6d0-8b6f31954012",
        "colab": {
          "base_uri": "https://localhost:8080/",
          "height": 75
        }
      },
      "outputs": [
        {
          "output_type": "execute_result",
          "data": {
            "text/plain": [
              "LinearRegression()"
            ],
            "text/html": [
              "<style>#sk-container-id-4 {color: black;background-color: white;}#sk-container-id-4 pre{padding: 0;}#sk-container-id-4 div.sk-toggleable {background-color: white;}#sk-container-id-4 label.sk-toggleable__label {cursor: pointer;display: block;width: 100%;margin-bottom: 0;padding: 0.3em;box-sizing: border-box;text-align: center;}#sk-container-id-4 label.sk-toggleable__label-arrow:before {content: \"▸\";float: left;margin-right: 0.25em;color: #696969;}#sk-container-id-4 label.sk-toggleable__label-arrow:hover:before {color: black;}#sk-container-id-4 div.sk-estimator:hover label.sk-toggleable__label-arrow:before {color: black;}#sk-container-id-4 div.sk-toggleable__content {max-height: 0;max-width: 0;overflow: hidden;text-align: left;background-color: #f0f8ff;}#sk-container-id-4 div.sk-toggleable__content pre {margin: 0.2em;color: black;border-radius: 0.25em;background-color: #f0f8ff;}#sk-container-id-4 input.sk-toggleable__control:checked~div.sk-toggleable__content {max-height: 200px;max-width: 100%;overflow: auto;}#sk-container-id-4 input.sk-toggleable__control:checked~label.sk-toggleable__label-arrow:before {content: \"▾\";}#sk-container-id-4 div.sk-estimator input.sk-toggleable__control:checked~label.sk-toggleable__label {background-color: #d4ebff;}#sk-container-id-4 div.sk-label input.sk-toggleable__control:checked~label.sk-toggleable__label {background-color: #d4ebff;}#sk-container-id-4 input.sk-hidden--visually {border: 0;clip: rect(1px 1px 1px 1px);clip: rect(1px, 1px, 1px, 1px);height: 1px;margin: -1px;overflow: hidden;padding: 0;position: absolute;width: 1px;}#sk-container-id-4 div.sk-estimator {font-family: monospace;background-color: #f0f8ff;border: 1px dotted black;border-radius: 0.25em;box-sizing: border-box;margin-bottom: 0.5em;}#sk-container-id-4 div.sk-estimator:hover {background-color: #d4ebff;}#sk-container-id-4 div.sk-parallel-item::after {content: \"\";width: 100%;border-bottom: 1px solid gray;flex-grow: 1;}#sk-container-id-4 div.sk-label:hover label.sk-toggleable__label {background-color: #d4ebff;}#sk-container-id-4 div.sk-serial::before {content: \"\";position: absolute;border-left: 1px solid gray;box-sizing: border-box;top: 0;bottom: 0;left: 50%;z-index: 0;}#sk-container-id-4 div.sk-serial {display: flex;flex-direction: column;align-items: center;background-color: white;padding-right: 0.2em;padding-left: 0.2em;position: relative;}#sk-container-id-4 div.sk-item {position: relative;z-index: 1;}#sk-container-id-4 div.sk-parallel {display: flex;align-items: stretch;justify-content: center;background-color: white;position: relative;}#sk-container-id-4 div.sk-item::before, #sk-container-id-4 div.sk-parallel-item::before {content: \"\";position: absolute;border-left: 1px solid gray;box-sizing: border-box;top: 0;bottom: 0;left: 50%;z-index: -1;}#sk-container-id-4 div.sk-parallel-item {display: flex;flex-direction: column;z-index: 1;position: relative;background-color: white;}#sk-container-id-4 div.sk-parallel-item:first-child::after {align-self: flex-end;width: 50%;}#sk-container-id-4 div.sk-parallel-item:last-child::after {align-self: flex-start;width: 50%;}#sk-container-id-4 div.sk-parallel-item:only-child::after {width: 0;}#sk-container-id-4 div.sk-dashed-wrapped {border: 1px dashed gray;margin: 0 0.4em 0.5em 0.4em;box-sizing: border-box;padding-bottom: 0.4em;background-color: white;}#sk-container-id-4 div.sk-label label {font-family: monospace;font-weight: bold;display: inline-block;line-height: 1.2em;}#sk-container-id-4 div.sk-label-container {text-align: center;}#sk-container-id-4 div.sk-container {/* jupyter's `normalize.less` sets `[hidden] { display: none; }` but bootstrap.min.css set `[hidden] { display: none !important; }` so we also need the `!important` here to be able to override the default hidden behavior on the sphinx rendered scikit-learn.org. See: https://github.com/scikit-learn/scikit-learn/issues/21755 */display: inline-block !important;position: relative;}#sk-container-id-4 div.sk-text-repr-fallback {display: none;}</style><div id=\"sk-container-id-4\" class=\"sk-top-container\"><div class=\"sk-text-repr-fallback\"><pre>LinearRegression()</pre><b>In a Jupyter environment, please rerun this cell to show the HTML representation or trust the notebook. <br />On GitHub, the HTML representation is unable to render, please try loading this page with nbviewer.org.</b></div><div class=\"sk-container\" hidden><div class=\"sk-item\"><div class=\"sk-estimator sk-toggleable\"><input class=\"sk-toggleable__control sk-hidden--visually\" id=\"sk-estimator-id-4\" type=\"checkbox\" checked><label for=\"sk-estimator-id-4\" class=\"sk-toggleable__label sk-toggleable__label-arrow\">LinearRegression</label><div class=\"sk-toggleable__content\"><pre>LinearRegression()</pre></div></div></div></div></div>"
            ]
          },
          "metadata": {},
          "execution_count": 44
        }
      ],
      "source": [
        "model_poly = LinearRegression()\n",
        "model_poly.fit(x_poly,y)"
      ]
    },
    {
      "cell_type": "code",
      "execution_count": 45,
      "id": "712481e5-4204-4180-85fb-0cfe566bfdce",
      "metadata": {
        "id": "712481e5-4204-4180-85fb-0cfe566bfdce",
        "outputId": "b070d231-4929-41c7-a0b8-88fc919e71d8",
        "colab": {
          "base_uri": "https://localhost:8080/"
        }
      },
      "outputs": [
        {
          "output_type": "execute_result",
          "data": {
            "text/plain": [
              "0.8908516262498564"
            ]
          },
          "metadata": {},
          "execution_count": 45
        }
      ],
      "source": [
        "model_poly.score(x_poly,y)"
      ]
    },
    {
      "cell_type": "code",
      "execution_count": 46,
      "id": "20196052-959b-4419-9afb-dd7d90687962",
      "metadata": {
        "id": "20196052-959b-4419-9afb-dd7d90687962",
        "outputId": "2ce52561-d7f5-4d5a-f27c-05ba5aa06338",
        "colab": {
          "base_uri": "https://localhost:8080/"
        }
      },
      "outputs": [
        {
          "output_type": "execute_result",
          "data": {
            "text/plain": [
              "0.4065969428801286"
            ]
          },
          "metadata": {},
          "execution_count": 46
        }
      ],
      "source": [
        "model.score(x,y)"
      ]
    },
    {
      "cell_type": "code",
      "execution_count": 47,
      "id": "7a279aa8-e715-4e9d-ae9f-253ad302063f",
      "metadata": {
        "id": "7a279aa8-e715-4e9d-ae9f-253ad302063f"
      },
      "outputs": [],
      "source": [
        "y_poly_pred = model_poly.predict(x_poly)"
      ]
    },
    {
      "cell_type": "code",
      "execution_count": 48,
      "id": "59c2c496-88f5-403e-9233-1c494634186e",
      "metadata": {
        "id": "59c2c496-88f5-403e-9233-1c494634186e",
        "outputId": "ed691fd9-f990-4070-fb7a-feb90bab6a41",
        "colab": {
          "base_uri": "https://localhost:8080/"
        }
      },
      "outputs": [
        {
          "output_type": "execute_result",
          "data": {
            "text/plain": [
              "array([15, 11,  2,  8, 25, 32])"
            ]
          },
          "metadata": {},
          "execution_count": 48
        }
      ],
      "source": [
        "y"
      ]
    },
    {
      "cell_type": "code",
      "execution_count": 49,
      "id": "cc8313c1-b3a7-4233-830b-914b354da958",
      "metadata": {
        "id": "cc8313c1-b3a7-4233-830b-914b354da958",
        "outputId": "37c9963b-3380-4063-e6f2-51157c8f22bd",
        "colab": {
          "base_uri": "https://localhost:8080/"
        }
      },
      "outputs": [
        {
          "output_type": "execute_result",
          "data": {
            "text/plain": [
              "array([15.46428571,  7.90714286,  6.02857143,  9.82857143, 19.30714286,\n",
              "       34.46428571])"
            ]
          },
          "metadata": {},
          "execution_count": 49
        }
      ],
      "source": [
        "y_poly_pred"
      ]
    },
    {
      "cell_type": "code",
      "execution_count": 50,
      "id": "eb9e8bec-5af5-474d-bac5-a276eb05e894",
      "metadata": {
        "id": "eb9e8bec-5af5-474d-bac5-a276eb05e894",
        "outputId": "4f90188f-de42-4baa-bd3d-d08f41fd3ce4",
        "colab": {
          "base_uri": "https://localhost:8080/",
          "height": 430
        }
      },
      "outputs": [
        {
          "output_type": "display_data",
          "data": {
            "text/plain": [
              "<Figure size 640x480 with 1 Axes>"
            ],
            "image/png": "[encoded data removed]"
          },
          "metadata": {}
        }
      ],
      "source": [
        "plt.scatter(x,y,color='red',label='true y')\n",
        "plt.plot(x,y_poly_pred,color='blue',label='predicted y')\n",
        "plt.legend()\n",
        "plt.show()"
      ]
    },
    {
      "cell_type": "markdown",
      "id": "8569fabb-3ea1-4db7-b31a-fdd6a3c0583b",
      "metadata": {
        "id": "8569fabb-3ea1-4db7-b31a-fdd6a3c0583b"
      },
      "source": [
        "# Multiple Polynomial Regression\n",
        "\n",
        "Kombinasi dari Multiple Linear Regression dan Polynomial Regression, di mana model regresi memodelkan hubungan antara variabel target (output) dan dua atau lebih variabel prediktor (input) yang mempengaruhi hubungan tersebut dalam bentuk polinomial."
      ]
    },
    {
      "cell_type": "code",
      "execution_count": 51,
      "id": "16126ff8-46e7-4e91-8c77-76647f4dba7f",
      "metadata": {
        "id": "16126ff8-46e7-4e91-8c77-76647f4dba7f"
      },
      "outputs": [],
      "source": [
        "x = np.array([[0,1],\n",
        "             [5,1],\n",
        "             [15,2],\n",
        "             [25,5],\n",
        "             [35,11],\n",
        "             [45,15],\n",
        "             [55,34],\n",
        "             [60,35]])\n",
        "y = np.array([4, 5, 20, 14, 32, 22, 38, 43])"
      ]
    },
    {
      "cell_type": "code",
      "execution_count": 52,
      "id": "ceafac2e-929b-4b11-ba33-b72ec31013e4",
      "metadata": {
        "id": "ceafac2e-929b-4b11-ba33-b72ec31013e4",
        "outputId": "5d0d471d-efb5-426a-e005-bf9cc8bb9fd2",
        "colab": {
          "base_uri": "https://localhost:8080/",
          "height": 75
        }
      },
      "outputs": [
        {
          "output_type": "execute_result",
          "data": {
            "text/plain": [
              "LinearRegression()"
            ],
            "text/html": [
              "<style>#sk-container-id-5 {color: black;background-color: white;}#sk-container-id-5 pre{padding: 0;}#sk-container-id-5 div.sk-toggleable {background-color: white;}#sk-container-id-5 label.sk-toggleable__label {cursor: pointer;display: block;width: 100%;margin-bottom: 0;padding: 0.3em;box-sizing: border-box;text-align: center;}#sk-container-id-5 label.sk-toggleable__label-arrow:before {content: \"▸\";float: left;margin-right: 0.25em;color: #696969;}#sk-container-id-5 label.sk-toggleable__label-arrow:hover:before {color: black;}#sk-container-id-5 div.sk-estimator:hover label.sk-toggleable__label-arrow:before {color: black;}#sk-container-id-5 div.sk-toggleable__content {max-height: 0;max-width: 0;overflow: hidden;text-align: left;background-color: #f0f8ff;}#sk-container-id-5 div.sk-toggleable__content pre {margin: 0.2em;color: black;border-radius: 0.25em;background-color: #f0f8ff;}#sk-container-id-5 input.sk-toggleable__control:checked~div.sk-toggleable__content {max-height: 200px;max-width: 100%;overflow: auto;}#sk-container-id-5 input.sk-toggleable__control:checked~label.sk-toggleable__label-arrow:before {content: \"▾\";}#sk-container-id-5 div.sk-estimator input.sk-toggleable__control:checked~label.sk-toggleable__label {background-color: #d4ebff;}#sk-container-id-5 div.sk-label input.sk-toggleable__control:checked~label.sk-toggleable__label {background-color: #d4ebff;}#sk-container-id-5 input.sk-hidden--visually {border: 0;clip: rect(1px 1px 1px 1px);clip: rect(1px, 1px, 1px, 1px);height: 1px;margin: -1px;overflow: hidden;padding: 0;position: absolute;width: 1px;}#sk-container-id-5 div.sk-estimator {font-family: monospace;background-color: #f0f8ff;border: 1px dotted black;border-radius: 0.25em;box-sizing: border-box;margin-bottom: 0.5em;}#sk-container-id-5 div.sk-estimator:hover {background-color: #d4ebff;}#sk-container-id-5 div.sk-parallel-item::after {content: \"\";width: 100%;border-bottom: 1px solid gray;flex-grow: 1;}#sk-container-id-5 div.sk-label:hover label.sk-toggleable__label {background-color: #d4ebff;}#sk-container-id-5 div.sk-serial::before {content: \"\";position: absolute;border-left: 1px solid gray;box-sizing: border-box;top: 0;bottom: 0;left: 50%;z-index: 0;}#sk-container-id-5 div.sk-serial {display: flex;flex-direction: column;align-items: center;background-color: white;padding-right: 0.2em;padding-left: 0.2em;position: relative;}#sk-container-id-5 div.sk-item {position: relative;z-index: 1;}#sk-container-id-5 div.sk-parallel {display: flex;align-items: stretch;justify-content: center;background-color: white;position: relative;}#sk-container-id-5 div.sk-item::before, #sk-container-id-5 div.sk-parallel-item::before {content: \"\";position: absolute;border-left: 1px solid gray;box-sizing: border-box;top: 0;bottom: 0;left: 50%;z-index: -1;}#sk-container-id-5 div.sk-parallel-item {display: flex;flex-direction: column;z-index: 1;position: relative;background-color: white;}#sk-container-id-5 div.sk-parallel-item:first-child::after {align-self: flex-end;width: 50%;}#sk-container-id-5 div.sk-parallel-item:last-child::after {align-self: flex-start;width: 50%;}#sk-container-id-5 div.sk-parallel-item:only-child::after {width: 0;}#sk-container-id-5 div.sk-dashed-wrapped {border: 1px dashed gray;margin: 0 0.4em 0.5em 0.4em;box-sizing: border-box;padding-bottom: 0.4em;background-color: white;}#sk-container-id-5 div.sk-label label {font-family: monospace;font-weight: bold;display: inline-block;line-height: 1.2em;}#sk-container-id-5 div.sk-label-container {text-align: center;}#sk-container-id-5 div.sk-container {/* jupyter's `normalize.less` sets `[hidden] { display: none; }` but bootstrap.min.css set `[hidden] { display: none !important; }` so we also need the `!important` here to be able to override the default hidden behavior on the sphinx rendered scikit-learn.org. See: https://github.com/scikit-learn/scikit-learn/issues/21755 */display: inline-block !important;position: relative;}#sk-container-id-5 div.sk-text-repr-fallback {display: none;}</style><div id=\"sk-container-id-5\" class=\"sk-top-container\"><div class=\"sk-text-repr-fallback\"><pre>LinearRegression()</pre><b>In a Jupyter environment, please rerun this cell to show the HTML representation or trust the notebook. <br />On GitHub, the HTML representation is unable to render, please try loading this page with nbviewer.org.</b></div><div class=\"sk-container\" hidden><div class=\"sk-item\"><div class=\"sk-estimator sk-toggleable\"><input class=\"sk-toggleable__control sk-hidden--visually\" id=\"sk-estimator-id-5\" type=\"checkbox\" checked><label for=\"sk-estimator-id-5\" class=\"sk-toggleable__label sk-toggleable__label-arrow\">LinearRegression</label><div class=\"sk-toggleable__content\"><pre>LinearRegression()</pre></div></div></div></div></div>"
            ]
          },
          "metadata": {},
          "execution_count": 52
        }
      ],
      "source": [
        "x_poly = transformer.fit_transform(x)\n",
        "model_poly = LinearRegression()\n",
        "model = LinearRegression()\n",
        "model_poly.fit(x_poly,y)\n",
        "model.fit(x,y)"
      ]
    },
    {
      "cell_type": "code",
      "execution_count": 53,
      "id": "ab814997-e43d-4694-aece-aaf83bed4151",
      "metadata": {
        "id": "ab814997-e43d-4694-aece-aaf83bed4151",
        "outputId": "f54d750d-5d55-4b9f-d0e5-0e123ce37cce",
        "colab": {
          "base_uri": "https://localhost:8080/"
        }
      },
      "outputs": [
        {
          "output_type": "stream",
          "name": "stdout",
          "text": [
            "0.8615939258756776 0.9453701449127822\n"
          ]
        }
      ],
      "source": [
        "print(model.score(x,y),model_poly.score(x_poly,y))"
      ]
    },
    {
      "cell_type": "code",
      "execution_count": 54,
      "id": "38e00ad9-bbc2-4fac-9d52-91a6d7023afa",
      "metadata": {
        "id": "38e00ad9-bbc2-4fac-9d52-91a6d7023afa"
      },
      "outputs": [],
      "source": [
        "x_0 = [i[0] for i in x]"
      ]
    },
    {
      "cell_type": "code",
      "execution_count": 55,
      "id": "3854c21b-ca5b-4a51-ae90-3a7cae06fa36",
      "metadata": {
        "id": "3854c21b-ca5b-4a51-ae90-3a7cae06fa36"
      },
      "outputs": [],
      "source": [
        "x_1 = [i[1] for i in x]"
      ]
    },
    {
      "cell_type": "code",
      "execution_count": 56,
      "id": "00a48a84-4c4c-4e74-9bd2-741232657de5",
      "metadata": {
        "id": "00a48a84-4c4c-4e74-9bd2-741232657de5",
        "outputId": "01ef3d4d-3e5d-47d7-d0fe-6e54a170f174",
        "colab": {
          "base_uri": "https://localhost:8080/",
          "height": 447
        }
      },
      "outputs": [
        {
          "output_type": "execute_result",
          "data": {
            "text/plain": [
              "<matplotlib.collections.PathCollection at 0x7fc0b05e4c40>"
            ]
          },
          "metadata": {},
          "execution_count": 56
        },
        {
          "output_type": "display_data",
          "data": {
            "text/plain": [
              "<Figure size 640x480 with 1 Axes>"
            ],
            "image/png": "[encoded data removed]"
          },
          "metadata": {}
        }
      ],
      "source": [
        "plt.scatter(x_0,y)"
      ]
    },
    {
      "cell_type": "code",
      "execution_count": 57,
      "id": "4643cf4c-ae24-49cf-a862-1369a511a5d9",
      "metadata": {
        "id": "4643cf4c-ae24-49cf-a862-1369a511a5d9",
        "outputId": "bc921293-3fb7-44d9-a677-611a63f6d88f",
        "colab": {
          "base_uri": "https://localhost:8080/",
          "height": 447
        }
      },
      "outputs": [
        {
          "output_type": "execute_result",
          "data": {
            "text/plain": [
              "<matplotlib.collections.PathCollection at 0x7fc0b056ebb0>"
            ]
          },
          "metadata": {},
          "execution_count": 57
        },
        {
          "output_type": "display_data",
          "data": {
            "text/plain": [
              "<Figure size 640x480 with 1 Axes>"
            ],
            "image/png": "[encoded data removed]"
          },
          "metadata": {}
        }
      ],
      "source": [
        "plt.scatter(x_1,y)"
      ]
    },
    {
      "cell_type": "code",
      "execution_count": 58,
      "id": "058bdce1-3278-4510-b590-3812296f4dc7",
      "metadata": {
        "id": "058bdce1-3278-4510-b590-3812296f4dc7",
        "outputId": "2a6c39e6-4147-4a42-95ae-9ff66eafa07e",
        "colab": {
          "base_uri": "https://localhost:8080/"
        }
      },
      "outputs": [
        {
          "output_type": "stream",
          "name": "stdout",
          "text": [
            "5.055874980142981 3.1763896740514284\n"
          ]
        }
      ],
      "source": [
        "y_pred = model.predict(x)\n",
        "y_pred_poly = model_poly.predict(x_poly)\n",
        "mse  = mean_squared_error(y,y_pred)\n",
        "mse_poly = mean_squared_error(y,y_pred_poly)\n",
        "rmse = np.sqrt(mse)\n",
        "rmse_poly = np.sqrt(mse_poly)\n",
        "print(rmse,rmse_poly)"
      ]
    },
    {
      "cell_type": "markdown",
      "id": "2292e315-ce8a-4b88-8f74-7bf4c466646d",
      "metadata": {
        "id": "2292e315-ce8a-4b88-8f74-7bf4c466646d"
      },
      "source": [
        "# Advanced Linear Regression with Statsmodels\n",
        "\n",
        "Advanced Linear Regression dengan Statsmodels dapat memodelkan hubungan antara variabel target dan satu atau lebih variabel prediktor dengan menggunakan berbagai jenis model seperti Generalized Linear Model (GLM), Linear Mixed Effects Model (LME), dan Robust Linear Regression."
      ]
    },
    {
      "cell_type": "code",
      "execution_count": 59,
      "id": "1d7fd74e-3b8d-417a-881c-1d7e0f7106f2",
      "metadata": {
        "id": "1d7fd74e-3b8d-417a-881c-1d7e0f7106f2"
      },
      "outputs": [],
      "source": [
        "import statsmodels.api as sm"
      ]
    },
    {
      "cell_type": "code",
      "execution_count": 60,
      "id": "13f0ef2c-81ba-4dea-bdda-5b011e8ca2cc",
      "metadata": {
        "id": "13f0ef2c-81ba-4dea-bdda-5b011e8ca2cc"
      },
      "outputs": [],
      "source": [
        "x = np.array([[0,1],\n",
        "             [5,1],\n",
        "             [15,2],\n",
        "             [25,5],\n",
        "             [35,11],\n",
        "             [45,15],\n",
        "             [55,34],\n",
        "             [60,35]])\n",
        "y = np.array([4, 5, 20, 14, 32, 22, 38, 43])"
      ]
    },
    {
      "cell_type": "code",
      "execution_count": 61,
      "id": "d81f8beb-b18b-4606-b7b1-630aaa91ae04",
      "metadata": {
        "id": "d81f8beb-b18b-4606-b7b1-630aaa91ae04"
      },
      "outputs": [],
      "source": [
        "x = sm.add_constant(x)"
      ]
    },
    {
      "cell_type": "code",
      "execution_count": 62,
      "id": "fe604d99-727b-457b-aa5b-fe277f01f669",
      "metadata": {
        "id": "fe604d99-727b-457b-aa5b-fe277f01f669",
        "outputId": "06150508-fa8b-4ce8-c7ab-7fcb531ad15e",
        "colab": {
          "base_uri": "https://localhost:8080/"
        }
      },
      "outputs": [
        {
          "output_type": "execute_result",
          "data": {
            "text/plain": [
              "array([[ 1.,  0.,  1.],\n",
              "       [ 1.,  5.,  1.],\n",
              "       [ 1., 15.,  2.],\n",
              "       [ 1., 25.,  5.],\n",
              "       [ 1., 35., 11.],\n",
              "       [ 1., 45., 15.],\n",
              "       [ 1., 55., 34.],\n",
              "       [ 1., 60., 35.]])"
            ]
          },
          "metadata": {},
          "execution_count": 62
        }
      ],
      "source": [
        "x"
      ]
    },
    {
      "cell_type": "code",
      "execution_count": 63,
      "id": "5e17aedc-bfc1-4e67-ac6e-27811a3e821a",
      "metadata": {
        "id": "5e17aedc-bfc1-4e67-ac6e-27811a3e821a"
      },
      "outputs": [],
      "source": [
        "model_stat = sm.OLS(y,x)"
      ]
    },
    {
      "cell_type": "code",
      "execution_count": 64,
      "id": "5c75fe6d-5fc3-4b72-af0e-669b0b043d0c",
      "metadata": {
        "id": "5c75fe6d-5fc3-4b72-af0e-669b0b043d0c"
      },
      "outputs": [],
      "source": [
        "results = model_stat.fit()"
      ]
    },
    {
      "cell_type": "code",
      "execution_count": 65,
      "id": "883f4486-444f-4bec-ae8d-e42b5fda286e",
      "metadata": {
        "id": "883f4486-444f-4bec-ae8d-e42b5fda286e",
        "outputId": "3b2b7787-c0bd-47f6-8748-68a0276f0c6c",
        "colab": {
          "base_uri": "https://localhost:8080/"
        }
      },
      "outputs": [
        {
          "output_type": "stream",
          "name": "stdout",
          "text": [
            "                            OLS Regression Results                            \n",
            "==============================================================================\n",
            "Dep. Variable:                      y   R-squared:                       0.862\n",
            "Model:                            OLS   Adj. R-squared:                  0.806\n",
            "Method:                 Least Squares   F-statistic:                     15.56\n",
            "Date:                Sun, 09 Apr 2023   Prob (F-statistic):            0.00713\n",
            "Time:                        15:30:27   Log-Likelihood:                -24.316\n",
            "No. Observations:                   8   AIC:                             54.63\n",
            "Df Residuals:                       5   BIC:                             54.87\n",
            "Df Model:                           2                                         \n",
            "Covariance Type:            nonrobust                                         \n",
            "==============================================================================\n",
            "                 coef    std err          t      P>|t|      [0.025      0.975]\n",
            "------------------------------------------------------------------------------\n",
            "const          5.5226      4.431      1.246      0.268      -5.867      16.912\n",
            "x1             0.4471      0.285      1.567      0.178      -0.286       1.180\n",
            "x2             0.2550      0.453      0.563      0.598      -0.910       1.420\n",
            "==============================================================================\n",
            "Omnibus:                        0.561   Durbin-Watson:                   3.268\n",
            "Prob(Omnibus):                  0.755   Jarque-Bera (JB):                0.534\n",
            "Skew:                           0.380   Prob(JB):                        0.766\n",
            "Kurtosis:                       1.987   Cond. No.                         80.1\n",
            "==============================================================================\n",
            "\n",
            "Notes:\n",
            "[1] Standard Errors assume that the covariance matrix of the errors is correctly specified.\n"
          ]
        },
        {
          "output_type": "stream",
          "name": "stderr",
          "text": [
            "/usr/local/lib/python3.9/dist-packages/scipy/stats/_stats_py.py:1736: UserWarning: kurtosistest only valid for n>=20 ... continuing anyway, n=8\n",
            "  warnings.warn(\"kurtosistest only valid for n>=20 ... continuing \"\n"
          ]
        }
      ],
      "source": [
        "print(results.summary())"
      ]
    },
    {
      "cell_type": "markdown",
      "id": "5921e764-9ec4-42c8-8bf4-aafd64bbda94",
      "metadata": {
        "id": "5921e764-9ec4-42c8-8bf4-aafd64bbda94"
      },
      "source": [
        "formula regresi: y = 5.5226 + 0.4471x1 + 0.2550x2"
      ]
    },
    {
      "cell_type": "code",
      "execution_count": 66,
      "id": "b700378d-a575-42ff-871b-6a68bf64ee64",
      "metadata": {
        "id": "b700378d-a575-42ff-871b-6a68bf64ee64",
        "outputId": "d698ec93-0d9e-498e-8f7b-2130a4264aad",
        "colab": {
          "base_uri": "https://localhost:8080/"
        }
      },
      "outputs": [
        {
          "output_type": "stream",
          "name": "stdout",
          "text": [
            "rsquared: 0.8615939258756776\n"
          ]
        }
      ],
      "source": [
        "print('rsquared:',results.rsquared)"
      ]
    },
    {
      "cell_type": "code",
      "execution_count": 67,
      "id": "0be011e2-d318-49a8-bc68-a5d32558d370",
      "metadata": {
        "id": "0be011e2-d318-49a8-bc68-a5d32558d370",
        "outputId": "36a91c5a-d6c7-44e1-8348-5bf883a9f43e",
        "colab": {
          "base_uri": "https://localhost:8080/"
        }
      },
      "outputs": [
        {
          "output_type": "execute_result",
          "data": {
            "text/plain": [
              "array([5.52257928, 0.44706965, 0.25502548])"
            ]
          },
          "metadata": {},
          "execution_count": 67
        }
      ],
      "source": [
        "results.params"
      ]
    },
    {
      "cell_type": "code",
      "execution_count": 68,
      "id": "086a8e35-f017-471b-a1b2-543c79a4135a",
      "metadata": {
        "id": "086a8e35-f017-471b-a1b2-543c79a4135a",
        "outputId": "1cdd0ae6-15d3-4f27-d877-69c382debe09",
        "colab": {
          "base_uri": "https://localhost:8080/",
          "height": 139
        }
      },
      "outputs": [
        {
          "output_type": "stream",
          "name": "stderr",
          "text": [
            "/usr/local/lib/python3.9/dist-packages/scipy/stats/_stats_py.py:1736: UserWarning: kurtosistest only valid for n>=20 ... continuing anyway, n=8\n",
            "  warnings.warn(\"kurtosistest only valid for n>=20 ... continuing \"\n"
          ]
        },
        {
          "output_type": "execute_result",
          "data": {
            "text/plain": [
              "<class 'statsmodels.iolib.table.SimpleTable'>"
            ],
            "text/html": [
              "<table class=\"simpletable\">\n",
              "<tr>\n",
              "    <td></td>       <th>coef</th>     <th>std err</th>      <th>t</th>      <th>P>|t|</th>  <th>[0.025</th>    <th>0.975]</th>  \n",
              "</tr>\n",
              "<tr>\n",
              "  <th>const</th> <td>    5.5226</td> <td>    4.431</td> <td>    1.246</td> <td> 0.268</td> <td>   -5.867</td> <td>   16.912</td>\n",
              "</tr>\n",
              "<tr>\n",
              "  <th>x1</th>    <td>    0.4471</td> <td>    0.285</td> <td>    1.567</td> <td> 0.178</td> <td>   -0.286</td> <td>    1.180</td>\n",
              "</tr>\n",
              "<tr>\n",
              "  <th>x2</th>    <td>    0.2550</td> <td>    0.453</td> <td>    0.563</td> <td> 0.598</td> <td>   -0.910</td> <td>    1.420</td>\n",
              "</tr>\n",
              "</table>"
            ]
          },
          "metadata": {},
          "execution_count": 68
        }
      ],
      "source": [
        "res_summary = results.summary()\n",
        "res_summary.tables[1]"
      ]
    },
    {
      "cell_type": "code",
      "execution_count": 69,
      "id": "d63d6907-1ac8-44d9-ac43-67fe7d89723c",
      "metadata": {
        "id": "d63d6907-1ac8-44d9-ac43-67fe7d89723c",
        "outputId": "3cd2f9dc-d00d-4b10-a4f1-8e4608328e4c",
        "colab": {
          "base_uri": "https://localhost:8080/",
          "height": 229
        }
      },
      "outputs": [
        {
          "output_type": "execute_result",
          "data": {
            "text/plain": [
              "<class 'statsmodels.iolib.table.SimpleTable'>"
            ],
            "text/html": [
              "<table class=\"simpletable\">\n",
              "<caption>OLS Regression Results</caption>\n",
              "<tr>\n",
              "  <th>Dep. Variable:</th>            <td>y</td>        <th>  R-squared:         </th> <td>   0.862</td>\n",
              "</tr>\n",
              "<tr>\n",
              "  <th>Model:</th>                   <td>OLS</td>       <th>  Adj. R-squared:    </th> <td>   0.806</td>\n",
              "</tr>\n",
              "<tr>\n",
              "  <th>Method:</th>             <td>Least Squares</td>  <th>  F-statistic:       </th> <td>   15.56</td>\n",
              "</tr>\n",
              "<tr>\n",
              "  <th>Date:</th>             <td>Sun, 09 Apr 2023</td> <th>  Prob (F-statistic):</th>  <td>0.00713</td>\n",
              "</tr>\n",
              "<tr>\n",
              "  <th>Time:</th>                 <td>15:30:27</td>     <th>  Log-Likelihood:    </th> <td> -24.316</td>\n",
              "</tr>\n",
              "<tr>\n",
              "  <th>No. Observations:</th>      <td>     8</td>      <th>  AIC:               </th> <td>   54.63</td>\n",
              "</tr>\n",
              "<tr>\n",
              "  <th>Df Residuals:</th>          <td>     5</td>      <th>  BIC:               </th> <td>   54.87</td>\n",
              "</tr>\n",
              "<tr>\n",
              "  <th>Df Model:</th>              <td>     2</td>      <th>                     </th>     <td> </td>   \n",
              "</tr>\n",
              "<tr>\n",
              "  <th>Covariance Type:</th>      <td>nonrobust</td>    <th>                     </th>     <td> </td>   \n",
              "</tr>\n",
              "</table>"
            ]
          },
          "metadata": {},
          "execution_count": 69
        }
      ],
      "source": [
        "res_summary.tables[0]"
      ]
    },
    {
      "cell_type": "code",
      "execution_count": 70,
      "id": "cef53c39-6c65-4f5f-8711-c033d7c94f0d",
      "metadata": {
        "id": "cef53c39-6c65-4f5f-8711-c033d7c94f0d"
      },
      "outputs": [],
      "source": [
        "y_pred = results.predict(x)"
      ]
    },
    {
      "cell_type": "code",
      "execution_count": 71,
      "id": "7ecaa4ce-5a7f-477c-9c8b-4dd0b67b44b0",
      "metadata": {
        "id": "7ecaa4ce-5a7f-477c-9c8b-4dd0b67b44b0"
      },
      "outputs": [],
      "source": [
        "mse = mean_squared_error(y,y_pred)"
      ]
    },
    {
      "cell_type": "code",
      "execution_count": 72,
      "id": "2c1b5071-720e-45d2-b95f-bb03280685c9",
      "metadata": {
        "id": "2c1b5071-720e-45d2-b95f-bb03280685c9",
        "outputId": "e35b5530-6229-4814-9921-13aacee2c68a",
        "colab": {
          "base_uri": "https://localhost:8080/"
        }
      },
      "outputs": [
        {
          "output_type": "execute_result",
          "data": {
            "text/plain": [
              "5.055874980142981"
            ]
          },
          "metadata": {},
          "execution_count": 72
        }
      ],
      "source": [
        "np.sqrt(mse)"
      ]
    },
    {
      "cell_type": "markdown",
      "id": "9b7ea7f4-7c20-40bb-b6ff-8e9192e2d7a2",
      "metadata": {
        "id": "9b7ea7f4-7c20-40bb-b6ff-8e9192e2d7a2"
      },
      "source": [
        "## Implementing Linear Regression on Real Dataset"
      ]
    },
    {
      "cell_type": "code",
      "execution_count": 73,
      "id": "21dd3e1d-ec4e-4282-95a0-2c10ff6c0a2d",
      "metadata": {
        "id": "21dd3e1d-ec4e-4282-95a0-2c10ff6c0a2d"
      },
      "outputs": [],
      "source": [
        "import statsmodels.api as sm\n",
        "from sklearn import datasets\n",
        "import pandas as pd"
      ]
    },
    {
      "cell_type": "markdown",
      "id": "ac374193-a0fa-4df9-aa93-261f4390d8a4",
      "metadata": {
        "id": "ac374193-a0fa-4df9-aa93-261f4390d8a4"
      },
      "source": [
        " Variables in order:\n",
        " CRIM     per capita crime rate by town\n",
        " ZN       proportion of residential land zoned for lots over 25,000 sq.ft.\n",
        " INDUS    proportion of non-retail business acres per town\n",
        " CHAS     Charles River dummy variable (= 1 if tract bounds river; 0 otherwise)\n",
        " NOX      nitric oxides concentration (parts per 10 million)\n",
        " RM       average number of rooms per dwelling\n",
        " AGE      proportion of owner-occupied units built prior to 1940\n",
        " DIS      weighted distances to five Boston employment centres\n",
        " RAD      index of accessibility to radial highways\n",
        " TAX      full-value property-tax rate per $10,000\n",
        " PTRATIO  pupil-teacher ratio by town\n",
        " B        1000(Bk - 0.63)^2 where Bk is the proportion of blacks by town\n",
        " LSTAT    % lower status of the population\n",
        " MEDV     Median value of owner-occupied homes in $1000's"
      ]
    },
    {
      "cell_type": "code",
      "execution_count": 74,
      "id": "822c9dfe-1fd2-42e6-b1e9-50d1233ddd24",
      "metadata": {
        "id": "822c9dfe-1fd2-42e6-b1e9-50d1233ddd24"
      },
      "outputs": [],
      "source": [
        "df = pd.read_csv('/content/drive/MyDrive/msib/msib/BostonHousing.csv')"
      ]
    },
    {
      "cell_type": "code",
      "execution_count": 75,
      "id": "32cb801b-3207-42b2-ac3b-b552f4137307",
      "metadata": {
        "id": "32cb801b-3207-42b2-ac3b-b552f4137307",
        "outputId": "bf685f23-9d52-43b1-e89b-f6116fba7891",
        "colab": {
          "base_uri": "https://localhost:8080/",
          "height": 424
        }
      },
      "outputs": [
        {
          "output_type": "execute_result",
          "data": {
            "text/plain": [
              "        crim    zn  indus  chas    nox     rm   age     dis  rad  tax  \\\n",
              "0    0.00632  18.0   2.31     0  0.538  6.575  65.2  4.0900    1  296   \n",
              "1    0.02731   0.0   7.07     0  0.469  6.421  78.9  4.9671    2  242   \n",
              "2    0.02729   0.0   7.07     0  0.469  7.185  61.1  4.9671    2  242   \n",
              "3    0.03237   0.0   2.18     0  0.458  6.998  45.8  6.0622    3  222   \n",
              "4    0.06905   0.0   2.18     0  0.458  7.147  54.2  6.0622    3  222   \n",
              "..       ...   ...    ...   ...    ...    ...   ...     ...  ...  ...   \n",
              "501  0.06263   0.0  11.93     0  0.573  6.593  69.1  2.4786    1  273   \n",
              "502  0.04527   0.0  11.93     0  0.573  6.120  76.7  2.2875    1  273   \n",
              "503  0.06076   0.0  11.93     0  0.573  6.976  91.0  2.1675    1  273   \n",
              "504  0.10959   0.0  11.93     0  0.573  6.794  89.3  2.3889    1  273   \n",
              "505  0.04741   0.0  11.93     0  0.573  6.030  80.8  2.5050    1  273   \n",
              "\n",
              "     ptratio       b  lstat  medv  \n",
              "0       15.3  396.90   4.98  24.0  \n",
              "1       17.8  396.90   9.14  21.6  \n",
              "2       17.8  392.83   4.03  34.7  \n",
              "3       18.7  394.63   2.94  33.4  \n",
              "4       18.7  396.90   5.33  36.2  \n",
              "..       ...     ...    ...   ...  \n",
              "501     21.0  391.99   9.67  22.4  \n",
              "502     21.0  396.90   9.08  20.6  \n",
              "503     21.0  396.90   5.64  23.9  \n",
              "504     21.0  393.45   6.48  22.0  \n",
              "505     21.0  396.90   7.88  11.9  \n",
              "\n",
              "[506 rows x 14 columns]"
            ],
            "text/html": [
              "\n",
              "  <div id=\"df-68a75cac-a5e5-4d9f-bd8f-12197f5e7b7b\">\n",
              "    <div class=\"colab-df-container\">\n",
              "      <div>\n",
              "<style scoped>\n",
              "    .dataframe tbody tr th:only-of-type {\n",
              "        vertical-align: middle;\n",
              "    }\n",
              "\n",
              "    .dataframe tbody tr th {\n",
              "        vertical-align: top;\n",
              "    }\n",
              "\n",
              "    .dataframe thead th {\n",
              "        text-align: right;\n",
              "    }\n",
              "</style>\n",
              "<table border=\"1\" class=\"dataframe\">\n",
              "  <thead>\n",
              "    <tr style=\"text-align: right;\">\n",
              "      <th></th>\n",
              "      <th>crim</th>\n",
              "      <th>zn</th>\n",
              "      <th>indus</th>\n",
              "      <th>chas</th>\n",
              "      <th>nox</th>\n",
              "      <th>rm</th>\n",
              "      <th>age</th>\n",
              "      <th>dis</th>\n",
              "      <th>rad</th>\n",
              "      <th>tax</th>\n",
              "      <th>ptratio</th>\n",
              "      <th>b</th>\n",
              "      <th>lstat</th>\n",
              "      <th>medv</th>\n",
              "    </tr>\n",
              "  </thead>\n",
              "  <tbody>\n",
              "    <tr>\n",
              "      <th>0</th>\n",
              "      <td>0.00632</td>\n",
              "      <td>18.0</td>\n",
              "      <td>2.31</td>\n",
              "      <td>0</td>\n",
              "      <td>0.538</td>\n",
              "      <td>6.575</td>\n",
              "      <td>65.2</td>\n",
              "      <td>4.0900</td>\n",
              "      <td>1</td>\n",
              "      <td>296</td>\n",
              "      <td>15.3</td>\n",
              "      <td>396.90</td>\n",
              "      <td>4.98</td>\n",
              "      <td>24.0</td>\n",
              "    </tr>\n",
              "    <tr>\n",
              "      <th>1</th>\n",
              "      <td>0.02731</td>\n",
              "      <td>0.0</td>\n",
              "      <td>7.07</td>\n",
              "      <td>0</td>\n",
              "      <td>0.469</td>\n",
              "      <td>6.421</td>\n",
              "      <td>78.9</td>\n",
              "      <td>4.9671</td>\n",
              "      <td>2</td>\n",
              "      <td>242</td>\n",
              "      <td>17.8</td>\n",
              "      <td>396.90</td>\n",
              "      <td>9.14</td>\n",
              "      <td>21.6</td>\n",
              "    </tr>\n",
              "    <tr>\n",
              "      <th>2</th>\n",
              "      <td>0.02729</td>\n",
              "      <td>0.0</td>\n",
              "      <td>7.07</td>\n",
              "      <td>0</td>\n",
              "      <td>0.469</td>\n",
              "      <td>7.185</td>\n",
              "      <td>61.1</td>\n",
              "      <td>4.9671</td>\n",
              "      <td>2</td>\n",
              "      <td>242</td>\n",
              "      <td>17.8</td>\n",
              "      <td>392.83</td>\n",
              "      <td>4.03</td>\n",
              "      <td>34.7</td>\n",
              "    </tr>\n",
              "    <tr>\n",
              "      <th>3</th>\n",
              "      <td>0.03237</td>\n",
              "      <td>0.0</td>\n",
              "      <td>2.18</td>\n",
              "      <td>0</td>\n",
              "      <td>0.458</td>\n",
              "      <td>6.998</td>\n",
              "      <td>45.8</td>\n",
              "      <td>6.0622</td>\n",
              "      <td>3</td>\n",
              "      <td>222</td>\n",
              "      <td>18.7</td>\n",
              "      <td>394.63</td>\n",
              "      <td>2.94</td>\n",
              "      <td>33.4</td>\n",
              "    </tr>\n",
              "    <tr>\n",
              "      <th>4</th>\n",
              "      <td>0.06905</td>\n",
              "      <td>0.0</td>\n",
              "      <td>2.18</td>\n",
              "      <td>0</td>\n",
              "      <td>0.458</td>\n",
              "      <td>7.147</td>\n",
              "      <td>54.2</td>\n",
              "      <td>6.0622</td>\n",
              "      <td>3</td>\n",
              "      <td>222</td>\n",
              "      <td>18.7</td>\n",
              "      <td>396.90</td>\n",
              "      <td>5.33</td>\n",
              "      <td>36.2</td>\n",
              "    </tr>\n",
              "    <tr>\n",
              "      <th>...</th>\n",
              "      <td>...</td>\n",
              "      <td>...</td>\n",
              "      <td>...</td>\n",
              "      <td>...</td>\n",
              "      <td>...</td>\n",
              "      <td>...</td>\n",
              "      <td>...</td>\n",
              "      <td>...</td>\n",
              "      <td>...</td>\n",
              "      <td>...</td>\n",
              "      <td>...</td>\n",
              "      <td>...</td>\n",
              "      <td>...</td>\n",
              "      <td>...</td>\n",
              "    </tr>\n",
              "    <tr>\n",
              "      <th>501</th>\n",
              "      <td>0.06263</td>\n",
              "      <td>0.0</td>\n",
              "      <td>11.93</td>\n",
              "      <td>0</td>\n",
              "      <td>0.573</td>\n",
              "      <td>6.593</td>\n",
              "      <td>69.1</td>\n",
              "      <td>2.4786</td>\n",
              "      <td>1</td>\n",
              "      <td>273</td>\n",
              "      <td>21.0</td>\n",
              "      <td>391.99</td>\n",
              "      <td>9.67</td>\n",
              "      <td>22.4</td>\n",
              "    </tr>\n",
              "    <tr>\n",
              "      <th>502</th>\n",
              "      <td>0.04527</td>\n",
              "      <td>0.0</td>\n",
              "      <td>11.93</td>\n",
              "      <td>0</td>\n",
              "      <td>0.573</td>\n",
              "      <td>6.120</td>\n",
              "      <td>76.7</td>\n",
              "      <td>2.2875</td>\n",
              "      <td>1</td>\n",
              "      <td>273</td>\n",
              "      <td>21.0</td>\n",
              "      <td>396.90</td>\n",
              "      <td>9.08</td>\n",
              "      <td>20.6</td>\n",
              "    </tr>\n",
              "    <tr>\n",
              "      <th>503</th>\n",
              "      <td>0.06076</td>\n",
              "      <td>0.0</td>\n",
              "      <td>11.93</td>\n",
              "      <td>0</td>\n",
              "      <td>0.573</td>\n",
              "      <td>6.976</td>\n",
              "      <td>91.0</td>\n",
              "      <td>2.1675</td>\n",
              "      <td>1</td>\n",
              "      <td>273</td>\n",
              "      <td>21.0</td>\n",
              "      <td>396.90</td>\n",
              "      <td>5.64</td>\n",
              "      <td>23.9</td>\n",
              "    </tr>\n",
              "    <tr>\n",
              "      <th>504</th>\n",
              "      <td>0.10959</td>\n",
              "      <td>0.0</td>\n",
              "      <td>11.93</td>\n",
              "      <td>0</td>\n",
              "      <td>0.573</td>\n",
              "      <td>6.794</td>\n",
              "      <td>89.3</td>\n",
              "      <td>2.3889</td>\n",
              "      <td>1</td>\n",
              "      <td>273</td>\n",
              "      <td>21.0</td>\n",
              "      <td>393.45</td>\n",
              "      <td>6.48</td>\n",
              "      <td>22.0</td>\n",
              "    </tr>\n",
              "    <tr>\n",
              "      <th>505</th>\n",
              "      <td>0.04741</td>\n",
              "      <td>0.0</td>\n",
              "      <td>11.93</td>\n",
              "      <td>0</td>\n",
              "      <td>0.573</td>\n",
              "      <td>6.030</td>\n",
              "      <td>80.8</td>\n",
              "      <td>2.5050</td>\n",
              "      <td>1</td>\n",
              "      <td>273</td>\n",
              "      <td>21.0</td>\n",
              "      <td>396.90</td>\n",
              "      <td>7.88</td>\n",
              "      <td>11.9</td>\n",
              "    </tr>\n",
              "  </tbody>\n",
              "</table>\n",
              "<p>506 rows × 14 columns</p>\n",
              "</div>\n",
              "      <button class=\"colab-df-convert\" onclick=\"convertToInteractive('df-68a75cac-a5e5-4d9f-bd8f-12197f5e7b7b')\"\n",
              "              title=\"Convert this dataframe to an interactive table.\"\n",
              "              style=\"display:none;\">\n",
              "        \n",
              "  <svg xmlns=\"http://www.w3.org/2000/svg\" height=\"24px\"viewBox=\"0 0 24 24\"\n",
              "       width=\"24px\">\n",
              "    <path d=\"M0 0h24v24H0V0z\" fill=\"none\"/>\n",
              "    <path d=\"M18.56 5.44l.94 2.06.94-2.06 2.06-.94-2.06-.94-.94-2.06-.94 2.06-2.06.94zm-11 1L8.5 8.5l.94-2.06 2.06-.94-2.06-.94L8.5 2.5l-.94 2.06-2.06.94zm10 10l.94 2.06.94-2.06 2.06-.94-2.06-.94-.94-2.06-.94 2.06-2.06.94z\"/><path d=\"M17.41 7.96l-1.37-1.37c-.4-.4-.92-.59-1.43-.59-.52 0-1.04.2-1.43.59L10.3 9.45l-7.72 7.72c-.78.78-.78 2.05 0 2.83L4 21.41c.39.39.9.59 1.41.59.51 0 1.02-.2 1.41-.59l7.78-7.78 2.81-2.81c.8-.78.8-2.07 0-2.86zM5.41 20L4 18.59l7.72-7.72 1.47 1.35L5.41 20z\"/>\n",
              "  </svg>\n",
              "      </button>\n",
              "      \n",
              "  <style>\n",
              "    .colab-df-container {\n",
              "      display:flex;\n",
              "      flex-wrap:wrap;\n",
              "      gap: 12px;\n",
              "    }\n",
              "\n",
              "    .colab-df-convert {\n",
              "      background-color: #E8F0FE;\n",
              "      border: none;\n",
              "      border-radius: 50%;\n",
              "      cursor: pointer;\n",
              "      display: none;\n",
              "      fill: #1967D2;\n",
              "      height: 32px;\n",
              "      padding: 0 0 0 0;\n",
              "      width: 32px;\n",
              "    }\n",
              "\n",
              "    .colab-df-convert:hover {\n",
              "      background-color: #E2EBFA;\n",
              "      box-shadow: 0px 1px 2px rgba(60, 64, 67, 0.3), 0px 1px 3px 1px rgba(60, 64, 67, 0.15);\n",
              "      fill: #174EA6;\n",
              "    }\n",
              "\n",
              "    [theme=dark] .colab-df-convert {\n",
              "      background-color: #3B4455;\n",
              "      fill: #D2E3FC;\n",
              "    }\n",
              "\n",
              "    [theme=dark] .colab-df-convert:hover {\n",
              "      background-color: #434B5C;\n",
              "      box-shadow: 0px 1px 3px 1px rgba(0, 0, 0, 0.15);\n",
              "      filter: drop-shadow(0px 1px 2px rgba(0, 0, 0, 0.3));\n",
              "      fill: #FFFFFF;\n",
              "    }\n",
              "  </style>\n",
              "\n",
              "      <script>\n",
              "        const buttonEl =\n",
              "          document.querySelector('#df-68a75cac-a5e5-4d9f-bd8f-12197f5e7b7b button.colab-df-convert');\n",
              "        buttonEl.style.display =\n",
              "          google.colab.kernel.accessAllowed ? 'block' : 'none';\n",
              "\n",
              "        async function convertToInteractive(key) {\n",
              "          const element = document.querySelector('#df-68a75cac-a5e5-4d9f-bd8f-12197f5e7b7b');\n",
              "          const dataTable =\n",
              "            await google.colab.kernel.invokeFunction('convertToInteractive',\n",
              "                                                     [key], {});\n",
              "          if (!dataTable) return;\n",
              "\n",
              "          const docLinkHtml = 'Like what you see? Visit the ' +\n",
              "            '<a target=\"_blank\" href=https://colab.research.google.com/notebooks/data_table.ipynb>data table notebook</a>'\n",
              "            + ' to learn more about interactive tables.';\n",
              "          element.innerHTML = '';\n",
              "          dataTable['output_type'] = 'display_data';\n",
              "          await google.colab.output.renderOutput(dataTable, element);\n",
              "          const docLink = document.createElement('div');\n",
              "          docLink.innerHTML = docLinkHtml;\n",
              "          element.appendChild(docLink);\n",
              "        }\n",
              "      </script>\n",
              "    </div>\n",
              "  </div>\n",
              "  "
            ]
          },
          "metadata": {},
          "execution_count": 75
        }
      ],
      "source": [
        "df"
      ]
    },
    {
      "cell_type": "code",
      "execution_count": 76,
      "id": "9e9310b7-82a8-4093-89e1-dee92cf1f6ae",
      "metadata": {
        "id": "9e9310b7-82a8-4093-89e1-dee92cf1f6ae"
      },
      "outputs": [],
      "source": [
        "x = df.drop('medv',axis=1)\n",
        "y = df['medv']"
      ]
    },
    {
      "cell_type": "code",
      "execution_count": 77,
      "id": "6e234a87-7cf6-401f-ac98-41d103f4852d",
      "metadata": {
        "id": "6e234a87-7cf6-401f-ac98-41d103f4852d",
        "outputId": "94006158-0aff-489a-ebd2-d0d415ccea5d",
        "colab": {
          "base_uri": "https://localhost:8080/"
        }
      },
      "outputs": [
        {
          "output_type": "stream",
          "name": "stdout",
          "text": [
            "                                 OLS Regression Results                                \n",
            "=======================================================================================\n",
            "Dep. Variable:                   medv   R-squared (uncentered):                   0.901\n",
            "Model:                            OLS   Adj. R-squared (uncentered):              0.901\n",
            "Method:                 Least Squares   F-statistic:                              4615.\n",
            "Date:                Sun, 09 Apr 2023   Prob (F-statistic):                   3.74e-256\n",
            "Time:                        15:30:28   Log-Likelihood:                         -1747.1\n",
            "No. Observations:                 506   AIC:                                      3496.\n",
            "Df Residuals:                     505   BIC:                                      3500.\n",
            "Df Model:                           1                                                  \n",
            "Covariance Type:            nonrobust                                                  \n",
            "==============================================================================\n",
            "                 coef    std err          t      P>|t|      [0.025      0.975]\n",
            "------------------------------------------------------------------------------\n",
            "rm             3.6534      0.054     67.930      0.000       3.548       3.759\n",
            "==============================================================================\n",
            "Omnibus:                       83.295   Durbin-Watson:                   0.493\n",
            "Prob(Omnibus):                  0.000   Jarque-Bera (JB):              152.507\n",
            "Skew:                           0.955   Prob(JB):                     7.65e-34\n",
            "Kurtosis:                       4.894   Cond. No.                         1.00\n",
            "==============================================================================\n",
            "\n",
            "Notes:\n",
            "[1] R² is computed without centering (uncentered) since the model does not contain a constant.\n",
            "[2] Standard Errors assume that the covariance matrix of the errors is correctly specified.\n"
          ]
        }
      ],
      "source": [
        "x=x[['rm']]\n",
        "model = sm.OLS(y,x)\n",
        "results = model.fit()\n",
        "predictions = results.predict(x)\n",
        "print(results.summary())"
      ]
    },
    {
      "cell_type": "code",
      "execution_count": 78,
      "id": "51fe108d-0b6f-4ca1-bdd9-366e9efa4369",
      "metadata": {
        "id": "51fe108d-0b6f-4ca1-bdd9-366e9efa4369",
        "outputId": "f8e55adb-0f70-4aa1-f811-4a1368c60b33",
        "colab": {
          "base_uri": "https://localhost:8080/",
          "height": 447
        }
      },
      "outputs": [
        {
          "output_type": "execute_result",
          "data": {
            "text/plain": [
              "[<matplotlib.lines.Line2D at 0x7fc0a38516a0>]"
            ]
          },
          "metadata": {},
          "execution_count": 78
        },
        {
          "output_type": "display_data",
          "data": {
            "text/plain": [
              "<Figure size 640x480 with 1 Axes>"
            ],
            "image/png": "[encoded data removed]"
          },
          "metadata": {}
        }
      ],
      "source": [
        "plt.scatter(x,y)\n",
        "plt.plot(x,predictions)"
      ]
    },
    {
      "cell_type": "markdown",
      "id": "592e7fc6-bbc1-4b6d-869b-594c589b93bd",
      "metadata": {
        "id": "592e7fc6-bbc1-4b6d-869b-594c589b93bd"
      },
      "source": [
        "## Use SKLEARN for boston"
      ]
    },
    {
      "cell_type": "code",
      "execution_count": 79,
      "id": "362a3e49-c62f-4ca1-aff7-34e6326aeac2",
      "metadata": {
        "id": "362a3e49-c62f-4ca1-aff7-34e6326aeac2",
        "outputId": "f6fad30e-73f9-45ef-e49b-1495050672e1",
        "colab": {
          "base_uri": "https://localhost:8080/"
        }
      },
      "outputs": [
        {
          "output_type": "stream",
          "name": "stderr",
          "text": [
            "<ipython-input-79-92565aff0637>:1: FutureWarning: In a future version of pandas all arguments of DataFrame.drop except for the argument 'labels' will be keyword-only.\n",
            "  X = df.drop('medv',1)\n"
          ]
        }
      ],
      "source": [
        "X = df.drop('medv',1)\n",
        "y = df['medv']"
      ]
    },
    {
      "cell_type": "code",
      "execution_count": 80,
      "id": "4998ffc7-96c8-44da-b7a9-b36af0078212",
      "metadata": {
        "id": "4998ffc7-96c8-44da-b7a9-b36af0078212"
      },
      "outputs": [],
      "source": [
        "linreg = LinearRegression()"
      ]
    },
    {
      "cell_type": "code",
      "execution_count": 81,
      "id": "9dfa48a0-71ed-4339-8e70-759831ba2b04",
      "metadata": {
        "id": "9dfa48a0-71ed-4339-8e70-759831ba2b04",
        "outputId": "2efbdcaf-dd3a-4a00-d92a-436471de1992",
        "colab": {
          "base_uri": "https://localhost:8080/",
          "height": 75
        }
      },
      "outputs": [
        {
          "output_type": "execute_result",
          "data": {
            "text/plain": [
              "LinearRegression()"
            ],
            "text/html": [
              "<style>#sk-container-id-6 {color: black;background-color: white;}#sk-container-id-6 pre{padding: 0;}#sk-container-id-6 div.sk-toggleable {background-color: white;}#sk-container-id-6 label.sk-toggleable__label {cursor: pointer;display: block;width: 100%;margin-bottom: 0;padding: 0.3em;box-sizing: border-box;text-align: center;}#sk-container-id-6 label.sk-toggleable__label-arrow:before {content: \"▸\";float: left;margin-right: 0.25em;color: #696969;}#sk-container-id-6 label.sk-toggleable__label-arrow:hover:before {color: black;}#sk-container-id-6 div.sk-estimator:hover label.sk-toggleable__label-arrow:before {color: black;}#sk-container-id-6 div.sk-toggleable__content {max-height: 0;max-width: 0;overflow: hidden;text-align: left;background-color: #f0f8ff;}#sk-container-id-6 div.sk-toggleable__content pre {margin: 0.2em;color: black;border-radius: 0.25em;background-color: #f0f8ff;}#sk-container-id-6 input.sk-toggleable__control:checked~div.sk-toggleable__content {max-height: 200px;max-width: 100%;overflow: auto;}#sk-container-id-6 input.sk-toggleable__control:checked~label.sk-toggleable__label-arrow:before {content: \"▾\";}#sk-container-id-6 div.sk-estimator input.sk-toggleable__control:checked~label.sk-toggleable__label {background-color: #d4ebff;}#sk-container-id-6 div.sk-label input.sk-toggleable__control:checked~label.sk-toggleable__label {background-color: #d4ebff;}#sk-container-id-6 input.sk-hidden--visually {border: 0;clip: rect(1px 1px 1px 1px);clip: rect(1px, 1px, 1px, 1px);height: 1px;margin: -1px;overflow: hidden;padding: 0;position: absolute;width: 1px;}#sk-container-id-6 div.sk-estimator {font-family: monospace;background-color: #f0f8ff;border: 1px dotted black;border-radius: 0.25em;box-sizing: border-box;margin-bottom: 0.5em;}#sk-container-id-6 div.sk-estimator:hover {background-color: #d4ebff;}#sk-container-id-6 div.sk-parallel-item::after {content: \"\";width: 100%;border-bottom: 1px solid gray;flex-grow: 1;}#sk-container-id-6 div.sk-label:hover label.sk-toggleable__label {background-color: #d4ebff;}#sk-container-id-6 div.sk-serial::before {content: \"\";position: absolute;border-left: 1px solid gray;box-sizing: border-box;top: 0;bottom: 0;left: 50%;z-index: 0;}#sk-container-id-6 div.sk-serial {display: flex;flex-direction: column;align-items: center;background-color: white;padding-right: 0.2em;padding-left: 0.2em;position: relative;}#sk-container-id-6 div.sk-item {position: relative;z-index: 1;}#sk-container-id-6 div.sk-parallel {display: flex;align-items: stretch;justify-content: center;background-color: white;position: relative;}#sk-container-id-6 div.sk-item::before, #sk-container-id-6 div.sk-parallel-item::before {content: \"\";position: absolute;border-left: 1px solid gray;box-sizing: border-box;top: 0;bottom: 0;left: 50%;z-index: -1;}#sk-container-id-6 div.sk-parallel-item {display: flex;flex-direction: column;z-index: 1;position: relative;background-color: white;}#sk-container-id-6 div.sk-parallel-item:first-child::after {align-self: flex-end;width: 50%;}#sk-container-id-6 div.sk-parallel-item:last-child::after {align-self: flex-start;width: 50%;}#sk-container-id-6 div.sk-parallel-item:only-child::after {width: 0;}#sk-container-id-6 div.sk-dashed-wrapped {border: 1px dashed gray;margin: 0 0.4em 0.5em 0.4em;box-sizing: border-box;padding-bottom: 0.4em;background-color: white;}#sk-container-id-6 div.sk-label label {font-family: monospace;font-weight: bold;display: inline-block;line-height: 1.2em;}#sk-container-id-6 div.sk-label-container {text-align: center;}#sk-container-id-6 div.sk-container {/* jupyter's `normalize.less` sets `[hidden] { display: none; }` but bootstrap.min.css set `[hidden] { display: none !important; }` so we also need the `!important` here to be able to override the default hidden behavior on the sphinx rendered scikit-learn.org. See: https://github.com/scikit-learn/scikit-learn/issues/21755 */display: inline-block !important;position: relative;}#sk-container-id-6 div.sk-text-repr-fallback {display: none;}</style><div id=\"sk-container-id-6\" class=\"sk-top-container\"><div class=\"sk-text-repr-fallback\"><pre>LinearRegression()</pre><b>In a Jupyter environment, please rerun this cell to show the HTML representation or trust the notebook. <br />On GitHub, the HTML representation is unable to render, please try loading this page with nbviewer.org.</b></div><div class=\"sk-container\" hidden><div class=\"sk-item\"><div class=\"sk-estimator sk-toggleable\"><input class=\"sk-toggleable__control sk-hidden--visually\" id=\"sk-estimator-id-6\" type=\"checkbox\" checked><label for=\"sk-estimator-id-6\" class=\"sk-toggleable__label sk-toggleable__label-arrow\">LinearRegression</label><div class=\"sk-toggleable__content\"><pre>LinearRegression()</pre></div></div></div></div></div>"
            ]
          },
          "metadata": {},
          "execution_count": 81
        }
      ],
      "source": [
        "linreg.fit(X,y)"
      ]
    },
    {
      "cell_type": "code",
      "execution_count": 82,
      "id": "9af58822-00c7-4e9a-99ef-c3b2df2dfffd",
      "metadata": {
        "id": "9af58822-00c7-4e9a-99ef-c3b2df2dfffd"
      },
      "outputs": [],
      "source": [
        "y_pred = linreg.predict(X)\n"
      ]
    },
    {
      "cell_type": "code",
      "execution_count": 83,
      "id": "b5f2ad88-7307-45cc-a58b-3fa2dfea76a9",
      "metadata": {
        "id": "b5f2ad88-7307-45cc-a58b-3fa2dfea76a9",
        "outputId": "80c66307-a7d7-46ac-edc3-0f6fa24fe9b5",
        "colab": {
          "base_uri": "https://localhost:8080/"
        }
      },
      "outputs": [
        {
          "output_type": "execute_result",
          "data": {
            "text/plain": [
              "0.7406426641094095"
            ]
          },
          "metadata": {},
          "execution_count": 83
        }
      ],
      "source": [
        "linreg.score(X,y)"
      ]
    },
    {
      "cell_type": "markdown",
      "id": "a0289b8d-e5d6-43b2-8054-aaf5b0f234ad",
      "metadata": {
        "id": "a0289b8d-e5d6-43b2-8054-aaf5b0f234ad"
      },
      "source": [
        "## Contoh kedua sklearn"
      ]
    },
    {
      "cell_type": "code",
      "execution_count": 84,
      "id": "065f67c8-6c3c-4a7d-b1a2-80a6f0638a40",
      "metadata": {
        "id": "065f67c8-6c3c-4a7d-b1a2-80a6f0638a40"
      },
      "outputs": [],
      "source": [
        "df = pd.read_csv('/content/drive/MyDrive/msib/msib/CarPrice_Assignment.csv',usecols=['horsepower','price'])"
      ]
    },
    {
      "cell_type": "code",
      "execution_count": 85,
      "id": "a8515ccd-25d1-4a8b-bec2-7128d5a07739",
      "metadata": {
        "id": "a8515ccd-25d1-4a8b-bec2-7128d5a07739",
        "outputId": "7c5cbcee-b306-4b78-dea1-daa08262d02b",
        "colab": {
          "base_uri": "https://localhost:8080/",
          "height": 424
        }
      },
      "outputs": [
        {
          "output_type": "execute_result",
          "data": {
            "text/plain": [
              "     horsepower    price\n",
              "0           111  13495.0\n",
              "1           111  16500.0\n",
              "2           154  16500.0\n",
              "3           102  13950.0\n",
              "4           115  17450.0\n",
              "..          ...      ...\n",
              "200         114  16845.0\n",
              "201         160  19045.0\n",
              "202         134  21485.0\n",
              "203         106  22470.0\n",
              "204         114  22625.0\n",
              "\n",
              "[205 rows x 2 columns]"
            ],
            "text/html": [
              "\n",
              "  <div id=\"df-5bcd5985-e7d4-45b2-bab7-9bdf9b1a656c\">\n",
              "    <div class=\"colab-df-container\">\n",
              "      <div>\n",
              "<style scoped>\n",
              "    .dataframe tbody tr th:only-of-type {\n",
              "        vertical-align: middle;\n",
              "    }\n",
              "\n",
              "    .dataframe tbody tr th {\n",
              "        vertical-align: top;\n",
              "    }\n",
              "\n",
              "    .dataframe thead th {\n",
              "        text-align: right;\n",
              "    }\n",
              "</style>\n",
              "<table border=\"1\" class=\"dataframe\">\n",
              "  <thead>\n",
              "    <tr style=\"text-align: right;\">\n",
              "      <th></th>\n",
              "      <th>horsepower</th>\n",
              "      <th>price</th>\n",
              "    </tr>\n",
              "  </thead>\n",
              "  <tbody>\n",
              "    <tr>\n",
              "      <th>0</th>\n",
              "      <td>111</td>\n",
              "      <td>13495.0</td>\n",
              "    </tr>\n",
              "    <tr>\n",
              "      <th>1</th>\n",
              "      <td>111</td>\n",
              "      <td>16500.0</td>\n",
              "    </tr>\n",
              "    <tr>\n",
              "      <th>2</th>\n",
              "      <td>154</td>\n",
              "      <td>16500.0</td>\n",
              "    </tr>\n",
              "    <tr>\n",
              "      <th>3</th>\n",
              "      <td>102</td>\n",
              "      <td>13950.0</td>\n",
              "    </tr>\n",
              "    <tr>\n",
              "      <th>4</th>\n",
              "      <td>115</td>\n",
              "      <td>17450.0</td>\n",
              "    </tr>\n",
              "    <tr>\n",
              "      <th>...</th>\n",
              "      <td>...</td>\n",
              "      <td>...</td>\n",
              "    </tr>\n",
              "    <tr>\n",
              "      <th>200</th>\n",
              "      <td>114</td>\n",
              "      <td>16845.0</td>\n",
              "    </tr>\n",
              "    <tr>\n",
              "      <th>201</th>\n",
              "      <td>160</td>\n",
              "      <td>19045.0</td>\n",
              "    </tr>\n",
              "    <tr>\n",
              "      <th>202</th>\n",
              "      <td>134</td>\n",
              "      <td>21485.0</td>\n",
              "    </tr>\n",
              "    <tr>\n",
              "      <th>203</th>\n",
              "      <td>106</td>\n",
              "      <td>22470.0</td>\n",
              "    </tr>\n",
              "    <tr>\n",
              "      <th>204</th>\n",
              "      <td>114</td>\n",
              "      <td>22625.0</td>\n",
              "    </tr>\n",
              "  </tbody>\n",
              "</table>\n",
              "<p>205 rows × 2 columns</p>\n",
              "</div>\n",
              "      <button class=\"colab-df-convert\" onclick=\"convertToInteractive('df-5bcd5985-e7d4-45b2-bab7-9bdf9b1a656c')\"\n",
              "              title=\"Convert this dataframe to an interactive table.\"\n",
              "              style=\"display:none;\">\n",
              "        \n",
              "  <svg xmlns=\"http://www.w3.org/2000/svg\" height=\"24px\"viewBox=\"0 0 24 24\"\n",
              "       width=\"24px\">\n",
              "    <path d=\"M0 0h24v24H0V0z\" fill=\"none\"/>\n",
              "    <path d=\"M18.56 5.44l.94 2.06.94-2.06 2.06-.94-2.06-.94-.94-2.06-.94 2.06-2.06.94zm-11 1L8.5 8.5l.94-2.06 2.06-.94-2.06-.94L8.5 2.5l-.94 2.06-2.06.94zm10 10l.94 2.06.94-2.06 2.06-.94-2.06-.94-.94-2.06-.94 2.06-2.06.94z\"/><path d=\"M17.41 7.96l-1.37-1.37c-.4-.4-.92-.59-1.43-.59-.52 0-1.04.2-1.43.59L10.3 9.45l-7.72 7.72c-.78.78-.78 2.05 0 2.83L4 21.41c.39.39.9.59 1.41.59.51 0 1.02-.2 1.41-.59l7.78-7.78 2.81-2.81c.8-.78.8-2.07 0-2.86zM5.41 20L4 18.59l7.72-7.72 1.47 1.35L5.41 20z\"/>\n",
              "  </svg>\n",
              "      </button>\n",
              "      \n",
              "  <style>\n",
              "    .colab-df-container {\n",
              "      display:flex;\n",
              "      flex-wrap:wrap;\n",
              "      gap: 12px;\n",
              "    }\n",
              "\n",
              "    .colab-df-convert {\n",
              "      background-color: #E8F0FE;\n",
              "      border: none;\n",
              "      border-radius: 50%;\n",
              "      cursor: pointer;\n",
              "      display: none;\n",
              "      fill: #1967D2;\n",
              "      height: 32px;\n",
              "      padding: 0 0 0 0;\n",
              "      width: 32px;\n",
              "    }\n",
              "\n",
              "    .colab-df-convert:hover {\n",
              "      background-color: #E2EBFA;\n",
              "      box-shadow: 0px 1px 2px rgba(60, 64, 67, 0.3), 0px 1px 3px 1px rgba(60, 64, 67, 0.15);\n",
              "      fill: #174EA6;\n",
              "    }\n",
              "\n",
              "    [theme=dark] .colab-df-convert {\n",
              "      background-color: #3B4455;\n",
              "      fill: #D2E3FC;\n",
              "    }\n",
              "\n",
              "    [theme=dark] .colab-df-convert:hover {\n",
              "      background-color: #434B5C;\n",
              "      box-shadow: 0px 1px 3px 1px rgba(0, 0, 0, 0.15);\n",
              "      filter: drop-shadow(0px 1px 2px rgba(0, 0, 0, 0.3));\n",
              "      fill: #FFFFFF;\n",
              "    }\n",
              "  </style>\n",
              "\n",
              "      <script>\n",
              "        const buttonEl =\n",
              "          document.querySelector('#df-5bcd5985-e7d4-45b2-bab7-9bdf9b1a656c button.colab-df-convert');\n",
              "        buttonEl.style.display =\n",
              "          google.colab.kernel.accessAllowed ? 'block' : 'none';\n",
              "\n",
              "        async function convertToInteractive(key) {\n",
              "          const element = document.querySelector('#df-5bcd5985-e7d4-45b2-bab7-9bdf9b1a656c');\n",
              "          const dataTable =\n",
              "            await google.colab.kernel.invokeFunction('convertToInteractive',\n",
              "                                                     [key], {});\n",
              "          if (!dataTable) return;\n",
              "\n",
              "          const docLinkHtml = 'Like what you see? Visit the ' +\n",
              "            '<a target=\"_blank\" href=https://colab.research.google.com/notebooks/data_table.ipynb>data table notebook</a>'\n",
              "            + ' to learn more about interactive tables.';\n",
              "          element.innerHTML = '';\n",
              "          dataTable['output_type'] = 'display_data';\n",
              "          await google.colab.output.renderOutput(dataTable, element);\n",
              "          const docLink = document.createElement('div');\n",
              "          docLink.innerHTML = docLinkHtml;\n",
              "          element.appendChild(docLink);\n",
              "        }\n",
              "      </script>\n",
              "    </div>\n",
              "  </div>\n",
              "  "
            ]
          },
          "metadata": {},
          "execution_count": 85
        }
      ],
      "source": [
        "df"
      ]
    },
    {
      "cell_type": "code",
      "execution_count": 86,
      "id": "3a410afd-7b52-419f-9e96-851a91eedc1f",
      "metadata": {
        "id": "3a410afd-7b52-419f-9e96-851a91eedc1f",
        "outputId": "a29037c6-8ff0-4568-901d-6a7f1cc030f3",
        "colab": {
          "base_uri": "https://localhost:8080/",
          "height": 374
        }
      },
      "outputs": [
        {
          "output_type": "display_data",
          "data": {
            "text/plain": [
              "<Figure size 1200x400 with 2 Axes>"
            ],
            "image/png": "[encoded data removed]"
          },
          "metadata": {}
        }
      ],
      "source": [
        "f = plt.figure(figsize=(12,4))\n",
        "\n",
        "f.add_subplot(1,2,1)\n",
        "df['horsepower'].plot(kind='kde')\n",
        "\n",
        "f.add_subplot(1,2,2)\n",
        "df['horsepower'].plot(kind='box')\n",
        "\n",
        "plt.show()"
      ]
    },
    {
      "cell_type": "code",
      "execution_count": 87,
      "id": "6ccade64-aadc-43f1-a4e1-50899c45b84b",
      "metadata": {
        "id": "6ccade64-aadc-43f1-a4e1-50899c45b84b",
        "outputId": "3fa793f0-11a3-447a-f921-8db8d5db284b",
        "colab": {
          "base_uri": "https://localhost:8080/",
          "height": 466
        }
      },
      "outputs": [
        {
          "output_type": "execute_result",
          "data": {
            "text/plain": [
              "Text(0.5, 0, 'horsepower')"
            ]
          },
          "metadata": {},
          "execution_count": 87
        },
        {
          "output_type": "display_data",
          "data": {
            "text/plain": [
              "<Figure size 640x480 with 1 Axes>"
            ],
            "image/png": "[encoded data removed]"
          },
          "metadata": {}
        }
      ],
      "source": [
        "X = df['horsepower']\n",
        "y = df['price']\n",
        "plt.scatter(X,y)\n",
        "plt.ylabel('price')\n",
        "plt.xlabel('horsepower')"
      ]
    },
    {
      "cell_type": "code",
      "execution_count": 88,
      "id": "71ef6b8a-ae0d-4a57-91e5-aa2ca1887f52",
      "metadata": {
        "id": "71ef6b8a-ae0d-4a57-91e5-aa2ca1887f52",
        "outputId": "771b632e-6aca-467b-ada2-cf75e06a38a7",
        "colab": {
          "base_uri": "https://localhost:8080/",
          "height": 112
        }
      },
      "outputs": [
        {
          "output_type": "execute_result",
          "data": {
            "text/plain": [
              "            horsepower     price\n",
              "horsepower    1.000000  0.808139\n",
              "price         0.808139  1.000000"
            ],
            "text/html": [
              "\n",
              "  <div id=\"df-fce71bd9-34bf-4b41-b884-43b712a5f3ef\">\n",
              "    <div class=\"colab-df-container\">\n",
              "      <div>\n",
              "<style scoped>\n",
              "    .dataframe tbody tr th:only-of-type {\n",
              "        vertical-align: middle;\n",
              "    }\n",
              "\n",
              "    .dataframe tbody tr th {\n",
              "        vertical-align: top;\n",
              "    }\n",
              "\n",
              "    .dataframe thead th {\n",
              "        text-align: right;\n",
              "    }\n",
              "</style>\n",
              "<table border=\"1\" class=\"dataframe\">\n",
              "  <thead>\n",
              "    <tr style=\"text-align: right;\">\n",
              "      <th></th>\n",
              "      <th>horsepower</th>\n",
              "      <th>price</th>\n",
              "    </tr>\n",
              "  </thead>\n",
              "  <tbody>\n",
              "    <tr>\n",
              "      <th>horsepower</th>\n",
              "      <td>1.000000</td>\n",
              "      <td>0.808139</td>\n",
              "    </tr>\n",
              "    <tr>\n",
              "      <th>price</th>\n",
              "      <td>0.808139</td>\n",
              "      <td>1.000000</td>\n",
              "    </tr>\n",
              "  </tbody>\n",
              "</table>\n",
              "</div>\n",
              "      <button class=\"colab-df-convert\" onclick=\"convertToInteractive('df-fce71bd9-34bf-4b41-b884-43b712a5f3ef')\"\n",
              "              title=\"Convert this dataframe to an interactive table.\"\n",
              "              style=\"display:none;\">\n",
              "        \n",
              "  <svg xmlns=\"http://www.w3.org/2000/svg\" height=\"24px\"viewBox=\"0 0 24 24\"\n",
              "       width=\"24px\">\n",
              "    <path d=\"M0 0h24v24H0V0z\" fill=\"none\"/>\n",
              "    <path d=\"M18.56 5.44l.94 2.06.94-2.06 2.06-.94-2.06-.94-.94-2.06-.94 2.06-2.06.94zm-11 1L8.5 8.5l.94-2.06 2.06-.94-2.06-.94L8.5 2.5l-.94 2.06-2.06.94zm10 10l.94 2.06.94-2.06 2.06-.94-2.06-.94-.94-2.06-.94 2.06-2.06.94z\"/><path d=\"M17.41 7.96l-1.37-1.37c-.4-.4-.92-.59-1.43-.59-.52 0-1.04.2-1.43.59L10.3 9.45l-7.72 7.72c-.78.78-.78 2.05 0 2.83L4 21.41c.39.39.9.59 1.41.59.51 0 1.02-.2 1.41-.59l7.78-7.78 2.81-2.81c.8-.78.8-2.07 0-2.86zM5.41 20L4 18.59l7.72-7.72 1.47 1.35L5.41 20z\"/>\n",
              "  </svg>\n",
              "      </button>\n",
              "      \n",
              "  <style>\n",
              "    .colab-df-container {\n",
              "      display:flex;\n",
              "      flex-wrap:wrap;\n",
              "      gap: 12px;\n",
              "    }\n",
              "\n",
              "    .colab-df-convert {\n",
              "      background-color: #E8F0FE;\n",
              "      border: none;\n",
              "      border-radius: 50%;\n",
              "      cursor: pointer;\n",
              "      display: none;\n",
              "      fill: #1967D2;\n",
              "      height: 32px;\n",
              "      padding: 0 0 0 0;\n",
              "      width: 32px;\n",
              "    }\n",
              "\n",
              "    .colab-df-convert:hover {\n",
              "      background-color: #E2EBFA;\n",
              "      box-shadow: 0px 1px 2px rgba(60, 64, 67, 0.3), 0px 1px 3px 1px rgba(60, 64, 67, 0.15);\n",
              "      fill: #174EA6;\n",
              "    }\n",
              "\n",
              "    [theme=dark] .colab-df-convert {\n",
              "      background-color: #3B4455;\n",
              "      fill: #D2E3FC;\n",
              "    }\n",
              "\n",
              "    [theme=dark] .colab-df-convert:hover {\n",
              "      background-color: #434B5C;\n",
              "      box-shadow: 0px 1px 3px 1px rgba(0, 0, 0, 0.15);\n",
              "      filter: drop-shadow(0px 1px 2px rgba(0, 0, 0, 0.3));\n",
              "      fill: #FFFFFF;\n",
              "    }\n",
              "  </style>\n",
              "\n",
              "      <script>\n",
              "        const buttonEl =\n",
              "          document.querySelector('#df-fce71bd9-34bf-4b41-b884-43b712a5f3ef button.colab-df-convert');\n",
              "        buttonEl.style.display =\n",
              "          google.colab.kernel.accessAllowed ? 'block' : 'none';\n",
              "\n",
              "        async function convertToInteractive(key) {\n",
              "          const element = document.querySelector('#df-fce71bd9-34bf-4b41-b884-43b712a5f3ef');\n",
              "          const dataTable =\n",
              "            await google.colab.kernel.invokeFunction('convertToInteractive',\n",
              "                                                     [key], {});\n",
              "          if (!dataTable) return;\n",
              "\n",
              "          const docLinkHtml = 'Like what you see? Visit the ' +\n",
              "            '<a target=\"_blank\" href=https://colab.research.google.com/notebooks/data_table.ipynb>data table notebook</a>'\n",
              "            + ' to learn more about interactive tables.';\n",
              "          element.innerHTML = '';\n",
              "          dataTable['output_type'] = 'display_data';\n",
              "          await google.colab.output.renderOutput(dataTable, element);\n",
              "          const docLink = document.createElement('div');\n",
              "          docLink.innerHTML = docLinkHtml;\n",
              "          element.appendChild(docLink);\n",
              "        }\n",
              "      </script>\n",
              "    </div>\n",
              "  </div>\n",
              "  "
            ]
          },
          "metadata": {},
          "execution_count": 88
        }
      ],
      "source": [
        "df.corr()"
      ]
    },
    {
      "cell_type": "code",
      "execution_count": 89,
      "id": "a83707a9-5466-411b-af8f-e9029ea6d9f7",
      "metadata": {
        "id": "a83707a9-5466-411b-af8f-e9029ea6d9f7"
      },
      "outputs": [],
      "source": [
        "X = X.to_frame()"
      ]
    },
    {
      "cell_type": "markdown",
      "id": "aab492b9-332a-4bfe-80ea-19bfefbbb9dc",
      "metadata": {
        "id": "aab492b9-332a-4bfe-80ea-19bfefbbb9dc"
      },
      "source": [
        "# Data Splitting\n",
        "\n",
        "Proses membagi dataset menjadi dua atau lebih bagian untuk tujuan pengembangan model dan evaluasi kinerja model. Umumnya, dataset dibagi menjadi set pelatihan (training set) dan set pengujian (testing set)."
      ]
    },
    {
      "cell_type": "code",
      "execution_count": 90,
      "id": "4ffff3d8-b205-496d-9aa0-5a58def34ef5",
      "metadata": {
        "id": "4ffff3d8-b205-496d-9aa0-5a58def34ef5"
      },
      "outputs": [],
      "source": [
        "from sklearn.model_selection import train_test_split"
      ]
    },
    {
      "cell_type": "code",
      "execution_count": 91,
      "id": "3504c972-84ad-4f50-9f1e-30ba275f35b8",
      "metadata": {
        "id": "3504c972-84ad-4f50-9f1e-30ba275f35b8"
      },
      "outputs": [],
      "source": [
        "X_train, X_test,y_train,y_test = train_test_split(X,y,test_size=0.2)"
      ]
    },
    {
      "cell_type": "code",
      "execution_count": 92,
      "id": "eb676755-9f5b-4526-9eca-114d1cd5ae59",
      "metadata": {
        "id": "eb676755-9f5b-4526-9eca-114d1cd5ae59",
        "outputId": "46bed503-d427-433f-a092-4022a07d9d24",
        "colab": {
          "base_uri": "https://localhost:8080/",
          "height": 75
        }
      },
      "outputs": [
        {
          "output_type": "execute_result",
          "data": {
            "text/plain": [
              "LinearRegression()"
            ],
            "text/html": [
              "<style>#sk-container-id-7 {color: black;background-color: white;}#sk-container-id-7 pre{padding: 0;}#sk-container-id-7 div.sk-toggleable {background-color: white;}#sk-container-id-7 label.sk-toggleable__label {cursor: pointer;display: block;width: 100%;margin-bottom: 0;padding: 0.3em;box-sizing: border-box;text-align: center;}#sk-container-id-7 label.sk-toggleable__label-arrow:before {content: \"▸\";float: left;margin-right: 0.25em;color: #696969;}#sk-container-id-7 label.sk-toggleable__label-arrow:hover:before {color: black;}#sk-container-id-7 div.sk-estimator:hover label.sk-toggleable__label-arrow:before {color: black;}#sk-container-id-7 div.sk-toggleable__content {max-height: 0;max-width: 0;overflow: hidden;text-align: left;background-color: #f0f8ff;}#sk-container-id-7 div.sk-toggleable__content pre {margin: 0.2em;color: black;border-radius: 0.25em;background-color: #f0f8ff;}#sk-container-id-7 input.sk-toggleable__control:checked~div.sk-toggleable__content {max-height: 200px;max-width: 100%;overflow: auto;}#sk-container-id-7 input.sk-toggleable__control:checked~label.sk-toggleable__label-arrow:before {content: \"▾\";}#sk-container-id-7 div.sk-estimator input.sk-toggleable__control:checked~label.sk-toggleable__label {background-color: #d4ebff;}#sk-container-id-7 div.sk-label input.sk-toggleable__control:checked~label.sk-toggleable__label {background-color: #d4ebff;}#sk-container-id-7 input.sk-hidden--visually {border: 0;clip: rect(1px 1px 1px 1px);clip: rect(1px, 1px, 1px, 1px);height: 1px;margin: -1px;overflow: hidden;padding: 0;position: absolute;width: 1px;}#sk-container-id-7 div.sk-estimator {font-family: monospace;background-color: #f0f8ff;border: 1px dotted black;border-radius: 0.25em;box-sizing: border-box;margin-bottom: 0.5em;}#sk-container-id-7 div.sk-estimator:hover {background-color: #d4ebff;}#sk-container-id-7 div.sk-parallel-item::after {content: \"\";width: 100%;border-bottom: 1px solid gray;flex-grow: 1;}#sk-container-id-7 div.sk-label:hover label.sk-toggleable__label {background-color: #d4ebff;}#sk-container-id-7 div.sk-serial::before {content: \"\";position: absolute;border-left: 1px solid gray;box-sizing: border-box;top: 0;bottom: 0;left: 50%;z-index: 0;}#sk-container-id-7 div.sk-serial {display: flex;flex-direction: column;align-items: center;background-color: white;padding-right: 0.2em;padding-left: 0.2em;position: relative;}#sk-container-id-7 div.sk-item {position: relative;z-index: 1;}#sk-container-id-7 div.sk-parallel {display: flex;align-items: stretch;justify-content: center;background-color: white;position: relative;}#sk-container-id-7 div.sk-item::before, #sk-container-id-7 div.sk-parallel-item::before {content: \"\";position: absolute;border-left: 1px solid gray;box-sizing: border-box;top: 0;bottom: 0;left: 50%;z-index: -1;}#sk-container-id-7 div.sk-parallel-item {display: flex;flex-direction: column;z-index: 1;position: relative;background-color: white;}#sk-container-id-7 div.sk-parallel-item:first-child::after {align-self: flex-end;width: 50%;}#sk-container-id-7 div.sk-parallel-item:last-child::after {align-self: flex-start;width: 50%;}#sk-container-id-7 div.sk-parallel-item:only-child::after {width: 0;}#sk-container-id-7 div.sk-dashed-wrapped {border: 1px dashed gray;margin: 0 0.4em 0.5em 0.4em;box-sizing: border-box;padding-bottom: 0.4em;background-color: white;}#sk-container-id-7 div.sk-label label {font-family: monospace;font-weight: bold;display: inline-block;line-height: 1.2em;}#sk-container-id-7 div.sk-label-container {text-align: center;}#sk-container-id-7 div.sk-container {/* jupyter's `normalize.less` sets `[hidden] { display: none; }` but bootstrap.min.css set `[hidden] { display: none !important; }` so we also need the `!important` here to be able to override the default hidden behavior on the sphinx rendered scikit-learn.org. See: https://github.com/scikit-learn/scikit-learn/issues/21755 */display: inline-block !important;position: relative;}#sk-container-id-7 div.sk-text-repr-fallback {display: none;}</style><div id=\"sk-container-id-7\" class=\"sk-top-container\"><div class=\"sk-text-repr-fallback\"><pre>LinearRegression()</pre><b>In a Jupyter environment, please rerun this cell to show the HTML representation or trust the notebook. <br />On GitHub, the HTML representation is unable to render, please try loading this page with nbviewer.org.</b></div><div class=\"sk-container\" hidden><div class=\"sk-item\"><div class=\"sk-estimator sk-toggleable\"><input class=\"sk-toggleable__control sk-hidden--visually\" id=\"sk-estimator-id-7\" type=\"checkbox\" checked><label for=\"sk-estimator-id-7\" class=\"sk-toggleable__label sk-toggleable__label-arrow\">LinearRegression</label><div class=\"sk-toggleable__content\"><pre>LinearRegression()</pre></div></div></div></div></div>"
            ]
          },
          "metadata": {},
          "execution_count": 92
        }
      ],
      "source": [
        "linreg = LinearRegression()\n",
        "linreg.fit(X_train,y_train)"
      ]
    },
    {
      "cell_type": "code",
      "execution_count": 93,
      "id": "61f6051e-b978-4466-990e-16d84daff9d7",
      "metadata": {
        "id": "61f6051e-b978-4466-990e-16d84daff9d7",
        "outputId": "c69a3fa0-120e-4179-9b1c-e31d0b76ef96",
        "colab": {
          "base_uri": "https://localhost:8080/"
        }
      },
      "outputs": [
        {
          "output_type": "execute_result",
          "data": {
            "text/plain": [
              "0.6829990945723821"
            ]
          },
          "metadata": {},
          "execution_count": 93
        }
      ],
      "source": [
        "linreg.score(X_train,y_train)"
      ]
    },
    {
      "cell_type": "code",
      "execution_count": 94,
      "id": "6d8b1649-0fc0-4a5c-958e-60ef78d3a313",
      "metadata": {
        "id": "6d8b1649-0fc0-4a5c-958e-60ef78d3a313"
      },
      "outputs": [],
      "source": [
        "y_pred = linreg.predict(X_test)"
      ]
    },
    {
      "cell_type": "code",
      "execution_count": 95,
      "id": "30ac3e33-c9d7-4505-ad1b-2974b3a3762f",
      "metadata": {
        "id": "30ac3e33-c9d7-4505-ad1b-2974b3a3762f",
        "outputId": "4fe14f12-237b-4ce6-d3ae-87f04da18bab",
        "colab": {
          "base_uri": "https://localhost:8080/",
          "height": 447
        }
      },
      "outputs": [
        {
          "output_type": "execute_result",
          "data": {
            "text/plain": [
              "[<matplotlib.lines.Line2D at 0x7fc0a35cd430>]"
            ]
          },
          "metadata": {},
          "execution_count": 95
        },
        {
          "output_type": "display_data",
          "data": {
            "text/plain": [
              "<Figure size 640x480 with 1 Axes>"
            ],
            "image/png": "[encoded data removed]"
          },
          "metadata": {}
        }
      ],
      "source": [
        "plt.scatter(X_test,y_test)\n",
        "plt.plot(X_test,y_pred)"
      ]
    },
    {
      "cell_type": "code",
      "execution_count": 96,
      "id": "accebb8d-2e05-49b1-bd49-cfb568c99c5b",
      "metadata": {
        "id": "accebb8d-2e05-49b1-bd49-cfb568c99c5b"
      },
      "outputs": [],
      "source": [
        "y_pred_train = linreg.predict(X_train)\n",
        "y_pred_test = linreg.predict(X_test)"
      ]
    },
    {
      "cell_type": "code",
      "execution_count": 97,
      "id": "e1725466-2cc0-4aab-9faa-3cdb36759492",
      "metadata": {
        "id": "e1725466-2cc0-4aab-9faa-3cdb36759492",
        "outputId": "3fedd3d8-95a3-4c0e-f00b-908db5be0b9d",
        "colab": {
          "base_uri": "https://localhost:8080/"
        }
      },
      "outputs": [
        {
          "output_type": "stream",
          "name": "stdout",
          "text": [
            "train mse: 19569377.95248809\n",
            "test mse 32124680.83402302\n",
            "train rmse 4423.72896462793\n",
            "test rmse 5667.863868691892\n"
          ]
        }
      ],
      "source": [
        "mse_train = mean_squared_error(y_train,y_pred_train)\n",
        "mse_test = mean_squared_error(y_test,y_pred_test)\n",
        "rmse_tr = np.sqrt(mse_train)\n",
        "rmse_test = np.sqrt(mse_test)\n",
        "print('train mse:',mse_train)\n",
        "print('test mse',mse_test)\n",
        "print('train rmse',rmse_tr)\n",
        "print('test rmse',rmse_test)"
      ]
    }
  ],
  "metadata": {
    "kernelspec": {
      "display_name": "Python 3 (ipykernel)",
      "language": "python",
      "name": "python3"
    },
    "language_info": {
      "codemirror_mode": {
        "name": "ipython",
        "version": 3
      },
      "file_extension": ".py",
      "mimetype": "text/x-python",
      "name": "python",
      "nbconvert_exporter": "python",
      "pygments_lexer": "ipython3",
      "version": "3.8.8"
    },
    "colab": {
      "provenance": []
    }
  },
  "nbformat": 4,
  "nbformat_minor": 5
}