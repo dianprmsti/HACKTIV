{
  "cells": [
    {
      "cell_type": "markdown",
      "source": [
        "- deskriptif : hanya menjabarkan data\n",
        "- populasi : keseluruhan semua elemen\n",
        "- outlier : melebihi batas kewajaran dari mayoritas sampel\n",
        "- nan kalo diapa apain hasilnya ttp nan\n",
        "- inferensial : kesimpulan data, prediksinya bagaimana\n",
        "- populasi : keseluruhan dari elemen\n",
        "- sampel : sebagian dari populasi\n",
        "- range : nilai tertinggi - nilai terendah"
      ],
      "metadata": {
        "id": "bfkJ9xLJvq-Y"
      },
      "id": "bfkJ9xLJvq-Y"
    },
    {
      "cell_type": "markdown",
      "source": [
        "# DESCRIPTIVE STATISTICS"
      ],
      "metadata": {
        "id": "WWx8ImCXmzy_"
      },
      "id": "WWx8ImCXmzy_"
    },
    {
      "cell_type": "code",
      "execution_count": null,
      "id": "f6f2aa4b-e57b-41fe-a20a-debbf39f2efb",
      "metadata": {
        "id": "f6f2aa4b-e57b-41fe-a20a-debbf39f2efb"
      },
      "outputs": [],
      "source": [
        "import math\n",
        "import statistics\n",
        "import numpy as np\n",
        "import scipy.stats\n",
        "import pandas as pd"
      ]
    },
    {
      "cell_type": "code",
      "execution_count": null,
      "id": "dd9b1aff-476a-4a1d-b6c7-52096c6fd761",
      "metadata": {
        "colab": {
          "base_uri": "https://localhost:8080/"
        },
        "id": "dd9b1aff-476a-4a1d-b6c7-52096c6fd761",
        "outputId": "4af0941f-8b7e-4135-bd7e-9a8eb29b9b92"
      },
      "outputs": [
        {
          "output_type": "execute_result",
          "data": {
            "text/plain": [
              "nan"
            ]
          },
          "metadata": {},
          "execution_count": 3
        }
      ],
      "source": [
        "math.nan"
      ]
    },
    {
      "cell_type": "code",
      "execution_count": null,
      "id": "ccc61f44-3c23-4292-a4c6-81982f69fff6",
      "metadata": {
        "colab": {
          "base_uri": "https://localhost:8080/"
        },
        "id": "ccc61f44-3c23-4292-a4c6-81982f69fff6",
        "outputId": "fa5b5675-1915-4435-9c5e-b62dd7cc64f1"
      },
      "outputs": [
        {
          "output_type": "execute_result",
          "data": {
            "text/plain": [
              "nan"
            ]
          },
          "metadata": {},
          "execution_count": 4
        }
      ],
      "source": [
        "np.nan"
      ]
    },
    {
      "cell_type": "code",
      "execution_count": null,
      "id": "d68a3d85-e189-4290-94ac-12cc72a575be",
      "metadata": {
        "colab": {
          "base_uri": "https://localhost:8080/"
        },
        "id": "d68a3d85-e189-4290-94ac-12cc72a575be",
        "outputId": "88f7a24e-6cf8-421c-80d7-01a722712dff"
      },
      "outputs": [
        {
          "output_type": "stream",
          "name": "stdout",
          "text": [
            "[8, 1, 2.5, 4, 28]\n",
            "[8, 1, 2.5, nan, 4, 28]\n"
          ]
        }
      ],
      "source": [
        "x = [8,1,2.5,4,28]\n",
        "x_with_nan = [8,1,2.5,np.nan,4,28]\n",
        "print(x)\n",
        "print(x_with_nan)"
      ]
    },
    {
      "cell_type": "code",
      "execution_count": null,
      "id": "7aa2f4d8-5a5b-4a2a-9ce7-7b7ab517c1f1",
      "metadata": {
        "colab": {
          "base_uri": "https://localhost:8080/"
        },
        "id": "7aa2f4d8-5a5b-4a2a-9ce7-7b7ab517c1f1",
        "outputId": "337c5993-7862-47a9-9707-1d146cb5c960"
      },
      "outputs": [
        {
          "output_type": "stream",
          "name": "stdout",
          "text": [
            "[ 8.   1.   2.5  4.  28. ]\n",
            "[ 8.   1.   2.5  nan  4.  28. ]\n",
            "0     8.0\n",
            "1     1.0\n",
            "2     2.5\n",
            "3     4.0\n",
            "4    28.0\n",
            "dtype: float64\n",
            "0     8.0\n",
            "1     1.0\n",
            "2     2.5\n",
            "3     NaN\n",
            "4     4.0\n",
            "5    28.0\n",
            "dtype: float64\n"
          ]
        }
      ],
      "source": [
        "#membuat array(y) dan Series(z) dari x\n",
        "y , y_with_nan = np.array(x), np.array(x_with_nan) #array\n",
        "z , z_with_nan = pd.Series(x), pd.Series(x_with_nan) #series\n",
        "\n",
        "print(y)\n",
        "print(y_with_nan)\n",
        "print(z)\n",
        "print(z_with_nan)"
      ]
    },
    {
      "cell_type": "code",
      "execution_count": null,
      "id": "26b68467-5fc8-499d-bf3c-37de806f1105",
      "metadata": {
        "colab": {
          "base_uri": "https://localhost:8080/"
        },
        "id": "26b68467-5fc8-499d-bf3c-37de806f1105",
        "outputId": "dec3640b-6d5b-4705-8327-6c980a06cb26"
      },
      "outputs": [
        {
          "output_type": "execute_result",
          "data": {
            "text/plain": [
              "0    False\n",
              "1    False\n",
              "2    False\n",
              "3     True\n",
              "4    False\n",
              "5    False\n",
              "dtype: bool"
            ]
          },
          "metadata": {},
          "execution_count": 7
        }
      ],
      "source": [
        "z_with_nan.isna()"
      ]
    },
    {
      "cell_type": "markdown",
      "id": "e43ef262-78d9-4728-b0dc-1d53907a568b",
      "metadata": {
        "id": "e43ef262-78d9-4728-b0dc-1d53907a568b"
      },
      "source": [
        "# CENTRAL TENDENCY"
      ]
    },
    {
      "cell_type": "code",
      "execution_count": null,
      "id": "3d5b78c3-3d88-409a-9781-c9517c28972f",
      "metadata": {
        "colab": {
          "base_uri": "https://localhost:8080/"
        },
        "id": "3d5b78c3-3d88-409a-9781-c9517c28972f",
        "outputId": "0b83b8db-170c-4f28-b54a-244731b6c3b6"
      },
      "outputs": [
        {
          "output_type": "execute_result",
          "data": {
            "text/plain": [
              "[8, 1, 2.5, 4, 28]"
            ]
          },
          "metadata": {},
          "execution_count": 8
        }
      ],
      "source": [
        "x"
      ]
    },
    {
      "cell_type": "code",
      "execution_count": null,
      "id": "b4526b8c-6d3d-49eb-9a01-f4b1a4d66265",
      "metadata": {
        "colab": {
          "base_uri": "https://localhost:8080/"
        },
        "id": "b4526b8c-6d3d-49eb-9a01-f4b1a4d66265",
        "outputId": "d4814b71-d877-4852-f63a-a84ff04e5e86"
      },
      "outputs": [
        {
          "output_type": "execute_result",
          "data": {
            "text/plain": [
              "43.5"
            ]
          },
          "metadata": {},
          "execution_count": 9
        }
      ],
      "source": [
        "sum(x)"
      ]
    },
    {
      "cell_type": "code",
      "execution_count": null,
      "id": "612a6745-1817-4e67-9770-88028095e28d",
      "metadata": {
        "colab": {
          "base_uri": "https://localhost:8080/"
        },
        "id": "612a6745-1817-4e67-9770-88028095e28d",
        "outputId": "6b250bdf-f92c-4309-b147-a61932b09dbf"
      },
      "outputs": [
        {
          "output_type": "execute_result",
          "data": {
            "text/plain": [
              "5"
            ]
          },
          "metadata": {},
          "execution_count": 10
        }
      ],
      "source": [
        "len(x)"
      ]
    },
    {
      "cell_type": "code",
      "execution_count": null,
      "id": "c30970d9-3578-409c-8c83-fe48f4cb99b1",
      "metadata": {
        "colab": {
          "base_uri": "https://localhost:8080/"
        },
        "id": "c30970d9-3578-409c-8c83-fe48f4cb99b1",
        "outputId": "6fd5cebb-b364-4cae-81dc-fc47445a828f"
      },
      "outputs": [
        {
          "output_type": "execute_result",
          "data": {
            "text/plain": [
              "8.7"
            ]
          },
          "metadata": {},
          "execution_count": 11
        }
      ],
      "source": [
        "# menghitung mean\n",
        "mean_x = sum(x)/len(x)\n",
        "mean_x"
      ]
    },
    {
      "cell_type": "code",
      "execution_count": null,
      "id": "e8a2c89d-0898-435f-b061-62a52cc9123a",
      "metadata": {
        "colab": {
          "base_uri": "https://localhost:8080/"
        },
        "id": "e8a2c89d-0898-435f-b061-62a52cc9123a",
        "outputId": "84067975-a21c-4603-d600-05800a49402f"
      },
      "outputs": [
        {
          "output_type": "stream",
          "name": "stdout",
          "text": [
            "8.7\n"
          ]
        }
      ],
      "source": [
        "# menghitung mean\n",
        "mean_stats = statistics.mean(x)\n",
        "print(mean_stats)"
      ]
    },
    {
      "cell_type": "code",
      "execution_count": null,
      "id": "d0b7f1da-6d53-4db2-9151-30497a183b9d",
      "metadata": {
        "colab": {
          "base_uri": "https://localhost:8080/"
        },
        "id": "d0b7f1da-6d53-4db2-9151-30497a183b9d",
        "outputId": "c9cc3726-3187-4df1-aa52-7a9f8a97e019"
      },
      "outputs": [
        {
          "output_type": "stream",
          "name": "stdout",
          "text": [
            "8.7\n"
          ]
        }
      ],
      "source": [
        "# menghitung mean\n",
        "mean_np = np.mean(x)\n",
        "print(mean_np)"
      ]
    },
    {
      "cell_type": "code",
      "execution_count": null,
      "id": "88a7eeaf-1899-4976-b393-d16f3bf6c204",
      "metadata": {
        "colab": {
          "base_uri": "https://localhost:8080/"
        },
        "id": "88a7eeaf-1899-4976-b393-d16f3bf6c204",
        "outputId": "a5ec0df6-055c-4c26-ac9e-1c088d21f843"
      },
      "outputs": [
        {
          "output_type": "execute_result",
          "data": {
            "text/plain": [
              "array([ 8. ,  1. ,  2.5,  4. , 28. ])"
            ]
          },
          "metadata": {},
          "execution_count": 14
        }
      ],
      "source": [
        "y"
      ]
    },
    {
      "cell_type": "code",
      "execution_count": null,
      "id": "5459ea0b-4217-4c0a-b73b-df79a9976c5b",
      "metadata": {
        "colab": {
          "base_uri": "https://localhost:8080/"
        },
        "id": "5459ea0b-4217-4c0a-b73b-df79a9976c5b",
        "outputId": "04574668-4d6d-4d1d-b79c-922611e67961"
      },
      "outputs": [
        {
          "output_type": "execute_result",
          "data": {
            "text/plain": [
              "8.7"
            ]
          },
          "metadata": {},
          "execution_count": 15
        }
      ],
      "source": [
        "y.mean() #array"
      ]
    },
    {
      "cell_type": "code",
      "execution_count": null,
      "id": "149dfcde-0649-4ceb-bf1d-88052bafd516",
      "metadata": {
        "colab": {
          "base_uri": "https://localhost:8080/"
        },
        "id": "149dfcde-0649-4ceb-bf1d-88052bafd516",
        "outputId": "8220b1a9-072c-4d8a-f73e-9acc6753341b"
      },
      "outputs": [
        {
          "output_type": "execute_result",
          "data": {
            "text/plain": [
              "8.7"
            ]
          },
          "metadata": {},
          "execution_count": 16
        }
      ],
      "source": [
        "z.mean() #series"
      ]
    },
    {
      "cell_type": "code",
      "execution_count": null,
      "id": "24ef2e2f-6234-4006-a14b-886d412d5491",
      "metadata": {
        "colab": {
          "base_uri": "https://localhost:8080/"
        },
        "id": "24ef2e2f-6234-4006-a14b-886d412d5491",
        "outputId": "0d36a16d-d87f-4e3e-a25b-7ab87457cacb"
      },
      "outputs": [
        {
          "output_type": "execute_result",
          "data": {
            "text/plain": [
              "nan"
            ]
          },
          "metadata": {},
          "execution_count": 17
        }
      ],
      "source": [
        "y_with_nan.mean()"
      ]
    },
    {
      "cell_type": "code",
      "execution_count": null,
      "id": "e91fd60c-cda1-48a9-9726-fa32afbc4ae8",
      "metadata": {
        "colab": {
          "base_uri": "https://localhost:8080/"
        },
        "id": "e91fd60c-cda1-48a9-9726-fa32afbc4ae8",
        "outputId": "19bf65f8-a08e-41a8-ad73-e9794aa2172f"
      },
      "outputs": [
        {
          "output_type": "execute_result",
          "data": {
            "text/plain": [
              "nan"
            ]
          },
          "metadata": {},
          "execution_count": 18
        }
      ],
      "source": [
        "np.mean(y_with_nan)"
      ]
    },
    {
      "cell_type": "code",
      "execution_count": null,
      "id": "dc319876-08a9-451b-a670-f33a8cbb296e",
      "metadata": {
        "colab": {
          "base_uri": "https://localhost:8080/"
        },
        "id": "dc319876-08a9-451b-a670-f33a8cbb296e",
        "outputId": "d22e0fd5-d47e-4060-e731-9e717c5c95f1"
      },
      "outputs": [
        {
          "output_type": "execute_result",
          "data": {
            "text/plain": [
              "nan"
            ]
          },
          "metadata": {},
          "execution_count": 19
        }
      ],
      "source": [
        "np.nan*3"
      ]
    },
    {
      "cell_type": "code",
      "execution_count": null,
      "id": "b5d68f7a-e435-4a9d-9502-62af71f6a4a1",
      "metadata": {
        "colab": {
          "base_uri": "https://localhost:8080/"
        },
        "id": "b5d68f7a-e435-4a9d-9502-62af71f6a4a1",
        "outputId": "da90822a-01f2-4448-935a-a01f72dc4416"
      },
      "outputs": [
        {
          "output_type": "execute_result",
          "data": {
            "text/plain": [
              "8.7"
            ]
          },
          "metadata": {},
          "execution_count": 20
        }
      ],
      "source": [
        "#get mean without considering NaN values\n",
        "np.nanmean(y_with_nan) "
      ]
    },
    {
      "cell_type": "code",
      "execution_count": null,
      "id": "1dd8e5cc-aca0-4023-bfb5-cc4dfb8b9d21",
      "metadata": {
        "colab": {
          "base_uri": "https://localhost:8080/"
        },
        "id": "1dd8e5cc-aca0-4023-bfb5-cc4dfb8b9d21",
        "outputId": "4d6b1a7d-fbde-4352-c69f-8eafccd81183"
      },
      "outputs": [
        {
          "output_type": "execute_result",
          "data": {
            "text/plain": [
              "8.7"
            ]
          },
          "metadata": {},
          "execution_count": 21
        }
      ],
      "source": [
        "#kalo series langsung merata-ratakan nilai tanpa mempertimbangkan NaN values\n",
        "z_with_nan.mean() "
      ]
    },
    {
      "cell_type": "code",
      "execution_count": null,
      "id": "9cc2aedf-aff7-4173-8311-b3bb443f32a8",
      "metadata": {
        "colab": {
          "base_uri": "https://localhost:8080/"
        },
        "id": "9cc2aedf-aff7-4173-8311-b3bb443f32a8",
        "outputId": "f42208c0-c0ac-45f5-ed03-bca46fb08e09"
      },
      "outputs": [
        {
          "output_type": "execute_result",
          "data": {
            "text/plain": [
              "0     8.0\n",
              "1     1.0\n",
              "2     2.5\n",
              "3     NaN\n",
              "4     4.0\n",
              "5    28.0\n",
              "dtype: float64"
            ]
          },
          "metadata": {},
          "execution_count": 22
        }
      ],
      "source": [
        "z_with_nan"
      ]
    },
    {
      "cell_type": "markdown",
      "id": "abf52f05-17a1-4b2b-8028-41f7659f0b5d",
      "metadata": {
        "id": "abf52f05-17a1-4b2b-8028-41f7659f0b5d"
      },
      "source": [
        "# WEIGHTED MEAN\n",
        "Rata-rata dengan menghitung pembobotan"
      ]
    },
    {
      "cell_type": "code",
      "execution_count": null,
      "id": "d024ef5b-76a0-4f00-96bd-700f34a11368",
      "metadata": {
        "colab": {
          "base_uri": "https://localhost:8080/"
        },
        "id": "d024ef5b-76a0-4f00-96bd-700f34a11368",
        "outputId": "caafd9e1-21fd-48fb-ba0e-c632eec93207"
      },
      "outputs": [
        {
          "output_type": "stream",
          "name": "stdout",
          "text": [
            "6.95\n"
          ]
        }
      ],
      "source": [
        "x = [8,1,2.5,4,28] #Metrics\n",
        "w = [0.1,0.2,0.3,0.25,0.15] #Weightages\n",
        "\n",
        "#menconvert jadi array\n",
        "y,z,w = np.array(x),pd.Series(x),np.array(w)\n",
        "\n",
        "wmean = np.average(y , weights=w)\n",
        "print(wmean)"
      ]
    },
    {
      "cell_type": "code",
      "execution_count": null,
      "id": "6cc55739-259d-45b1-bf92-58ad833b0adb",
      "metadata": {
        "colab": {
          "base_uri": "https://localhost:8080/"
        },
        "id": "6cc55739-259d-45b1-bf92-58ad833b0adb",
        "outputId": "70413c27-2334-40f5-9748-890e658a42e6"
      },
      "outputs": [
        {
          "output_type": "stream",
          "name": "stdout",
          "text": [
            "6.95\n"
          ]
        }
      ],
      "source": [
        "#manual calculation\n",
        "wmean_manual = sum(w[i]*x[i] for i in range(len(x)))/sum(w)\n",
        "print(wmean)"
      ]
    },
    {
      "cell_type": "code",
      "execution_count": null,
      "id": "1e51c533-89ae-4964-b5cb-c271b637c9e3",
      "metadata": {
        "colab": {
          "base_uri": "https://localhost:8080/"
        },
        "id": "1e51c533-89ae-4964-b5cb-c271b637c9e3",
        "outputId": "0870e3d0-2a15-48e3-dfe1-75abf72800f0"
      },
      "outputs": [
        {
          "output_type": "execute_result",
          "data": {
            "text/plain": [
              "1.0"
            ]
          },
          "metadata": {},
          "execution_count": 25
        }
      ],
      "source": [
        "sum(w)"
      ]
    },
    {
      "cell_type": "markdown",
      "id": "f0735d15-0d07-4c0a-bc11-663e8c9335d0",
      "metadata": {
        "id": "f0735d15-0d07-4c0a-bc11-663e8c9335d0"
      },
      "source": [
        "# HARMONIC MEAN"
      ]
    },
    {
      "cell_type": "markdown",
      "id": "99f629b8-67f5-44fb-bf3b-6244b091d5f7",
      "metadata": {
        "id": "99f629b8-67f5-44fb-bf3b-6244b091d5f7"
      },
      "source": [
        "sering digunakan untuk rata-rata Rate (10km/jam,100kg/hari,1000000 orang/tahun)"
      ]
    },
    {
      "cell_type": "code",
      "execution_count": null,
      "id": "f411800c-1519-4900-b279-241c9890a9d8",
      "metadata": {
        "colab": {
          "base_uri": "https://localhost:8080/"
        },
        "id": "f411800c-1519-4900-b279-241c9890a9d8",
        "outputId": "c259aa93-eac6-4dd9-e18f-f1dc305dccfe"
      },
      "outputs": [
        {
          "output_type": "execute_result",
          "data": {
            "text/plain": [
              "30.0"
            ]
          },
          "metadata": {},
          "execution_count": 26
        }
      ],
      "source": [
        "speed = [60,20]\n",
        "hmean_speed = len(speed)/sum(1/item for item in speed)\n",
        "hmean_speed"
      ]
    },
    {
      "cell_type": "code",
      "execution_count": null,
      "id": "398e1396-4264-4d60-b619-93641e4c5307",
      "metadata": {
        "colab": {
          "base_uri": "https://localhost:8080/"
        },
        "id": "398e1396-4264-4d60-b619-93641e4c5307",
        "outputId": "1e3d7960-fae8-485c-ba4c-767e0a640f4f"
      },
      "outputs": [
        {
          "output_type": "execute_result",
          "data": {
            "text/plain": [
              "30.0"
            ]
          },
          "metadata": {},
          "execution_count": 27
        }
      ],
      "source": [
        "# hmean dengan library 1\n",
        "hmean_speed_stats = statistics.harmonic_mean(speed)\n",
        "hmean_speed_stats"
      ]
    },
    {
      "cell_type": "code",
      "execution_count": null,
      "id": "d3013c80-555a-4d03-9dd1-dc7bf2ee3fb0",
      "metadata": {
        "colab": {
          "base_uri": "https://localhost:8080/"
        },
        "id": "d3013c80-555a-4d03-9dd1-dc7bf2ee3fb0",
        "outputId": "317128b4-70d4-4a9b-c20b-58e539aa013e"
      },
      "outputs": [
        {
          "output_type": "execute_result",
          "data": {
            "text/plain": [
              "30.0"
            ]
          },
          "metadata": {},
          "execution_count": 28
        }
      ],
      "source": [
        "# hmean dengan library 1\n",
        "hmean_speed_stats2 = scipy.stats.hmean(speed)\n",
        "hmean_speed_stats2"
      ]
    },
    {
      "cell_type": "code",
      "execution_count": null,
      "id": "947a598e-efef-43a7-b28f-9704f60db4ff",
      "metadata": {
        "colab": {
          "base_uri": "https://localhost:8080/"
        },
        "id": "947a598e-efef-43a7-b28f-9704f60db4ff",
        "outputId": "472adaa2-9daa-4c78-bf41-c0e2bc453650"
      },
      "outputs": [
        {
          "output_type": "execute_result",
          "data": {
            "text/plain": [
              "[8, 1, 2.5, 4, 28]"
            ]
          },
          "metadata": {},
          "execution_count": 29
        }
      ],
      "source": [
        "x"
      ]
    },
    {
      "cell_type": "code",
      "execution_count": null,
      "id": "7fd6fb19-2b37-43c4-b80c-82c5146d78af",
      "metadata": {
        "colab": {
          "base_uri": "https://localhost:8080/"
        },
        "id": "7fd6fb19-2b37-43c4-b80c-82c5146d78af",
        "outputId": "ad7dfcb4-8633-42b1-8e46-8f45577bdb0d"
      },
      "outputs": [
        {
          "output_type": "execute_result",
          "data": {
            "text/plain": [
              "2.7613412228796843"
            ]
          },
          "metadata": {},
          "execution_count": 30
        }
      ],
      "source": [
        "hmean = len(x) / sum(1/item for item in x)\n",
        "hmean"
      ]
    },
    {
      "cell_type": "code",
      "execution_count": null,
      "id": "fd5abfba-2900-4a4a-b460-acdab1541122",
      "metadata": {
        "colab": {
          "base_uri": "https://localhost:8080/"
        },
        "id": "fd5abfba-2900-4a4a-b460-acdab1541122",
        "outputId": "825143b7-16af-43f8-9249-8f8da1234b09"
      },
      "outputs": [
        {
          "output_type": "execute_result",
          "data": {
            "text/plain": [
              "8.7"
            ]
          },
          "metadata": {},
          "execution_count": 31
        }
      ],
      "source": [
        "arit_mean = np.mean(x)\n",
        "arit_mean"
      ]
    },
    {
      "cell_type": "code",
      "execution_count": null,
      "id": "08bc3fbe-4c92-47fd-8951-37b0109778b0",
      "metadata": {
        "colab": {
          "base_uri": "https://localhost:8080/"
        },
        "id": "08bc3fbe-4c92-47fd-8951-37b0109778b0",
        "outputId": "a038a70d-9da6-4c0b-d98f-0c107c9f72bf"
      },
      "outputs": [
        {
          "output_type": "execute_result",
          "data": {
            "text/plain": [
              "[8, 1, 2.5, 4, 28]"
            ]
          },
          "metadata": {},
          "execution_count": 32
        }
      ],
      "source": [
        "x"
      ]
    },
    {
      "cell_type": "code",
      "execution_count": null,
      "id": "15310300-d210-4c79-8676-69422665653e",
      "metadata": {
        "colab": {
          "base_uri": "https://localhost:8080/"
        },
        "id": "15310300-d210-4c79-8676-69422665653e",
        "outputId": "40ff1007-da69-4fe4-91d7-1267e5a2586c"
      },
      "outputs": [
        {
          "output_type": "stream",
          "name": "stdout",
          "text": [
            "0.125\n",
            "1.0\n",
            "0.4\n",
            "0.25\n",
            "0.03571428571428571\n"
          ]
        }
      ],
      "source": [
        "for item in x:\n",
        "    print(1/item)"
      ]
    },
    {
      "cell_type": "code",
      "execution_count": null,
      "id": "9fa0f67d-3ff0-4e6c-aaca-3106676e061e",
      "metadata": {
        "colab": {
          "base_uri": "https://localhost:8080/"
        },
        "id": "9fa0f67d-3ff0-4e6c-aaca-3106676e061e",
        "outputId": "17446785-5648-4901-e28e-50011533afe2"
      },
      "outputs": [
        {
          "output_type": "execute_result",
          "data": {
            "text/plain": [
              "[0.125, 1.0, 0.4, 0.25, 0.03571428571428571]"
            ]
          },
          "metadata": {},
          "execution_count": 34
        }
      ],
      "source": [
        "list(1/item for item in x)"
      ]
    },
    {
      "cell_type": "code",
      "execution_count": null,
      "id": "b8d35153-08bc-4897-84f1-ddf449acdf75",
      "metadata": {
        "colab": {
          "base_uri": "https://localhost:8080/"
        },
        "id": "b8d35153-08bc-4897-84f1-ddf449acdf75",
        "outputId": "28bce2b6-3652-4c63-dfbc-06d3f587fd4c"
      },
      "outputs": [
        {
          "output_type": "execute_result",
          "data": {
            "text/plain": [
              "2.7613412228796843"
            ]
          },
          "metadata": {},
          "execution_count": 35
        }
      ],
      "source": [
        "# hmean dgn library\n",
        "hmean_stats = statistics.harmonic_mean(x)\n",
        "hmean_stats"
      ]
    },
    {
      "cell_type": "markdown",
      "id": "ebe5abf2-8793-4888-95c4-06874164be5c",
      "metadata": {
        "id": "ebe5abf2-8793-4888-95c4-06874164be5c"
      },
      "source": [
        "# GEOMETRIC MEAN"
      ]
    },
    {
      "cell_type": "markdown",
      "id": "5a43ab24-b1cf-4241-9304-b9efab303c1b",
      "metadata": {
        "id": "5a43ab24-b1cf-4241-9304-b9efab303c1b"
      },
      "source": [
        "Perusahaan berdiri pada tahun 2017\n",
        "\n",
        "tahun 2017 omsetnya 1000\n",
        "\n",
        "di tahun 2018 naik 30 %\n",
        "\n",
        "di tahun 2019 naik 50 %\n",
        "\n",
        "di tahun 2020 naik 40 %"
      ]
    },
    {
      "cell_type": "code",
      "execution_count": null,
      "id": "05e79b20-c0e6-40fd-a0d0-6759345b5238",
      "metadata": {
        "colab": {
          "base_uri": "https://localhost:8080/"
        },
        "id": "05e79b20-c0e6-40fd-a0d0-6759345b5238",
        "outputId": "79cb465c-70d3-424e-f852-7347644b39e4"
      },
      "outputs": [
        {
          "output_type": "execute_result",
          "data": {
            "text/plain": [
              "2730.0"
            ]
          },
          "metadata": {},
          "execution_count": 36
        }
      ],
      "source": [
        "x = 1000\n",
        "x*=1.3 #1300\n",
        "x*=1.5 #1950\n",
        "x*=1.4 #2730\n",
        "x"
      ]
    },
    {
      "cell_type": "code",
      "execution_count": null,
      "id": "29f59d34-575f-48be-a5c1-f61f0305686f",
      "metadata": {
        "colab": {
          "base_uri": "https://localhost:8080/"
        },
        "id": "29f59d34-575f-48be-a5c1-f61f0305686f",
        "outputId": "ec9a0bc5-380a-417a-9487-3755b2b33ebc"
      },
      "outputs": [
        {
          "output_type": "execute_result",
          "data": {
            "text/plain": [
              "40.0"
            ]
          },
          "metadata": {},
          "execution_count": 37
        }
      ],
      "source": [
        "# Arithmetic Mean\n",
        "(30+50+40)/3"
      ]
    },
    {
      "cell_type": "code",
      "execution_count": null,
      "id": "cc8ddf7f-2ca5-466e-b35e-5575a85571c5",
      "metadata": {
        "colab": {
          "base_uri": "https://localhost:8080/"
        },
        "id": "cc8ddf7f-2ca5-466e-b35e-5575a85571c5",
        "outputId": "8881d0f0-f938-463a-b0eb-07b81c4dea8f"
      },
      "outputs": [
        {
          "output_type": "execute_result",
          "data": {
            "text/plain": [
              "2743.9999999999995"
            ]
          },
          "metadata": {},
          "execution_count": 38
        }
      ],
      "source": [
        "x = 1000\n",
        "x*=1.4\n",
        "x*=1.4\n",
        "x*=1.4\n",
        "x"
      ]
    },
    {
      "cell_type": "code",
      "execution_count": null,
      "id": "118d94b7-435e-43a3-8c4e-91e5dc580eb4",
      "metadata": {
        "colab": {
          "base_uri": "https://localhost:8080/"
        },
        "id": "118d94b7-435e-43a3-8c4e-91e5dc580eb4",
        "outputId": "0a722782-d264-4d97-8c54-10f4f9f1344d"
      },
      "outputs": [
        {
          "output_type": "execute_result",
          "data": {
            "text/plain": [
              "39.148676411688626"
            ]
          },
          "metadata": {},
          "execution_count": 39
        }
      ],
      "source": [
        "#Geometric Mean\n",
        "gmean = ((30*50*40)**(1/3))\n",
        "gmean"
      ]
    },
    {
      "cell_type": "code",
      "execution_count": null,
      "id": "f15d5493-e332-4081-9123-5b0cc41ae509",
      "metadata": {
        "colab": {
          "base_uri": "https://localhost:8080/"
        },
        "id": "f15d5493-e332-4081-9123-5b0cc41ae509",
        "outputId": "72579bda-86a2-4800-93de-ee0f98dfada6"
      },
      "outputs": [
        {
          "output_type": "execute_result",
          "data": {
            "text/plain": [
              "2694.322835875"
            ]
          },
          "metadata": {},
          "execution_count": 40
        }
      ],
      "source": [
        "x = 1000\n",
        "x*=1.3915\n",
        "x*=1.3915\n",
        "x*=1.3915\n",
        "x"
      ]
    },
    {
      "cell_type": "code",
      "execution_count": null,
      "id": "9fb275b1-6489-4c49-87b9-0810d56e6151",
      "metadata": {
        "colab": {
          "base_uri": "https://localhost:8080/"
        },
        "id": "9fb275b1-6489-4c49-87b9-0810d56e6151",
        "outputId": "450e8ccb-7879-4386-e733-bc72a107ff1f"
      },
      "outputs": [
        {
          "output_type": "execute_result",
          "data": {
            "text/plain": [
              "39.14867641168864"
            ]
          },
          "metadata": {},
          "execution_count": 41
        }
      ],
      "source": [
        "#geometric mean menggunakan library scipy\n",
        "scipy.stats.gmean([30,50,40])"
      ]
    },
    {
      "cell_type": "markdown",
      "id": "ca2f0a36-0f26-4757-8552-07a565471ce2",
      "metadata": {
        "id": "ca2f0a36-0f26-4757-8552-07a565471ce2"
      },
      "source": [
        "# MEDIAN"
      ]
    },
    {
      "cell_type": "code",
      "execution_count": null,
      "id": "bc6f6968-7584-483d-aef0-2fddc17515e9",
      "metadata": {
        "colab": {
          "base_uri": "https://localhost:8080/"
        },
        "id": "bc6f6968-7584-483d-aef0-2fddc17515e9",
        "outputId": "90c43c56-a827-43f1-afb1-51a25f206a0b"
      },
      "outputs": [
        {
          "output_type": "execute_result",
          "data": {
            "text/plain": [
              "4"
            ]
          },
          "metadata": {},
          "execution_count": 42
        }
      ],
      "source": [
        "# jumlah angkanya ganjil\n",
        "a = [1,2,4,8,9]\n",
        "n = len(a)\n",
        "median = a[2]\n",
        "median"
      ]
    },
    {
      "cell_type": "code",
      "execution_count": null,
      "id": "86a4235a-404b-4876-a3d8-42f17c1f96bc",
      "metadata": {
        "colab": {
          "base_uri": "https://localhost:8080/"
        },
        "id": "86a4235a-404b-4876-a3d8-42f17c1f96bc",
        "outputId": "8f878ab7-6f5e-4887-ffde-3bfb9b2dbe02"
      },
      "outputs": [
        {
          "output_type": "execute_result",
          "data": {
            "text/plain": [
              "3.0"
            ]
          },
          "metadata": {},
          "execution_count": 43
        }
      ],
      "source": [
        "#jumlah angkanya genap\n",
        "a = [1,2,4,8]\n",
        "n = len(a)\n",
        "(n+1)/2\n",
        "median = (2+4)/2\n",
        "median"
      ]
    },
    {
      "cell_type": "code",
      "execution_count": null,
      "id": "cf48a3d0-39b2-4ef2-acdf-3e9ca40077d7",
      "metadata": {
        "colab": {
          "base_uri": "https://localhost:8080/"
        },
        "id": "cf48a3d0-39b2-4ef2-acdf-3e9ca40077d7",
        "outputId": "6ff43a72-1bb4-477f-ba69-f4d67bf35a47"
      },
      "outputs": [
        {
          "output_type": "execute_result",
          "data": {
            "text/plain": [
              "3.5"
            ]
          },
          "metadata": {},
          "execution_count": 44
        }
      ],
      "source": [
        "# Menggunakan numpy\n",
        "x = [8, 1, 2.5, 4, 28]\n",
        "c = [2,3,4,5]\n",
        "np.median(c)"
      ]
    },
    {
      "cell_type": "code",
      "execution_count": null,
      "id": "e737a5f4-309e-453f-8d7b-4c6296f02ad4",
      "metadata": {
        "id": "e737a5f4-309e-453f-8d7b-4c6296f02ad4"
      },
      "outputs": [],
      "source": [
        "# Pembuktian manual\n",
        "def median_function(x):\n",
        "    n = len(x)\n",
        "    if n%2 == 1: #Ganjil\n",
        "        median_ = sorted(x)[round(0.5*(n-1))] #ambil median\n",
        "    else: #Genap\n",
        "        x_ord, index = sorted(x) , round(0.5*n)\n",
        "        median_=0.5 * (x_ord[index-1]+x_ord[index])\n",
        "    return median_"
      ]
    },
    {
      "cell_type": "code",
      "execution_count": null,
      "id": "1868d14d-f0fd-421e-9413-1a57f33bf1bd",
      "metadata": {
        "colab": {
          "base_uri": "https://localhost:8080/"
        },
        "id": "1868d14d-f0fd-421e-9413-1a57f33bf1bd",
        "outputId": "79412e48-34d1-46be-9fd1-e78d19f4278b"
      },
      "outputs": [
        {
          "output_type": "execute_result",
          "data": {
            "text/plain": [
              "4"
            ]
          },
          "metadata": {},
          "execution_count": 46
        }
      ],
      "source": [
        "median_function(x)"
      ]
    },
    {
      "cell_type": "code",
      "execution_count": null,
      "id": "7fc99af4-10f6-422d-b1d3-b0f57ab178d4",
      "metadata": {
        "colab": {
          "base_uri": "https://localhost:8080/"
        },
        "id": "7fc99af4-10f6-422d-b1d3-b0f57ab178d4",
        "outputId": "83555005-2b3d-418d-ddb5-40832b147d75"
      },
      "outputs": [
        {
          "output_type": "execute_result",
          "data": {
            "text/plain": [
              "3.5"
            ]
          },
          "metadata": {},
          "execution_count": 47
        }
      ],
      "source": [
        "median_function(c)"
      ]
    },
    {
      "cell_type": "code",
      "execution_count": null,
      "id": "ee00302f-0cbc-4c9e-b6ce-1ce08c4ba206",
      "metadata": {
        "colab": {
          "base_uri": "https://localhost:8080/"
        },
        "id": "ee00302f-0cbc-4c9e-b6ce-1ce08c4ba206",
        "outputId": "8a06d55d-8305-4343-9495-c190e2d620ed"
      },
      "outputs": [
        {
          "output_type": "execute_result",
          "data": {
            "text/plain": [
              "[1, 2.5, 4, 8, 28]"
            ]
          },
          "metadata": {},
          "execution_count": 48
        }
      ],
      "source": [
        "# mengurutkan nilia terkecil sampai terbesar\n",
        "sorted(x)"
      ]
    },
    {
      "cell_type": "code",
      "execution_count": null,
      "id": "9ad4227d-3a4b-4b67-8fb2-eff18e6aff0c",
      "metadata": {
        "colab": {
          "base_uri": "https://localhost:8080/"
        },
        "id": "9ad4227d-3a4b-4b67-8fb2-eff18e6aff0c",
        "outputId": "ed5e7e4d-90f1-4401-ffda-7c80dc7c9fac"
      },
      "outputs": [
        {
          "output_type": "execute_result",
          "data": {
            "text/plain": [
              "3"
            ]
          },
          "metadata": {},
          "execution_count": 49
        }
      ],
      "source": [
        "n = len([1,2,3,4,5,6,7])\n",
        "round(0.5*(n-1))"
      ]
    },
    {
      "cell_type": "code",
      "execution_count": null,
      "id": "6bbfe429-f891-4109-a573-ca2afbbbf5a3",
      "metadata": {
        "colab": {
          "base_uri": "https://localhost:8080/"
        },
        "id": "6bbfe429-f891-4109-a573-ca2afbbbf5a3",
        "outputId": "e0dbb9ab-7402-4726-94ea-a4c5e0bbfcb6"
      },
      "outputs": [
        {
          "output_type": "execute_result",
          "data": {
            "text/plain": [
              "7"
            ]
          },
          "metadata": {},
          "execution_count": 50
        }
      ],
      "source": [
        "n"
      ]
    },
    {
      "cell_type": "markdown",
      "id": "cf4d5338-e8d0-4ad9-9fe6-8afe2e28acdd",
      "metadata": {
        "id": "cf4d5338-e8d0-4ad9-9fe6-8afe2e28acdd"
      },
      "source": [
        "# MODE/MODUS"
      ]
    },
    {
      "cell_type": "markdown",
      "id": "3bac7834-ca8a-40c5-b2da-4b5617c6e442",
      "metadata": {
        "id": "3bac7834-ca8a-40c5-b2da-4b5617c6e442"
      },
      "source": [
        "Nilai yang paling sering banyak muncul/frekuensi paling tinggi"
      ]
    },
    {
      "cell_type": "code",
      "execution_count": null,
      "id": "d9aee076-f8c3-4697-b5f6-5b263f0bcbc0",
      "metadata": {
        "id": "d9aee076-f8c3-4697-b5f6-5b263f0bcbc0"
      },
      "outputs": [],
      "source": [
        "u = [2,3,2,8,12]\n",
        "\n",
        "mode_ = max((u.count(i),i)for i in set(u))[1]"
      ]
    },
    {
      "cell_type": "code",
      "execution_count": null,
      "id": "f4cfa058-56cc-4d52-aa5d-9ae8673dd667",
      "metadata": {
        "colab": {
          "base_uri": "https://localhost:8080/"
        },
        "id": "f4cfa058-56cc-4d52-aa5d-9ae8673dd667",
        "outputId": "777e49a3-eae5-4a5b-a941-1ea087c33872"
      },
      "outputs": [
        {
          "output_type": "execute_result",
          "data": {
            "text/plain": [
              "2"
            ]
          },
          "metadata": {},
          "execution_count": 52
        }
      ],
      "source": [
        "statistics.mode(u)"
      ]
    },
    {
      "cell_type": "code",
      "execution_count": null,
      "id": "0c61fa8d-f9dd-4194-92bc-6b53ba03b60b",
      "metadata": {
        "colab": {
          "base_uri": "https://localhost:8080/"
        },
        "id": "0c61fa8d-f9dd-4194-92bc-6b53ba03b60b",
        "outputId": "ecff303d-89c5-4a46-d006-41fe4f4bfcfd"
      },
      "outputs": [
        {
          "output_type": "stream",
          "name": "stderr",
          "text": [
            "<ipython-input-53-d8f8f9254a13>:1: FutureWarning: Unlike other reduction functions (e.g. `skew`, `kurtosis`), the default behavior of `mode` typically preserves the axis it acts along. In SciPy 1.11.0, this behavior will change: the default value of `keepdims` will become False, the `axis` over which the statistic is taken will be eliminated, and the value None will no longer be accepted. Set `keepdims` to True or False to avoid this warning.\n",
            "  scipy.stats.mode(u)[0][0]\n"
          ]
        },
        {
          "output_type": "execute_result",
          "data": {
            "text/plain": [
              "2"
            ]
          },
          "metadata": {},
          "execution_count": 53
        }
      ],
      "source": [
        "scipy.stats.mode(u)[0][0]"
      ]
    },
    {
      "cell_type": "code",
      "execution_count": null,
      "id": "703f7f3d-768d-4360-b9e0-ef02db5417ad",
      "metadata": {
        "colab": {
          "base_uri": "https://localhost:8080/"
        },
        "id": "703f7f3d-768d-4360-b9e0-ef02db5417ad",
        "outputId": "918461e7-1f08-4861-ca48-582645933c1b"
      },
      "outputs": [
        {
          "output_type": "stream",
          "name": "stderr",
          "text": [
            "<ipython-input-54-11d63c7822d9>:1: FutureWarning: Unlike other reduction functions (e.g. `skew`, `kurtosis`), the default behavior of `mode` typically preserves the axis it acts along. In SciPy 1.11.0, this behavior will change: the default value of `keepdims` will become False, the `axis` over which the statistic is taken will be eliminated, and the value None will no longer be accepted. Set `keepdims` to True or False to avoid this warning.\n",
            "  mode_lib = scipy.stats.mode(u)\n"
          ]
        }
      ],
      "source": [
        "mode_lib = scipy.stats.mode(u)"
      ]
    },
    {
      "cell_type": "code",
      "execution_count": null,
      "id": "359da1f6-8f27-4a84-ae52-09dcc82d8479",
      "metadata": {
        "colab": {
          "base_uri": "https://localhost:8080/"
        },
        "id": "359da1f6-8f27-4a84-ae52-09dcc82d8479",
        "outputId": "ab65dff3-9fd4-4f3e-ab09-5fe19b4b9716"
      },
      "outputs": [
        {
          "output_type": "stream",
          "name": "stdout",
          "text": [
            "ModeResult(mode=array([2]), count=array([2]))\n",
            "[2]\n",
            "[2]\n"
          ]
        }
      ],
      "source": [
        "print(mode_lib)\n",
        "print(mode_lib.mode)\n",
        "print(mode_lib.count)"
      ]
    },
    {
      "cell_type": "code",
      "execution_count": null,
      "id": "6d2d7a46-2b2d-44d9-be2c-e3a982ca55bf",
      "metadata": {
        "colab": {
          "base_uri": "https://localhost:8080/"
        },
        "id": "6d2d7a46-2b2d-44d9-be2c-e3a982ca55bf",
        "outputId": "c26ea104-95d5-4a32-dc11-9acf4738752f"
      },
      "outputs": [
        {
          "output_type": "execute_result",
          "data": {
            "text/plain": [
              "[2, 3, 2, 8, 12]"
            ]
          },
          "metadata": {},
          "execution_count": 56
        }
      ],
      "source": [
        "u"
      ]
    },
    {
      "cell_type": "code",
      "execution_count": null,
      "id": "1259b9c1-4ee8-445c-91d2-d0aea3d58410",
      "metadata": {
        "colab": {
          "base_uri": "https://localhost:8080/"
        },
        "id": "1259b9c1-4ee8-445c-91d2-d0aea3d58410",
        "outputId": "0b49a24e-771c-4e3d-a1b8-9b82fe500f41"
      },
      "outputs": [
        {
          "output_type": "execute_result",
          "data": {
            "text/plain": [
              "0    2\n",
              "dtype: int64"
            ]
          },
          "metadata": {},
          "execution_count": 57
        }
      ],
      "source": [
        "u_series = pd.Series(u)\n",
        "u_series.mode()"
      ]
    },
    {
      "cell_type": "code",
      "execution_count": null,
      "id": "5caa6235-8873-4eb2-a90d-4cf43fbf054f",
      "metadata": {
        "colab": {
          "base_uri": "https://localhost:8080/"
        },
        "id": "5caa6235-8873-4eb2-a90d-4cf43fbf054f",
        "outputId": "38a8f2de-e9b9-4482-e71b-1859bfa7dc46"
      },
      "outputs": [
        {
          "output_type": "execute_result",
          "data": {
            "text/plain": [
              "2"
            ]
          },
          "metadata": {},
          "execution_count": 58
        }
      ],
      "source": [
        "u_array = np.array(u)\n",
        "statistics.mode(u_array)"
      ]
    },
    {
      "cell_type": "code",
      "execution_count": null,
      "id": "0f936b43-c271-4566-8a10-62d951e3827e",
      "metadata": {
        "colab": {
          "base_uri": "https://localhost:8080/"
        },
        "id": "0f936b43-c271-4566-8a10-62d951e3827e",
        "outputId": "65f151bf-211e-46a5-d29e-9989a84eedeb"
      },
      "outputs": [
        {
          "output_type": "execute_result",
          "data": {
            "text/plain": [
              "0    3.0\n",
              "dtype: float64"
            ]
          },
          "metadata": {},
          "execution_count": 59
        }
      ],
      "source": [
        "v = pd.Series([1,2,3,3,3,np.nan,np.nan,np.nan,np.nan])\n",
        "v.mode()"
      ]
    },
    {
      "cell_type": "code",
      "execution_count": null,
      "id": "88a08fc2-7c2c-495a-9cad-7cb5631631b6",
      "metadata": {
        "colab": {
          "base_uri": "https://localhost:8080/"
        },
        "id": "88a08fc2-7c2c-495a-9cad-7cb5631631b6",
        "outputId": "d7103b95-0b7d-458d-da46-1a97e54afe50"
      },
      "outputs": [
        {
          "output_type": "execute_result",
          "data": {
            "text/plain": [
              "3.0"
            ]
          },
          "metadata": {},
          "execution_count": 60
        }
      ],
      "source": [
        "statistics.mode(v)"
      ]
    },
    {
      "cell_type": "code",
      "execution_count": null,
      "id": "f43d9175-ca1c-435f-8dc8-e8685775f483",
      "metadata": {
        "colab": {
          "base_uri": "https://localhost:8080/"
        },
        "id": "f43d9175-ca1c-435f-8dc8-e8685775f483",
        "outputId": "065b3397-0a44-47c6-e891-7457ab2b0bf6"
      },
      "outputs": [
        {
          "output_type": "execute_result",
          "data": {
            "text/plain": [
              "nan"
            ]
          },
          "metadata": {},
          "execution_count": 61
        }
      ],
      "source": [
        "h = [1,2,3,3,3,np.nan,np.nan,np.nan,np.nan]\n",
        "statistics.mode(h)"
      ]
    },
    {
      "cell_type": "code",
      "execution_count": null,
      "id": "c1c1efb3-3bec-4423-bb5d-04106695f6a0",
      "metadata": {
        "colab": {
          "base_uri": "https://localhost:8080/"
        },
        "id": "c1c1efb3-3bec-4423-bb5d-04106695f6a0",
        "outputId": "ab133560-4e2b-4e5e-ba73-318c3e8c613b"
      },
      "outputs": [
        {
          "output_type": "execute_result",
          "data": {
            "text/plain": [
              "[8, 1, 2.5, 4, 28]"
            ]
          },
          "metadata": {},
          "execution_count": 62
        }
      ],
      "source": [
        "x"
      ]
    },
    {
      "cell_type": "code",
      "execution_count": null,
      "id": "b2378e6e-6554-410b-a3ae-05b846624cfb",
      "metadata": {
        "colab": {
          "base_uri": "https://localhost:8080/"
        },
        "id": "b2378e6e-6554-410b-a3ae-05b846624cfb",
        "outputId": "e3ee1932-d476-41b9-9ce2-6d590478485d"
      },
      "outputs": [
        {
          "output_type": "execute_result",
          "data": {
            "text/plain": [
              "123.19999999999999"
            ]
          },
          "metadata": {},
          "execution_count": 63
        }
      ],
      "source": [
        "n  = len(x)\n",
        "mean_var = np.mean(x)\n",
        "var_ = sum((item-mean_var)**2 for item in x ) / (n-1)\n",
        "var_"
      ]
    },
    {
      "cell_type": "markdown",
      "source": [
        "# VARIANCE"
      ],
      "metadata": {
        "id": "rPCDyqWmtBgN"
      },
      "id": "rPCDyqWmtBgN"
    },
    {
      "cell_type": "code",
      "execution_count": null,
      "id": "793e8149-9900-4a48-88a4-6fd32a5f47a3",
      "metadata": {
        "colab": {
          "base_uri": "https://localhost:8080/"
        },
        "id": "793e8149-9900-4a48-88a4-6fd32a5f47a3",
        "outputId": "142f0590-93da-492f-c295-502e6f7eefc1"
      },
      "outputs": [
        {
          "output_type": "execute_result",
          "data": {
            "text/plain": [
              "123.2"
            ]
          },
          "metadata": {},
          "execution_count": 64
        }
      ],
      "source": [
        "# Variance w/ statistics library\n",
        "var_stat = statistics.variance(x)\n",
        "var_stat"
      ]
    },
    {
      "cell_type": "code",
      "execution_count": null,
      "id": "07a2f25f-64ae-4aed-88f0-954717c40fbc",
      "metadata": {
        "colab": {
          "base_uri": "https://localhost:8080/"
        },
        "id": "07a2f25f-64ae-4aed-88f0-954717c40fbc",
        "outputId": "83c13501-0aec-41fe-a775-563379b599ea"
      },
      "outputs": [
        {
          "output_type": "execute_result",
          "data": {
            "text/plain": [
              "123.19999999999999"
            ]
          },
          "metadata": {},
          "execution_count": 65
        }
      ],
      "source": [
        "# variance w/ numpy\n",
        "var_np = np.var(x,ddof=1)\n",
        "var_np"
      ]
    },
    {
      "cell_type": "code",
      "execution_count": null,
      "id": "2a866bb6-a6b6-4ffb-86af-24622287698e",
      "metadata": {
        "colab": {
          "base_uri": "https://localhost:8080/"
        },
        "id": "2a866bb6-a6b6-4ffb-86af-24622287698e",
        "outputId": "731f929e-6d98-48be-8bbf-e0291aee6c0e"
      },
      "outputs": [
        {
          "output_type": "execute_result",
          "data": {
            "text/plain": [
              "123.19999999999999"
            ]
          },
          "metadata": {},
          "execution_count": 66
        }
      ],
      "source": [
        "# Variance using Series function\n",
        "z = pd.Series(x)\n",
        "z.var()"
      ]
    },
    {
      "cell_type": "markdown",
      "id": "f8ce3abe-ee1e-4ccb-83f8-4841728ca934",
      "metadata": {
        "id": "f8ce3abe-ee1e-4ccb-83f8-4841728ca934"
      },
      "source": [
        "# QUIZ"
      ]
    },
    {
      "cell_type": "markdown",
      "id": "9b0ab267-64fb-43b6-972d-8e626d06675b",
      "metadata": {
        "id": "9b0ab267-64fb-43b6-972d-8e626d06675b"
      },
      "source": [
        " hitung variance dan standar deviasi"
      ]
    },
    {
      "cell_type": "code",
      "execution_count": null,
      "id": "2ca87bfd-ad06-4098-a4c6-4e42bc0afea7",
      "metadata": {
        "colab": {
          "base_uri": "https://localhost:8080/"
        },
        "id": "2ca87bfd-ad06-4098-a4c6-4e42bc0afea7",
        "outputId": "52030c57-337f-4de9-830d-c9a956cda1d1"
      },
      "outputs": [
        {
          "output_type": "stream",
          "name": "stdout",
          "text": [
            "Standar Deviasi dari x adalah: 18.58090417606205\n",
            "Variansi dari x adalah: 345.25000000000006\n"
          ]
        }
      ],
      "source": [
        "x = [1,2,3,6,7,8,30,40,50]\n",
        "std_dev = statistics.stdev(x)\n",
        "print(\"Standar Deviasi dari x adalah:\", std_dev)\n",
        "\n",
        "variance = statistics.variance(x)\n",
        "print(\"Variansi dari x adalah:\", variance)"
      ]
    },
    {
      "cell_type": "code",
      "execution_count": null,
      "id": "d4e34b1b-8e53-4940-9460-7db6f97f5a65",
      "metadata": {
        "colab": {
          "base_uri": "https://localhost:8080/"
        },
        "id": "d4e34b1b-8e53-4940-9460-7db6f97f5a65",
        "outputId": "10e94df6-60d4-42fd-a7fd-3865a9a9a946"
      },
      "outputs": [
        {
          "output_type": "stream",
          "name": "stdout",
          "text": [
            "345.25000000000006\n",
            "18.58090417606205\n"
          ]
        }
      ],
      "source": [
        "x = [1,2,3,6,7,8,30,40,50]\n",
        "n = len(x)\n",
        "mean = sum(x)/n\n",
        "var_ = sum((item - mean)**2 for item in x)/(n-1)\n",
        "Sd_ = var_**(1/2) #\n",
        "\n",
        "print(var_)\n",
        "print(Sd_)"
      ]
    },
    {
      "cell_type": "code",
      "execution_count": null,
      "id": "126f5881-9934-460f-b53c-3a44bf2032c5",
      "metadata": {
        "id": "126f5881-9934-460f-b53c-3a44bf2032c5"
      },
      "outputs": [],
      "source": [
        "x = [8, 1, 2.5, 4, 28]"
      ]
    },
    {
      "cell_type": "code",
      "execution_count": null,
      "id": "9477edcf-4cec-4c25-9efc-96ad6ef0e162",
      "metadata": {
        "colab": {
          "base_uri": "https://localhost:8080/"
        },
        "id": "9477edcf-4cec-4c25-9efc-96ad6ef0e162",
        "outputId": "d586a0ee-ff83-45fc-bc16-046fd0601fcd"
      },
      "outputs": [
        {
          "output_type": "execute_result",
          "data": {
            "text/plain": [
              "123.19999999999999"
            ]
          },
          "metadata": {},
          "execution_count": 70
        }
      ],
      "source": [
        "var_np"
      ]
    },
    {
      "cell_type": "code",
      "execution_count": null,
      "id": "e719f33c-dd40-4962-ba2b-d7fb5baf88ad",
      "metadata": {
        "id": "e719f33c-dd40-4962-ba2b-d7fb5baf88ad"
      },
      "outputs": [],
      "source": [
        "stdev = var_np**(1/2)"
      ]
    },
    {
      "cell_type": "code",
      "execution_count": null,
      "id": "d3a03335-9458-4a19-a577-97690bd77707",
      "metadata": {
        "colab": {
          "base_uri": "https://localhost:8080/"
        },
        "id": "d3a03335-9458-4a19-a577-97690bd77707",
        "outputId": "c2ce313b-412b-4ac7-ee56-83058431288e"
      },
      "outputs": [
        {
          "output_type": "execute_result",
          "data": {
            "text/plain": [
              "11.099549540409285"
            ]
          },
          "metadata": {},
          "execution_count": 72
        }
      ],
      "source": [
        "stdev"
      ]
    },
    {
      "cell_type": "code",
      "execution_count": null,
      "id": "3ea714d1-5596-4d6a-957c-64759c2be507",
      "metadata": {
        "colab": {
          "base_uri": "https://localhost:8080/"
        },
        "id": "3ea714d1-5596-4d6a-957c-64759c2be507",
        "outputId": "bd25cdb6-2204-41db-ea68-aa19402173d4"
      },
      "outputs": [
        {
          "output_type": "execute_result",
          "data": {
            "text/plain": [
              "11.099549540409285"
            ]
          },
          "metadata": {},
          "execution_count": 73
        }
      ],
      "source": [
        "stdev = np.sqrt(var_np) \n",
        "stdev"
      ]
    },
    {
      "cell_type": "code",
      "execution_count": null,
      "id": "1308273c-a520-4a3c-94f2-a968753ac616",
      "metadata": {
        "colab": {
          "base_uri": "https://localhost:8080/"
        },
        "id": "1308273c-a520-4a3c-94f2-a968753ac616",
        "outputId": "bd23391f-b75c-45fe-d5b8-bcefd70786a3"
      },
      "outputs": [
        {
          "output_type": "execute_result",
          "data": {
            "text/plain": [
              "11.099549540409287"
            ]
          },
          "metadata": {},
          "execution_count": 74
        }
      ],
      "source": [
        "# stdev with statistics library\n",
        "stdev = statistics.stdev(x)\n",
        "stdev"
      ]
    },
    {
      "cell_type": "code",
      "execution_count": null,
      "id": "42a99611-712b-4f66-9dd9-3db692aebe5f",
      "metadata": {
        "colab": {
          "base_uri": "https://localhost:8080/"
        },
        "id": "42a99611-712b-4f66-9dd9-3db692aebe5f",
        "outputId": "08d7c45c-378a-4a3d-8f13-ee2147a9eed2"
      },
      "outputs": [
        {
          "output_type": "execute_result",
          "data": {
            "text/plain": [
              "11.099549540409285"
            ]
          },
          "metadata": {},
          "execution_count": 75
        }
      ],
      "source": [
        "stdev = np.std(x,ddof=1)\n",
        "stdev"
      ]
    },
    {
      "cell_type": "markdown",
      "id": "99eed0cf-8dba-4dd9-be62-bb2ff076ad1f",
      "metadata": {
        "id": "99eed0cf-8dba-4dd9-be62-bb2ff076ad1f"
      },
      "source": [
        "# SKEWNESS"
      ]
    },
    {
      "cell_type": "code",
      "execution_count": null,
      "id": "414bc870-9a79-48e3-b560-acf80c04061e",
      "metadata": {
        "colab": {
          "base_uri": "https://localhost:8080/"
        },
        "id": "414bc870-9a79-48e3-b560-acf80c04061e",
        "outputId": "1f62f458-5ec1-4266-daf6-14be23a83704"
      },
      "outputs": [
        {
          "output_type": "execute_result",
          "data": {
            "text/plain": [
              "[8, 1, 2.5, 4, 28]"
            ]
          },
          "metadata": {},
          "execution_count": 76
        }
      ],
      "source": [
        "x"
      ]
    },
    {
      "cell_type": "code",
      "execution_count": null,
      "id": "42e73efa-fa79-4c88-9248-5d45180c71d0",
      "metadata": {
        "colab": {
          "base_uri": "https://localhost:8080/"
        },
        "id": "42e73efa-fa79-4c88-9248-5d45180c71d0",
        "outputId": "a72b287d-ce90-47a7-aa31-0b0dd80fc817"
      },
      "outputs": [
        {
          "output_type": "execute_result",
          "data": {
            "text/plain": [
              "1.947043227390592"
            ]
          },
          "metadata": {},
          "execution_count": 77
        }
      ],
      "source": [
        "n = len(x)\n",
        "mean = np.mean(x)\n",
        "stdev = statistics.stdev(x)\n",
        "skew_ = (sum((item - mean)**3 for item in x))*n / ((n-1)*(n-2)*(stdev**3))\n",
        "skew_"
      ]
    },
    {
      "cell_type": "code",
      "execution_count": null,
      "id": "e0c328e8-ca25-4b2e-972c-5c3d6e6f4af9",
      "metadata": {
        "colab": {
          "base_uri": "https://localhost:8080/"
        },
        "id": "e0c328e8-ca25-4b2e-972c-5c3d6e6f4af9",
        "outputId": "95f1bcf4-c894-475d-9335-38333f983ee2"
      },
      "outputs": [
        {
          "output_type": "execute_result",
          "data": {
            "text/plain": [
              "1.9470432273905927"
            ]
          },
          "metadata": {},
          "execution_count": 78
        }
      ],
      "source": [
        "scipy.stats.skew(x,bias=False)"
      ]
    },
    {
      "cell_type": "code",
      "execution_count": null,
      "id": "b4aa00bc-ac40-45d6-a43c-befa4af1ef5a",
      "metadata": {
        "colab": {
          "base_uri": "https://localhost:8080/"
        },
        "id": "b4aa00bc-ac40-45d6-a43c-befa4af1ef5a",
        "outputId": "34155d02-97d4-4ef5-b35c-1392526231ce"
      },
      "outputs": [
        {
          "output_type": "execute_result",
          "data": {
            "text/plain": [
              "1.9470432273905924"
            ]
          },
          "metadata": {},
          "execution_count": 79
        }
      ],
      "source": [
        "z = pd.Series(x)\n",
        "z.skew()"
      ]
    },
    {
      "cell_type": "code",
      "execution_count": null,
      "id": "de541b12-d6f8-4815-9f8b-f795e3121fc6",
      "metadata": {
        "colab": {
          "base_uri": "https://localhost:8080/"
        },
        "id": "de541b12-d6f8-4815-9f8b-f795e3121fc6",
        "outputId": "72e74e87-d8df-45e1-8068-8c2491c3f1d9"
      },
      "outputs": [
        {
          "output_type": "execute_result",
          "data": {
            "text/plain": [
              "nan"
            ]
          },
          "metadata": {},
          "execution_count": 80
        }
      ],
      "source": [
        "scipy.stats.skew(x_with_nan)"
      ]
    },
    {
      "cell_type": "code",
      "execution_count": null,
      "id": "c3f00725-f44c-4e35-957f-19baedd3ce93",
      "metadata": {
        "colab": {
          "base_uri": "https://localhost:8080/"
        },
        "id": "c3f00725-f44c-4e35-957f-19baedd3ce93",
        "outputId": "f33b0c8c-36d1-49c6-baaf-df760a99e635"
      },
      "outputs": [
        {
          "output_type": "execute_result",
          "data": {
            "text/plain": [
              "1.9470432273905924"
            ]
          },
          "metadata": {},
          "execution_count": 81
        }
      ],
      "source": [
        "z_with_nan = pd.Series(x_with_nan)\n",
        "z_with_nan.skew()"
      ]
    },
    {
      "cell_type": "code",
      "execution_count": null,
      "id": "a9ac6a4a-4d0a-4e3b-8949-3536361d1e6b",
      "metadata": {
        "colab": {
          "base_uri": "https://localhost:8080/"
        },
        "id": "a9ac6a4a-4d0a-4e3b-8949-3536361d1e6b",
        "outputId": "28118395-8aac-4663-e357-78aaa8871dc5"
      },
      "outputs": [
        {
          "output_type": "execute_result",
          "data": {
            "text/plain": [
              "nan"
            ]
          },
          "metadata": {},
          "execution_count": 82
        }
      ],
      "source": [
        "scipy.stats.skew(z_with_nan)"
      ]
    },
    {
      "cell_type": "markdown",
      "id": "feb66559-5891-4a93-ba70-5aa558057493",
      "metadata": {
        "id": "feb66559-5891-4a93-ba70-5aa558057493"
      },
      "source": [
        "# Percentiles"
      ]
    },
    {
      "cell_type": "code",
      "execution_count": null,
      "id": "3a1c143f-3006-43f5-a593-d56bcef7059c",
      "metadata": {
        "colab": {
          "base_uri": "https://localhost:8080/"
        },
        "id": "3a1c143f-3006-43f5-a593-d56bcef7059c",
        "outputId": "a699030a-05ee-4b19-dcd3-5dd38c0e8db1"
      },
      "outputs": [
        {
          "output_type": "execute_result",
          "data": {
            "text/plain": [
              "-3.44"
            ]
          },
          "metadata": {},
          "execution_count": 83
        }
      ],
      "source": [
        "x = [-5,-1.1,0.1,2,8,12.8,21,25.8,41]\n",
        "np.percentile(x,5) #Percentile ke 5"
      ]
    },
    {
      "cell_type": "code",
      "execution_count": null,
      "id": "b2b150f4-abcd-4b53-9ee4-68297297ddf1",
      "metadata": {
        "colab": {
          "base_uri": "https://localhost:8080/"
        },
        "id": "b2b150f4-abcd-4b53-9ee4-68297297ddf1",
        "outputId": "23bab110-5abf-4594-de5d-6539a170ef21"
      },
      "outputs": [
        {
          "output_type": "execute_result",
          "data": {
            "text/plain": [
              "-5.0"
            ]
          },
          "metadata": {},
          "execution_count": 84
        }
      ],
      "source": [
        "np.percentile(x,0)"
      ]
    },
    {
      "cell_type": "code",
      "execution_count": null,
      "id": "720da84f-ce86-42e1-b96b-0da9945f5724",
      "metadata": {
        "colab": {
          "base_uri": "https://localhost:8080/"
        },
        "id": "720da84f-ce86-42e1-b96b-0da9945f5724",
        "outputId": "f2b93032-9871-44a0-c582-5f0d484001c5"
      },
      "outputs": [
        {
          "output_type": "execute_result",
          "data": {
            "text/plain": [
              "41.0"
            ]
          },
          "metadata": {},
          "execution_count": 85
        }
      ],
      "source": [
        "np.percentile(x,100)"
      ]
    },
    {
      "cell_type": "code",
      "execution_count": null,
      "id": "c96932f5-c841-4d78-a705-f968f0a07a11",
      "metadata": {
        "colab": {
          "base_uri": "https://localhost:8080/"
        },
        "id": "c96932f5-c841-4d78-a705-f968f0a07a11",
        "outputId": "dd36bc5e-819b-491b-d702-06b5fcfad852"
      },
      "outputs": [
        {
          "output_type": "execute_result",
          "data": {
            "text/plain": [
              "28.840000000000003"
            ]
          },
          "metadata": {},
          "execution_count": 86
        }
      ],
      "source": [
        "np.percentile(x,90)"
      ]
    },
    {
      "cell_type": "code",
      "execution_count": null,
      "id": "e0efd4c8-1d0e-4233-a3cc-043c14354c16",
      "metadata": {
        "colab": {
          "base_uri": "https://localhost:8080/"
        },
        "id": "e0efd4c8-1d0e-4233-a3cc-043c14354c16",
        "outputId": "25e63715-d407-4fc4-eca0-4118e03671d1"
      },
      "outputs": [
        {
          "output_type": "execute_result",
          "data": {
            "text/plain": [
              "[8.0]"
            ]
          },
          "metadata": {},
          "execution_count": 87
        }
      ],
      "source": [
        "statistics.quantiles(x,n=2)"
      ]
    },
    {
      "cell_type": "code",
      "execution_count": null,
      "id": "d27d6d2e-8d75-4a43-b1e8-db24d93d04a7",
      "metadata": {
        "colab": {
          "base_uri": "https://localhost:8080/"
        },
        "id": "d27d6d2e-8d75-4a43-b1e8-db24d93d04a7",
        "outputId": "6f928dbd-e89a-47ab-dd83-ddd9e70ab890"
      },
      "outputs": [
        {
          "output_type": "execute_result",
          "data": {
            "text/plain": [
              "[-0.5, 8.0, 23.4]"
            ]
          },
          "metadata": {},
          "execution_count": 88
        }
      ],
      "source": [
        "statistics.quantiles(x,n=4)"
      ]
    },
    {
      "cell_type": "code",
      "execution_count": null,
      "id": "10d6fed5-786d-4962-9fa3-ab46159c26f5",
      "metadata": {
        "colab": {
          "base_uri": "https://localhost:8080/"
        },
        "id": "10d6fed5-786d-4962-9fa3-ab46159c26f5",
        "outputId": "cb441f85-5b5b-41fa-d066-62b060713025"
      },
      "outputs": [
        {
          "output_type": "execute_result",
          "data": {
            "text/plain": [
              "[0.1, 8.0, 21.0]"
            ]
          },
          "metadata": {},
          "execution_count": 89
        }
      ],
      "source": [
        "statistics.quantiles(x,n=4,method='inclusive')"
      ]
    },
    {
      "cell_type": "code",
      "execution_count": null,
      "id": "6ec622b7-7f96-4306-bae5-b653ccde6b77",
      "metadata": {
        "colab": {
          "base_uri": "https://localhost:8080/"
        },
        "id": "6ec622b7-7f96-4306-bae5-b653ccde6b77",
        "outputId": "8f9ef4ea-b8a9-4d2b-ebd0-e3898f218273"
      },
      "outputs": [
        {
          "output_type": "execute_result",
          "data": {
            "text/plain": [
              "[-5, -1.1, 0.1, 2, 8, 12.8, 21, 25.8, 41]"
            ]
          },
          "metadata": {},
          "execution_count": 90
        }
      ],
      "source": [
        "x"
      ]
    },
    {
      "cell_type": "code",
      "execution_count": null,
      "id": "4da000c3-9015-47bd-97fc-3715aebaad1b",
      "metadata": {
        "colab": {
          "base_uri": "https://localhost:8080/"
        },
        "id": "4da000c3-9015-47bd-97fc-3715aebaad1b",
        "outputId": "7dc5b541-d75a-4096-93c2-01ebd731385a"
      },
      "outputs": [
        {
          "output_type": "execute_result",
          "data": {
            "text/plain": [
              "-5.0"
            ]
          },
          "metadata": {},
          "execution_count": 91
        }
      ],
      "source": [
        "np.quantile(x,0)"
      ]
    },
    {
      "cell_type": "code",
      "execution_count": null,
      "id": "bd56c579-06d3-4554-b35c-f31351d6b4a4",
      "metadata": {
        "colab": {
          "base_uri": "https://localhost:8080/"
        },
        "id": "bd56c579-06d3-4554-b35c-f31351d6b4a4",
        "outputId": "456df311-a59c-4dec-81d1-b618bbdf067b"
      },
      "outputs": [
        {
          "output_type": "execute_result",
          "data": {
            "text/plain": [
              "41.0"
            ]
          },
          "metadata": {},
          "execution_count": 92
        }
      ],
      "source": [
        "np.quantile(x,1)"
      ]
    },
    {
      "cell_type": "code",
      "execution_count": null,
      "id": "ebad606d-87e2-42f3-ba6a-1d47fed3c401",
      "metadata": {
        "colab": {
          "base_uri": "https://localhost:8080/"
        },
        "id": "ebad606d-87e2-42f3-ba6a-1d47fed3c401",
        "outputId": "d926aadf-4055-4835-bdb1-15b00f6212d8"
      },
      "outputs": [
        {
          "output_type": "execute_result",
          "data": {
            "text/plain": [
              "8.0"
            ]
          },
          "metadata": {},
          "execution_count": 93
        }
      ],
      "source": [
        "np.quantile(x,0.5)"
      ]
    },
    {
      "cell_type": "code",
      "execution_count": null,
      "id": "9ea41ec8-533b-4c75-8b2a-733826cc11ad",
      "metadata": {
        "colab": {
          "base_uri": "https://localhost:8080/"
        },
        "id": "9ea41ec8-533b-4c75-8b2a-733826cc11ad",
        "outputId": "83ada5b9-c65c-4638-e241-56486686f02e"
      },
      "outputs": [
        {
          "output_type": "execute_result",
          "data": {
            "text/plain": [
              "[-5, -1.1, 0.1, 2, 8, 12.8, 21, 25.8, 41]"
            ]
          },
          "metadata": {},
          "execution_count": 94
        }
      ],
      "source": [
        "x "
      ]
    },
    {
      "cell_type": "code",
      "execution_count": null,
      "id": "48f58272-59e0-41d2-848b-ae93a964b2c5",
      "metadata": {
        "colab": {
          "base_uri": "https://localhost:8080/"
        },
        "id": "48f58272-59e0-41d2-848b-ae93a964b2c5",
        "outputId": "ccbc23dd-6176-4cd4-9ba3-e29bec6be2b8"
      },
      "outputs": [
        {
          "output_type": "execute_result",
          "data": {
            "text/plain": [
              "[-5, -1.1, nan, 0.1, 2, 8, 12.8, 21, 25.8, 41]"
            ]
          },
          "metadata": {},
          "execution_count": 95
        }
      ],
      "source": [
        "x_with_nan = [-5, -1.1,np.nan, 0.1, 2, 8, 12.8, 21, 25.8, 41]\n",
        "x_with_nan"
      ]
    },
    {
      "cell_type": "code",
      "execution_count": null,
      "id": "651294a2-051f-4459-8615-d3436abd99f4",
      "metadata": {
        "colab": {
          "base_uri": "https://localhost:8080/"
        },
        "id": "651294a2-051f-4459-8615-d3436abd99f4",
        "outputId": "fa9f4178-39b5-4d10-f1bc-f90ec3998662"
      },
      "outputs": [
        {
          "output_type": "execute_result",
          "data": {
            "text/plain": [
              "nan"
            ]
          },
          "metadata": {},
          "execution_count": 96
        }
      ],
      "source": [
        "np.quantile(x_with_nan,0)"
      ]
    },
    {
      "cell_type": "code",
      "execution_count": null,
      "id": "be9e3a30-0815-446a-967e-5cfafae09918",
      "metadata": {
        "colab": {
          "base_uri": "https://localhost:8080/"
        },
        "id": "be9e3a30-0815-446a-967e-5cfafae09918",
        "outputId": "19ff415a-99e4-4b79-cdb0-5cfe371e7dfd"
      },
      "outputs": [
        {
          "output_type": "execute_result",
          "data": {
            "text/plain": [
              "8.0"
            ]
          },
          "metadata": {},
          "execution_count": 97
        }
      ],
      "source": [
        "np.nanquantile(x_with_nan,0.5)"
      ]
    },
    {
      "cell_type": "code",
      "execution_count": null,
      "id": "6c2c3553-14a9-4719-b927-9defee40c647",
      "metadata": {
        "colab": {
          "base_uri": "https://localhost:8080/"
        },
        "id": "6c2c3553-14a9-4719-b927-9defee40c647",
        "outputId": "8eab9c10-90c0-415a-cc9d-793facdb6663"
      },
      "outputs": [
        {
          "output_type": "execute_result",
          "data": {
            "text/plain": [
              "[-5, -1.1, 0.1, 2, 8, 12.8, 21, 25.8, 41]"
            ]
          },
          "metadata": {},
          "execution_count": 98
        }
      ],
      "source": [
        "x"
      ]
    },
    {
      "cell_type": "code",
      "execution_count": null,
      "id": "ac9ce30c-6491-4807-bbde-d45699d1293e",
      "metadata": {
        "colab": {
          "base_uri": "https://localhost:8080/"
        },
        "id": "ac9ce30c-6491-4807-bbde-d45699d1293e",
        "outputId": "747eb10a-2972-4704-9d95-cc208f407290"
      },
      "outputs": [
        {
          "output_type": "execute_result",
          "data": {
            "text/plain": [
              "array([ 0.1,  8. , 21. ])"
            ]
          },
          "metadata": {},
          "execution_count": 99
        }
      ],
      "source": [
        "np.quantile(x,[0.25,0.5,0.75])"
      ]
    },
    {
      "cell_type": "code",
      "execution_count": null,
      "id": "45c65cc0-940b-4934-9369-8e3f82c180c9",
      "metadata": {
        "colab": {
          "base_uri": "https://localhost:8080/"
        },
        "id": "45c65cc0-940b-4934-9369-8e3f82c180c9",
        "outputId": "8f133bd0-df34-4631-e3e3-d170fc008cb6"
      },
      "outputs": [
        {
          "output_type": "execute_result",
          "data": {
            "text/plain": [
              "[0.1, 8.0, 21.0]"
            ]
          },
          "metadata": {},
          "execution_count": 100
        }
      ],
      "source": [
        "statistics.quantiles(x,n=4,method='inclusive')"
      ]
    },
    {
      "cell_type": "code",
      "execution_count": null,
      "id": "902baeab-859e-4a5c-8701-4c068028eac6",
      "metadata": {
        "colab": {
          "base_uri": "https://localhost:8080/"
        },
        "id": "902baeab-859e-4a5c-8701-4c068028eac6",
        "outputId": "64f1511f-c3af-4a63-8d7f-6a630be5e800"
      },
      "outputs": [
        {
          "output_type": "execute_result",
          "data": {
            "text/plain": [
              "array([ 0.1,  8. , 21. ])"
            ]
          },
          "metadata": {},
          "execution_count": 101
        }
      ],
      "source": [
        "np.percentile(x,[25,50,75])"
      ]
    },
    {
      "cell_type": "markdown",
      "id": "ef8c778d-9d3e-4d00-9bc2-b72d6ddacec8",
      "metadata": {
        "id": "ef8c778d-9d3e-4d00-9bc2-b72d6ddacec8"
      },
      "source": [
        "# RANGES (Nilai Max - Nilai Min)"
      ]
    },
    {
      "cell_type": "code",
      "execution_count": null,
      "id": "31a7674d-293e-4ba9-89f8-468ee5196075",
      "metadata": {
        "colab": {
          "base_uri": "https://localhost:8080/"
        },
        "id": "31a7674d-293e-4ba9-89f8-468ee5196075",
        "outputId": "80e8b717-3e34-42d5-b5ef-d5093bf0dfd5"
      },
      "outputs": [
        {
          "output_type": "execute_result",
          "data": {
            "text/plain": [
              "[-5, -1.1, 0.1, 2, 8, 12.8, 21, 25.8, 41]"
            ]
          },
          "metadata": {},
          "execution_count": 102
        }
      ],
      "source": [
        "x # Ranges  = 41 - (-5) = 46"
      ]
    },
    {
      "cell_type": "code",
      "execution_count": null,
      "id": "47f45962-c7fe-426b-81a8-e665f777cbff",
      "metadata": {
        "colab": {
          "base_uri": "https://localhost:8080/"
        },
        "id": "47f45962-c7fe-426b-81a8-e665f777cbff",
        "outputId": "f86b5fb9-b187-48f5-ee83-f6f582fbbee4"
      },
      "outputs": [
        {
          "output_type": "execute_result",
          "data": {
            "text/plain": [
              "46.0"
            ]
          },
          "metadata": {},
          "execution_count": 103
        }
      ],
      "source": [
        "# np.ptp untuk menghitung range\n",
        "np.ptp(x)"
      ]
    },
    {
      "cell_type": "code",
      "execution_count": null,
      "id": "1fa49805-acbe-4c5a-8fdb-95eea2cc8a94",
      "metadata": {
        "colab": {
          "base_uri": "https://localhost:8080/"
        },
        "id": "1fa49805-acbe-4c5a-8fdb-95eea2cc8a94",
        "outputId": "6da1a021-1bee-4403-d6da-e7367eafeb1d"
      },
      "outputs": [
        {
          "output_type": "execute_result",
          "data": {
            "text/plain": [
              "41.0"
            ]
          },
          "metadata": {},
          "execution_count": 104
        }
      ],
      "source": [
        "np.amax(x)"
      ]
    },
    {
      "cell_type": "code",
      "execution_count": null,
      "id": "685634a2-c190-4488-b630-cea448929c20",
      "metadata": {
        "colab": {
          "base_uri": "https://localhost:8080/"
        },
        "id": "685634a2-c190-4488-b630-cea448929c20",
        "outputId": "93c86feb-df72-4632-a1ad-2e4fc8b4d3b2"
      },
      "outputs": [
        {
          "output_type": "execute_result",
          "data": {
            "text/plain": [
              "-5.0"
            ]
          },
          "metadata": {},
          "execution_count": 105
        }
      ],
      "source": [
        "np.amin(x)"
      ]
    },
    {
      "cell_type": "code",
      "execution_count": null,
      "id": "75f23136-508c-40d6-8235-84e73a6b9ebd",
      "metadata": {
        "colab": {
          "base_uri": "https://localhost:8080/"
        },
        "id": "75f23136-508c-40d6-8235-84e73a6b9ebd",
        "outputId": "7ecd2e88-94a9-47a6-e51d-686c6d4636d5"
      },
      "outputs": [
        {
          "output_type": "execute_result",
          "data": {
            "text/plain": [
              "46.0"
            ]
          },
          "metadata": {},
          "execution_count": 106
        }
      ],
      "source": [
        "np.amax(x) - np.amin(x)"
      ]
    },
    {
      "cell_type": "markdown",
      "id": "75b4f112-75b2-4914-90ce-91da3c347e5f",
      "metadata": {
        "id": "75b4f112-75b2-4914-90ce-91da3c347e5f"
      },
      "source": [
        "# INTERQUANTILE RANGE (Q3-Q1) (biasanya digunakan untuk mendeteksi outlier)"
      ]
    },
    {
      "cell_type": "code",
      "execution_count": null,
      "id": "d31d42c4-f49a-4328-a1cd-d470afa74071",
      "metadata": {
        "colab": {
          "base_uri": "https://localhost:8080/"
        },
        "id": "d31d42c4-f49a-4328-a1cd-d470afa74071",
        "outputId": "5c2a8d5e-4265-47ab-9c28-9a93ba72317a"
      },
      "outputs": [
        {
          "output_type": "execute_result",
          "data": {
            "text/plain": [
              "[-5, -1.1, 0.1, 2, 8, 12.8, 21, 25.8, 41]"
            ]
          },
          "metadata": {},
          "execution_count": 107
        }
      ],
      "source": [
        "x"
      ]
    },
    {
      "cell_type": "code",
      "execution_count": null,
      "id": "2fd7fb79-5c6e-4741-8910-e6f82137acad",
      "metadata": {
        "colab": {
          "base_uri": "https://localhost:8080/"
        },
        "id": "2fd7fb79-5c6e-4741-8910-e6f82137acad",
        "outputId": "eec8e989-f685-4ec4-e22f-c09981d4cb61"
      },
      "outputs": [
        {
          "output_type": "execute_result",
          "data": {
            "text/plain": [
              "20.9"
            ]
          },
          "metadata": {},
          "execution_count": 108
        }
      ],
      "source": [
        "quartiles = np.quantile(x,[0.25,0.75])\n",
        "IQR = quartiles[1] - quartiles[0]\n",
        "IQR"
      ]
    },
    {
      "cell_type": "markdown",
      "id": "19bfb3e1-8c3c-4f88-9768-ec830962120a",
      "metadata": {
        "id": "19bfb3e1-8c3c-4f88-9768-ec830962120a"
      },
      "source": [
        "# Summary of Desc. Stats"
      ]
    },
    {
      "cell_type": "code",
      "execution_count": null,
      "id": "3c597eb4-3c75-4565-aa1b-6b9d767e888b",
      "metadata": {
        "colab": {
          "base_uri": "https://localhost:8080/"
        },
        "id": "3c597eb4-3c75-4565-aa1b-6b9d767e888b",
        "outputId": "6660f5a3-8499-4432-c9e0-6dad538f4c79"
      },
      "outputs": [
        {
          "output_type": "execute_result",
          "data": {
            "text/plain": [
              "[-5, -1.1, 0.1, 2, 8, 12.8, 21, 25.8, 41]"
            ]
          },
          "metadata": {},
          "execution_count": 109
        }
      ],
      "source": [
        "x"
      ]
    },
    {
      "cell_type": "code",
      "execution_count": null,
      "id": "6ec9b12b-ab46-41aa-b8a1-77b559d78761",
      "metadata": {
        "colab": {
          "base_uri": "https://localhost:8080/"
        },
        "id": "6ec9b12b-ab46-41aa-b8a1-77b559d78761",
        "outputId": "84589f59-b4b6-46e6-9783-961410879ec1"
      },
      "outputs": [
        {
          "output_type": "execute_result",
          "data": {
            "text/plain": [
              "DescribeResult(nobs=9, minmax=(-5.0, 41.0), mean=11.622222222222222, variance=228.75194444444446, skewness=0.9249043136685094, kurtosis=0.14770623629658886)"
            ]
          },
          "metadata": {},
          "execution_count": 110
        }
      ],
      "source": [
        "result = scipy.stats.describe(x,ddof=1,bias=False)\n",
        "result"
      ]
    },
    {
      "cell_type": "code",
      "execution_count": null,
      "id": "255938ff-7422-4634-8c40-6bc5b180e7cc",
      "metadata": {
        "colab": {
          "base_uri": "https://localhost:8080/"
        },
        "id": "255938ff-7422-4634-8c40-6bc5b180e7cc",
        "outputId": "33bf007e-a778-4aeb-d544-ae8f2048f6c1"
      },
      "outputs": [
        {
          "output_type": "execute_result",
          "data": {
            "text/plain": [
              "15.12454774346805"
            ]
          },
          "metadata": {},
          "execution_count": 111
        }
      ],
      "source": [
        "(result.variance)**(1/2)"
      ]
    },
    {
      "cell_type": "code",
      "execution_count": null,
      "id": "d57d33d0-40ec-4d9c-86f6-bae2eae305ad",
      "metadata": {
        "colab": {
          "base_uri": "https://localhost:8080/"
        },
        "id": "d57d33d0-40ec-4d9c-86f6-bae2eae305ad",
        "outputId": "563eb0a4-bf1f-4c8d-eeba-a1790b519d97"
      },
      "outputs": [
        {
          "output_type": "execute_result",
          "data": {
            "text/plain": [
              "46.0"
            ]
          },
          "metadata": {},
          "execution_count": 112
        }
      ],
      "source": [
        "result.minmax[1]-result.minmax[0]"
      ]
    },
    {
      "cell_type": "code",
      "execution_count": null,
      "id": "9620110d-ceb0-455d-b5a4-12c4356fe906",
      "metadata": {
        "colab": {
          "base_uri": "https://localhost:8080/"
        },
        "id": "9620110d-ceb0-455d-b5a4-12c4356fe906",
        "outputId": "59c4422a-2aba-43d3-c3e9-798aa4fcce7f"
      },
      "outputs": [
        {
          "output_type": "execute_result",
          "data": {
            "text/plain": [
              "0.9249043136685094"
            ]
          },
          "metadata": {},
          "execution_count": 113
        }
      ],
      "source": [
        "result.skewness"
      ]
    },
    {
      "cell_type": "code",
      "execution_count": null,
      "id": "8e9b4f8f-79e9-4c4c-9eb3-397e4504bbda",
      "metadata": {
        "colab": {
          "base_uri": "https://localhost:8080/"
        },
        "id": "8e9b4f8f-79e9-4c4c-9eb3-397e4504bbda",
        "outputId": "08ace3a8-6377-4567-cfde-23d578442f3e"
      },
      "outputs": [
        {
          "output_type": "execute_result",
          "data": {
            "text/plain": [
              "0    -5.0\n",
              "1    -1.1\n",
              "2     0.1\n",
              "3     2.0\n",
              "4     8.0\n",
              "5    12.8\n",
              "6    21.0\n",
              "7    25.8\n",
              "8    41.0\n",
              "dtype: float64"
            ]
          },
          "metadata": {},
          "execution_count": 114
        }
      ],
      "source": [
        "z = pd.Series(x)\n",
        "z"
      ]
    },
    {
      "cell_type": "code",
      "execution_count": null,
      "id": "c7ce746b-addd-4ca9-a77c-f85470d9eba2",
      "metadata": {
        "colab": {
          "base_uri": "https://localhost:8080/"
        },
        "id": "c7ce746b-addd-4ca9-a77c-f85470d9eba2",
        "outputId": "e875810e-fe4d-4ed9-fed1-f6e3a1e36776"
      },
      "outputs": [
        {
          "output_type": "execute_result",
          "data": {
            "text/plain": [
              "count     9.000000\n",
              "mean     11.622222\n",
              "std      15.124548\n",
              "min      -5.000000\n",
              "25%       0.100000\n",
              "50%       8.000000\n",
              "75%      21.000000\n",
              "max      41.000000\n",
              "dtype: float64"
            ]
          },
          "metadata": {},
          "execution_count": 115
        }
      ],
      "source": [
        "z.describe()"
      ]
    },
    {
      "cell_type": "markdown",
      "id": "6d834955-e0cc-41d3-b8f0-b90464ce6f04",
      "metadata": {
        "id": "6d834955-e0cc-41d3-b8f0-b90464ce6f04"
      },
      "source": [
        "# CORRELATION"
      ]
    },
    {
      "cell_type": "code",
      "execution_count": null,
      "id": "cf1edac5-ba32-4a41-9460-899c69ba9fbf",
      "metadata": {
        "id": "cf1edac5-ba32-4a41-9460-899c69ba9fbf"
      },
      "outputs": [],
      "source": [
        "x = list(range(-10,11))\n",
        "y = [0 , 2, 2, 2, 2, 3, 3, 6, 7, 4, 7, 6, 6, 9, 4, 5, 5, 10, 11, 12, 14]\n",
        "x_ar, y_ar = np.array(x),np.array(y)\n",
        "x_s,y_s = pd.Series(x),pd.Series(y)"
      ]
    },
    {
      "cell_type": "code",
      "execution_count": null,
      "id": "c05d8ced-dc96-4b3e-9032-48bea997a2c8",
      "metadata": {
        "colab": {
          "base_uri": "https://localhost:8080/"
        },
        "id": "c05d8ced-dc96-4b3e-9032-48bea997a2c8",
        "outputId": "612d9566-6a78-477a-a477-b61ddd8d0049"
      },
      "outputs": [
        {
          "output_type": "execute_result",
          "data": {
            "text/plain": [
              "True"
            ]
          },
          "metadata": {},
          "execution_count": 117
        }
      ],
      "source": [
        "len(x)==len(y)"
      ]
    },
    {
      "cell_type": "markdown",
      "id": "0ffdee56-0d28-4a6e-8a97-29d53e2e59e6",
      "metadata": {
        "id": "0ffdee56-0d28-4a6e-8a97-29d53e2e59e6"
      },
      "source": [
        "# COVARIANCE"
      ]
    },
    {
      "cell_type": "code",
      "execution_count": null,
      "id": "71f1e359-dd6c-47f3-adf7-8becbdbc2656",
      "metadata": {
        "colab": {
          "base_uri": "https://localhost:8080/"
        },
        "id": "71f1e359-dd6c-47f3-adf7-8becbdbc2656",
        "outputId": "a61145f9-b2f2-43d7-ced1-ab115c07a351"
      },
      "outputs": [
        {
          "output_type": "execute_result",
          "data": {
            "text/plain": [
              "19.95"
            ]
          },
          "metadata": {},
          "execution_count": 118
        }
      ],
      "source": [
        "n = len(x)\n",
        "mean_x = np.mean(x)\n",
        "mean_y = np.mean(y)\n",
        "\n",
        "cov_xy = (sum((x[item]-mean_x)*(y[item]-mean_y) for item in range(n)))/(n-1)\n",
        "cov_xy"
      ]
    },
    {
      "cell_type": "code",
      "execution_count": null,
      "id": "c1fd96d8-7cbe-4481-a7d3-d7bbf3fdca3d",
      "metadata": {
        "colab": {
          "base_uri": "https://localhost:8080/"
        },
        "id": "c1fd96d8-7cbe-4481-a7d3-d7bbf3fdca3d",
        "outputId": "d3f7e63d-7110-4d4e-8bc2-57352021bc16"
      },
      "outputs": [
        {
          "output_type": "execute_result",
          "data": {
            "text/plain": [
              "array([[38.5       , 19.95      ],\n",
              "       [19.95      , 13.91428571]])"
            ]
          },
          "metadata": {},
          "execution_count": 119
        }
      ],
      "source": [
        "cov_matrix = np.cov(x,y)\n",
        "cov_matrix"
      ]
    },
    {
      "cell_type": "code",
      "execution_count": null,
      "id": "d8551eea-401b-4a04-947c-eb0cbd530bde",
      "metadata": {
        "colab": {
          "base_uri": "https://localhost:8080/"
        },
        "id": "d8551eea-401b-4a04-947c-eb0cbd530bde",
        "outputId": "b746c9cb-a4ab-4160-aee2-ccc062629c37"
      },
      "outputs": [
        {
          "output_type": "execute_result",
          "data": {
            "text/plain": [
              "38.5"
            ]
          },
          "metadata": {},
          "execution_count": 120
        }
      ],
      "source": [
        "np.var(x,ddof=1)"
      ]
    },
    {
      "cell_type": "code",
      "execution_count": null,
      "id": "ba419921-19c3-4698-b5ff-6a79a4ddbcac",
      "metadata": {
        "colab": {
          "base_uri": "https://localhost:8080/"
        },
        "id": "ba419921-19c3-4698-b5ff-6a79a4ddbcac",
        "outputId": "7af30ab9-93dc-4415-a5f0-01af762074d6"
      },
      "outputs": [
        {
          "output_type": "execute_result",
          "data": {
            "text/plain": [
              "13.914285714285711"
            ]
          },
          "metadata": {},
          "execution_count": 121
        }
      ],
      "source": [
        "np.var(y,ddof=1)"
      ]
    },
    {
      "cell_type": "code",
      "execution_count": null,
      "id": "5cee6b1d-068e-4a78-a8fa-e0f0cdb6be5b",
      "metadata": {
        "colab": {
          "base_uri": "https://localhost:8080/"
        },
        "id": "5cee6b1d-068e-4a78-a8fa-e0f0cdb6be5b",
        "outputId": "6fc92432-8c9a-4ec7-9074-df3fce6482d5"
      },
      "outputs": [
        {
          "output_type": "execute_result",
          "data": {
            "text/plain": [
              "19.95"
            ]
          },
          "metadata": {},
          "execution_count": 122
        }
      ],
      "source": [
        "cov_xy = cov_matrix[0,1]\n",
        "cov_xy"
      ]
    },
    {
      "cell_type": "code",
      "execution_count": null,
      "id": "8488cc97-074a-49aa-ba1a-1f111de8d295",
      "metadata": {
        "colab": {
          "base_uri": "https://localhost:8080/"
        },
        "id": "8488cc97-074a-49aa-ba1a-1f111de8d295",
        "outputId": "881b15a0-71b2-4da8-f5ef-c18002900143"
      },
      "outputs": [
        {
          "output_type": "execute_result",
          "data": {
            "text/plain": [
              "19.95"
            ]
          },
          "metadata": {},
          "execution_count": 123
        }
      ],
      "source": [
        "cov_xy = cov_matrix[1,0]\n",
        "cov_xy"
      ]
    },
    {
      "cell_type": "markdown",
      "id": "65c53a9d-ca5e-41a0-8f9c-9b98c9f3f721",
      "metadata": {
        "id": "65c53a9d-ca5e-41a0-8f9c-9b98c9f3f721"
      },
      "source": [
        "## Correlation Coefficient"
      ]
    },
    {
      "cell_type": "markdown",
      "id": "8a3d7051-d689-4b3d-863b-61b6cc0d7dbf",
      "metadata": {
        "id": "8a3d7051-d689-4b3d-863b-61b6cc0d7dbf"
      },
      "source": [
        "r = 1 / r= -1 atau mendekati merupakan tanda kedua variabel mengalami multicollinearity"
      ]
    },
    {
      "cell_type": "code",
      "execution_count": null,
      "id": "5d4ab399-891e-4ebb-aacb-4c8d4e3abeb6",
      "metadata": {
        "colab": {
          "base_uri": "https://localhost:8080/"
        },
        "id": "5d4ab399-891e-4ebb-aacb-4c8d4e3abeb6",
        "outputId": "6090994c-12d9-49a1-a560-7e9796014ac3"
      },
      "outputs": [
        {
          "output_type": "execute_result",
          "data": {
            "text/plain": [
              "0.861950005631606"
            ]
          },
          "metadata": {},
          "execution_count": 124
        }
      ],
      "source": [
        "# korelasi kuat karna mendekati 1\n",
        "var_x = np.var(x,ddof=1)\n",
        "var_y = np.var(y,ddof=1)\n",
        "cov_xy\n",
        "std_x = var_x**(1/2)\n",
        "std_y = var_y**(1/2)\n",
        "r = cov_xy / (std_x*std_y)\n",
        "r"
      ]
    },
    {
      "cell_type": "code",
      "execution_count": null,
      "id": "6f35c2d7-748e-4e34-8d80-483f867d1627",
      "metadata": {
        "colab": {
          "base_uri": "https://localhost:8080/"
        },
        "id": "6f35c2d7-748e-4e34-8d80-483f867d1627",
        "outputId": "b03db662-ebab-4fbf-9bb8-e07b58ff70b2"
      },
      "outputs": [
        {
          "output_type": "execute_result",
          "data": {
            "text/plain": [
              "0.8619500056316061"
            ]
          },
          "metadata": {},
          "execution_count": 125
        }
      ],
      "source": [
        "r , p = scipy.stats.pearsonr(x,y)\n",
        "r"
      ]
    },
    {
      "cell_type": "code",
      "execution_count": null,
      "id": "2ab025a8-2913-4c37-a00a-9bf4b3c2707a",
      "metadata": {
        "colab": {
          "base_uri": "https://localhost:8080/"
        },
        "id": "2ab025a8-2913-4c37-a00a-9bf4b3c2707a",
        "outputId": "1383d2ad-6db7-45c9-a027-eced00e99ede"
      },
      "outputs": [
        {
          "output_type": "execute_result",
          "data": {
            "text/plain": [
              "5.122760847201132e-07"
            ]
          },
          "metadata": {},
          "execution_count": 126
        }
      ],
      "source": [
        "p"
      ]
    }
  ],
  "metadata": {
    "kernelspec": {
      "display_name": "Python 3 (ipykernel)",
      "language": "python",
      "name": "python3"
    },
    "language_info": {
      "codemirror_mode": {
        "name": "ipython",
        "version": 3
      },
      "file_extension": ".py",
      "mimetype": "text/x-python",
      "name": "python",
      "nbconvert_exporter": "python",
      "pygments_lexer": "ipython3",
      "version": "3.8.8"
    },
    "colab": {
      "provenance": []
    }
  },
  "nbformat": 4,
  "nbformat_minor": 5
}